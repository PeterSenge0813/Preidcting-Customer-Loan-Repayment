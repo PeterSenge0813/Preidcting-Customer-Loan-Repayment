{
 "cells": [
  {
   "cell_type": "code",
   "execution_count": 50,
   "metadata": {
    "collapsed": true
   },
   "outputs": [],
   "source": [
    "import pandas as pd\n",
    "import numpy as np\n",
    "from sklearn import linear_model\n",
    "from sklearn.model_selection import train_test_split\n",
    "from sklearn.metrics import mean_squared_error, r2_score\n",
    "import matplotlib.pyplot as plt\n",
    "from scipy import stats\n",
    "%matplotlib inline\n",
    "import seaborn as sns\n",
    "import matplotlib.pyplot as plt"
   ]
  },
  {
   "cell_type": "code",
   "execution_count": 59,
   "metadata": {
    "collapsed": true
   },
   "outputs": [],
   "source": [
    "train=pd.read_csv('./Data/Train.csv')\n",
    "test=pd.read_csv('./Data/Test.csv')\n",
    "train['seperate']=0\n",
    "test['seperate']=1\n",
    "data=pd.concat([train,test])"
   ]
  },
  {
   "cell_type": "code",
   "execution_count": 60,
   "metadata": {},
   "outputs": [
    {
     "data": {
      "text/plain": [
       "((1460, 82), (1459, 81))"
      ]
     },
     "execution_count": 60,
     "metadata": {},
     "output_type": "execute_result"
    }
   ],
   "source": [
    "train.shape,test.shape"
   ]
  },
  {
   "cell_type": "code",
   "execution_count": 61,
   "metadata": {},
   "outputs": [
    {
     "data": {
      "text/plain": [
       "1stFlrSF            0\n",
       "2ndFlrSF            0\n",
       "3SsnPorch           0\n",
       "Alley            2721\n",
       "BedroomAbvGr        0\n",
       "BldgType            0\n",
       "BsmtCond           82\n",
       "BsmtExposure       82\n",
       "BsmtFinSF1          1\n",
       "BsmtFinSF2          1\n",
       "BsmtFinType1       79\n",
       "BsmtFinType2       80\n",
       "BsmtFullBath        2\n",
       "BsmtHalfBath        2\n",
       "BsmtQual           81\n",
       "BsmtUnfSF           1\n",
       "CentralAir          0\n",
       "Condition1          0\n",
       "Condition2          0\n",
       "Electrical          1\n",
       "EnclosedPorch       0\n",
       "ExterCond           0\n",
       "ExterQual           0\n",
       "Exterior1st         1\n",
       "Exterior2nd         1\n",
       "Fence            2348\n",
       "FireplaceQu      1420\n",
       "Fireplaces          0\n",
       "Foundation          0\n",
       "FullBath            0\n",
       "                 ... \n",
       "LowQualFinSF        0\n",
       "MSSubClass          0\n",
       "MSZoning            4\n",
       "MasVnrArea         23\n",
       "MasVnrType         24\n",
       "MiscFeature      2814\n",
       "MiscVal             0\n",
       "MoSold              0\n",
       "Neighborhood        0\n",
       "OpenPorchSF         0\n",
       "OverallCond         0\n",
       "OverallQual         0\n",
       "PavedDrive          0\n",
       "PoolArea            0\n",
       "PoolQC           2909\n",
       "RoofMatl            0\n",
       "RoofStyle           0\n",
       "SaleCondition       0\n",
       "SalePrice        1459\n",
       "SaleType            1\n",
       "ScreenPorch         0\n",
       "Street              0\n",
       "TotRmsAbvGrd        0\n",
       "TotalBsmtSF         1\n",
       "Utilities           2\n",
       "WoodDeckSF          0\n",
       "YearBuilt           0\n",
       "YearRemodAdd        0\n",
       "YrSold              0\n",
       "seperate            0\n",
       "Length: 82, dtype: int64"
      ]
     },
     "execution_count": 61,
     "metadata": {},
     "output_type": "execute_result"
    }
   ],
   "source": [
    "data.isnull().sum()"
   ]
  },
  {
   "cell_type": "code",
   "execution_count": 62,
   "metadata": {},
   "outputs": [
    {
     "data": {
      "text/plain": [
       "(0, 2919)"
      ]
     },
     "execution_count": 62,
     "metadata": {},
     "output_type": "execute_result"
    }
   ],
   "source": [
    "data_without_null=data.dropna()\n",
    "data_without_null.shape[0],data.shape[0]\n",
    "#seems like every column has some kind of missing value. "
   ]
  },
  {
   "cell_type": "markdown",
   "metadata": {},
   "source": [
    "# check Target Attribute : SalePrice<br>\n",
    "# we will use histogram to check the attribute is follow normal distribution. "
   ]
  },
  {
   "cell_type": "code",
   "execution_count": 63,
   "metadata": {
    "scrolled": true
   },
   "outputs": [
    {
     "data": {
      "image/png": "[encoded data removed]",
      "text/plain": [
       "<matplotlib.figure.Figure at 0x1124c4a90>"
      ]
     },
     "metadata": {},
     "output_type": "display_data"
    }
   ],
   "source": [
    "plt.figure(figsize=(7,4))\n",
    "sns.distplot(data['SalePrice'].dropna());"
   ]
  },
  {
   "cell_type": "code",
   "execution_count": 64,
   "metadata": {
    "scrolled": true
   },
   "outputs": [
    {
     "data": {
      "text/plain": [
       "<matplotlib.collections.PathCollection at 0x111dc2f60>"
      ]
     },
     "execution_count": 64,
     "metadata": {},
     "output_type": "execute_result"
    },
    {
     "data": {
      "image/png": "[encoded data removed]",
      "text/plain": [
       "<matplotlib.figure.Figure at 0x1161fcda0>"
      ]
     },
     "metadata": {},
     "output_type": "display_data"
    }
   ],
   "source": [
    "#The histogram is left skewed. So we will use log 1p to remove the skewness\n",
    "plt.scatter(train['GrLivArea'],train['SalePrice'])"
   ]
  },
  {
   "cell_type": "markdown",
   "metadata": {},
   "source": [
    "is all training data usable? start from targeting variable, remove the outliers. large living area but lower than the avearge. Therefore we need to find out those outliers and remove them. \n",
    "Using the old trick: check the describe. and index the dataframe based on the describe()"
   ]
  },
  {
   "cell_type": "code",
   "execution_count": 65,
   "metadata": {
    "scrolled": true
   },
   "outputs": [
    {
     "data": {
      "text/html": [
       "<div>\n",
       "<style>\n",
       "    .dataframe thead tr:only-child th {\n",
       "        text-align: right;\n",
       "    }\n",
       "\n",
       "    .dataframe thead th {\n",
       "        text-align: left;\n",
       "    }\n",
       "\n",
       "    .dataframe tbody tr th {\n",
       "        vertical-align: top;\n",
       "    }\n",
       "</style>\n",
       "<table border=\"1\" class=\"dataframe\">\n",
       "  <thead>\n",
       "    <tr style=\"text-align: right;\">\n",
       "      <th></th>\n",
       "      <th>Id</th>\n",
       "      <th>GrLivArea</th>\n",
       "      <th>SalePrice</th>\n",
       "    </tr>\n",
       "  </thead>\n",
       "  <tbody>\n",
       "    <tr>\n",
       "      <th>523</th>\n",
       "      <td>524</td>\n",
       "      <td>4676</td>\n",
       "      <td>184750</td>\n",
       "    </tr>\n",
       "    <tr>\n",
       "      <th>1298</th>\n",
       "      <td>1299</td>\n",
       "      <td>5642</td>\n",
       "      <td>160000</td>\n",
       "    </tr>\n",
       "  </tbody>\n",
       "</table>\n",
       "</div>"
      ],
      "text/plain": [
       "        Id  GrLivArea  SalePrice\n",
       "523    524       4676     184750\n",
       "1298  1299       5642     160000"
      ]
     },
     "execution_count": 65,
     "metadata": {},
     "output_type": "execute_result"
    }
   ],
   "source": [
    "train[ (train['GrLivArea']>3090) & (train['SalePrice']<190000)][['Id','GrLivArea','SalePrice']]"
   ]
  },
  {
   "cell_type": "code",
   "execution_count": 66,
   "metadata": {},
   "outputs": [],
   "source": [
    "#define the new train dataset\n",
    "train=train.drop((train['GrLivArea']>3090) & (train['SalePrice']<190000))\n",
    "#no longer requrie the old index. \n",
    "train.reset_index(drop=True, inplace=True)\n",
    "train['SalePrice']=np.log1p(train['SalePrice'])\n",
    "y=train['SalePrice'].reset_index(drop=True)"
   ]
  },
  {
   "cell_type": "code",
   "execution_count": 69,
   "metadata": {
    "scrolled": true
   },
   "outputs": [
    {
     "data": {
      "image/png": "[encoded data removed]",
      "text/plain": [
       "<matplotlib.figure.Figure at 0x11267e630>"
      ]
     },
     "metadata": {},
     "output_type": "display_data"
    }
   ],
   "source": [
    "#recheck the histgram\n",
    "sns.distplot(train['SalePrice']);\n",
    "# the data is more balaneced. Suitable for training and prediction purpose "
   ]
  },
  {
   "cell_type": "markdown",
   "metadata": {},
   "source": [
    "# Features "
   ]
  },
  {
   "cell_type": "markdown",
   "metadata": {},
   "source": [
    "# Step1: drop ID and combine all features from train and test together"
   ]
  },
  {
   "cell_type": "code",
   "execution_count": 70,
   "metadata": {
    "collapsed": true
   },
   "outputs": [],
   "source": [
    "train.drop(['Id'],axis=1, inplace=True)\n",
    "test.drop(['Id'],axis=1, inplace=True)"
   ]
  },
  {
   "cell_type": "code",
   "execution_count": 75,
   "metadata": {},
   "outputs": [],
   "source": [
    "train_features=train.drop(['SalePrice'],axis=1,inplace=True)\n",
    "test_features=test\n",
    "features=pd.concat([train_features,test_features]).reset_index(drop=True)"
   ]
  },
  {
   "cell_type": "code",
   "execution_count": 81,
   "metadata": {
    "scrolled": false
   },
   "outputs": [
    {
     "data": {
      "text/plain": [
       "20     543\n",
       "60     276\n",
       "50     143\n",
       "120     95\n",
       "30      70\n",
       "70      68\n",
       "160     65\n",
       "80      60\n",
       "90      57\n",
       "190     31\n",
       "85      28\n",
       "180      7\n",
       "75       7\n",
       "45       6\n",
       "40       2\n",
       "150      1\n",
       "Name: MSSubClass, dtype: int64"
      ]
     },
     "execution_count": 81,
     "metadata": {},
     "output_type": "execute_result"
    }
   ],
   "source": [
    "features['MSSubClass'].value_counts()"
   ]
  },
  {
   "cell_type": "code",
   "execution_count": 83,
   "metadata": {},
   "outputs": [
    {
     "data": {
      "text/plain": [
       "'VinylSd'"
      ]
     },
     "execution_count": 83,
     "metadata": {},
     "output_type": "execute_result"
    }
   ],
   "source": [
    "features['Exterior1st'].mode()[0]"
   ]
  },
  {
   "cell_type": "code",
   "execution_count": null,
   "metadata": {
    "collapsed": true
   },
   "outputs": [],
   "source": []
  },
  {
   "cell_type": "code",
   "execution_count": null,
   "metadata": {
    "collapsed": true
   },
   "outputs": [],
   "source": []
  },
  {
   "cell_type": "code",
   "execution_count": null,
   "metadata": {
    "collapsed": true
   },
   "outputs": [],
   "source": []
  },
  {
   "cell_type": "code",
   "execution_count": null,
   "metadata": {
    "collapsed": true
   },
   "outputs": [],
   "source": []
  },
  {
   "cell_type": "code",
   "execution_count": null,
   "metadata": {
    "collapsed": true
   },
   "outputs": [],
   "source": []
  },
  {
   "cell_type": "code",
   "execution_count": null,
   "metadata": {
    "collapsed": true
   },
   "outputs": [],
   "source": []
  },
  {
   "cell_type": "code",
   "execution_count": null,
   "metadata": {
    "collapsed": true
   },
   "outputs": [],
   "source": []
  },
  {
   "cell_type": "code",
   "execution_count": null,
   "metadata": {
    "collapsed": true
   },
   "outputs": [],
   "source": []
  },
  {
   "cell_type": "code",
   "execution_count": null,
   "metadata": {
    "collapsed": true
   },
   "outputs": [],
   "source": []
  },
  {
   "cell_type": "code",
   "execution_count": null,
   "metadata": {
    "collapsed": true
   },
   "outputs": [],
   "source": []
  },
  {
   "cell_type": "code",
   "execution_count": null,
   "metadata": {
    "collapsed": true
   },
   "outputs": [],
   "source": []
  },
  {
   "cell_type": "code",
   "execution_count": null,
   "metadata": {
    "collapsed": true
   },
   "outputs": [],
   "source": []
  },
  {
   "cell_type": "code",
   "execution_count": null,
   "metadata": {
    "collapsed": true
   },
   "outputs": [],
   "source": []
  },
  {
   "cell_type": "code",
   "execution_count": null,
   "metadata": {
    "collapsed": true
   },
   "outputs": [],
   "source": []
  },
  {
   "cell_type": "code",
   "execution_count": null,
   "metadata": {
    "collapsed": true
   },
   "outputs": [],
   "source": []
  },
  {
   "cell_type": "code",
   "execution_count": null,
   "metadata": {
    "collapsed": true
   },
   "outputs": [],
   "source": []
  },
  {
   "cell_type": "code",
   "execution_count": null,
   "metadata": {
    "collapsed": true
   },
   "outputs": [],
   "source": []
  },
  {
   "cell_type": "code",
   "execution_count": null,
   "metadata": {
    "collapsed": true
   },
   "outputs": [],
   "source": []
  },
  {
   "cell_type": "code",
   "execution_count": null,
   "metadata": {
    "collapsed": true
   },
   "outputs": [],
   "source": []
  },
  {
   "cell_type": "code",
   "execution_count": null,
   "metadata": {
    "collapsed": true
   },
   "outputs": [],
   "source": []
  },
  {
   "cell_type": "code",
   "execution_count": null,
   "metadata": {
    "collapsed": true
   },
   "outputs": [],
   "source": []
  },
  {
   "cell_type": "code",
   "execution_count": null,
   "metadata": {
    "collapsed": true
   },
   "outputs": [],
   "source": []
  },
  {
   "cell_type": "code",
   "execution_count": null,
   "metadata": {
    "collapsed": true
   },
   "outputs": [],
   "source": []
  },
  {
   "cell_type": "code",
   "execution_count": null,
   "metadata": {
    "collapsed": true
   },
   "outputs": [],
   "source": []
  },
  {
   "cell_type": "code",
   "execution_count": null,
   "metadata": {
    "collapsed": true
   },
   "outputs": [],
   "source": []
  },
  {
   "cell_type": "code",
   "execution_count": null,
   "metadata": {
    "collapsed": true
   },
   "outputs": [],
   "source": []
  },
  {
   "cell_type": "code",
   "execution_count": 25,
   "metadata": {
    "scrolled": true
   },
   "outputs": [
    {
     "data": {
      "text/html": [
       "<div>\n",
       "<style>\n",
       "    .dataframe thead tr:only-child th {\n",
       "        text-align: right;\n",
       "    }\n",
       "\n",
       "    .dataframe thead th {\n",
       "        text-align: left;\n",
       "    }\n",
       "\n",
       "    .dataframe tbody tr th {\n",
       "        vertical-align: top;\n",
       "    }\n",
       "</style>\n",
       "<table border=\"1\" class=\"dataframe\">\n",
       "  <thead>\n",
       "    <tr style=\"text-align: right;\">\n",
       "      <th></th>\n",
       "      <th>SalePrice</th>\n",
       "      <th>saleprice_log</th>\n",
       "    </tr>\n",
       "  </thead>\n",
       "  <tbody>\n",
       "    <tr>\n",
       "      <th>4</th>\n",
       "      <td>250000.0</td>\n",
       "      <td>12.429216</td>\n",
       "    </tr>\n",
       "    <tr>\n",
       "      <th>5</th>\n",
       "      <td>143000.0</td>\n",
       "      <td>11.870600</td>\n",
       "    </tr>\n",
       "    <tr>\n",
       "      <th>6</th>\n",
       "      <td>307000.0</td>\n",
       "      <td>12.634603</td>\n",
       "    </tr>\n",
       "    <tr>\n",
       "      <th>7</th>\n",
       "      <td>200000.0</td>\n",
       "      <td>12.206073</td>\n",
       "    </tr>\n",
       "    <tr>\n",
       "      <th>8</th>\n",
       "      <td>129900.0</td>\n",
       "      <td>11.774520</td>\n",
       "    </tr>\n",
       "  </tbody>\n",
       "</table>\n",
       "</div>"
      ],
      "text/plain": [
       "   SalePrice  saleprice_log\n",
       "4   250000.0      12.429216\n",
       "5   143000.0      11.870600\n",
       "6   307000.0      12.634603\n",
       "7   200000.0      12.206073\n",
       "8   129900.0      11.774520"
      ]
     },
     "execution_count": 25,
     "metadata": {},
     "output_type": "execute_result"
    }
   ],
   "source": [
    "# Since the form is right skewed. I decided to use log-transformation:\n",
    "data['saleprice_log']=np.log(data['SalePrice'])\n",
    "data[['SalePrice','saleprice_log']].iloc[4:9]"
   ]
  },
  {
   "cell_type": "code",
   "execution_count": 26,
   "metadata": {
    "scrolled": true
   },
   "outputs": [
    {
     "data": {
      "image/png": "[encoded data removed]",
      "text/plain": [
       "<matplotlib.figure.Figure at 0x114462be0>"
      ]
     },
     "metadata": {},
     "output_type": "display_data"
    }
   ],
   "source": [
    "#double check the plot\n",
    "fig,ax=plt.subplots()\n",
    "sns.distplot(data['saleprice_log'].dropna());\n",
    "saleprice_log_mean=np.round(np.mean(data['saleprice_log']),2)\n",
    "plt.axvline(saleprice_log_mean,color='r');\n",
    "ax.set_ylabel('Frequeny',fontsize=12);"
   ]
  },
  {
   "cell_type": "markdown",
   "metadata": {},
   "source": [
    "# Do a ranking on all of the missing values and deal with them from the largest missing feature attributes"
   ]
  },
  {
   "cell_type": "code",
   "execution_count": 49,
   "metadata": {
    "scrolled": false
   },
   "outputs": [
    {
     "data": {
      "text/html": [
       "<div>\n",
       "<style>\n",
       "    .dataframe thead tr:only-child th {\n",
       "        text-align: right;\n",
       "    }\n",
       "\n",
       "    .dataframe thead th {\n",
       "        text-align: left;\n",
       "    }\n",
       "\n",
       "    .dataframe tbody tr th {\n",
       "        vertical-align: top;\n",
       "    }\n",
       "</style>\n",
       "<table border=\"1\" class=\"dataframe\">\n",
       "  <thead>\n",
       "    <tr style=\"text-align: right;\">\n",
       "      <th></th>\n",
       "      <th>Rank</th>\n",
       "    </tr>\n",
       "  </thead>\n",
       "  <tbody>\n",
       "    <tr>\n",
       "      <th>saleprice_log</th>\n",
       "      <td>0.499829</td>\n",
       "    </tr>\n",
       "    <tr>\n",
       "      <th>SalePrice</th>\n",
       "      <td>0.499829</td>\n",
       "    </tr>\n",
       "    <tr>\n",
       "      <th>LotFrontage</th>\n",
       "      <td>0.166495</td>\n",
       "    </tr>\n",
       "    <tr>\n",
       "      <th>GarageYrBlt</th>\n",
       "      <td>0.054471</td>\n",
       "    </tr>\n",
       "    <tr>\n",
       "      <th>MasVnrArea</th>\n",
       "      <td>0.007879</td>\n",
       "    </tr>\n",
       "    <tr>\n",
       "      <th>BsmtFullBath</th>\n",
       "      <td>0.000685</td>\n",
       "    </tr>\n",
       "    <tr>\n",
       "      <th>BsmtHalfBath</th>\n",
       "      <td>0.000685</td>\n",
       "    </tr>\n",
       "    <tr>\n",
       "      <th>BsmtFinSF2</th>\n",
       "      <td>0.000343</td>\n",
       "    </tr>\n",
       "    <tr>\n",
       "      <th>BsmtUnfSF</th>\n",
       "      <td>0.000343</td>\n",
       "    </tr>\n",
       "    <tr>\n",
       "      <th>GarageArea</th>\n",
       "      <td>0.000343</td>\n",
       "    </tr>\n",
       "    <tr>\n",
       "      <th>GarageCars</th>\n",
       "      <td>0.000343</td>\n",
       "    </tr>\n",
       "    <tr>\n",
       "      <th>BsmtFinSF1</th>\n",
       "      <td>0.000343</td>\n",
       "    </tr>\n",
       "    <tr>\n",
       "      <th>TotalBsmtSF</th>\n",
       "      <td>0.000343</td>\n",
       "    </tr>\n",
       "    <tr>\n",
       "      <th>TotRmsAbvGrd</th>\n",
       "      <td>0.000000</td>\n",
       "    </tr>\n",
       "    <tr>\n",
       "      <th>OverallQual</th>\n",
       "      <td>0.000000</td>\n",
       "    </tr>\n",
       "  </tbody>\n",
       "</table>\n",
       "</div>"
      ],
      "text/plain": [
       "                   Rank\n",
       "saleprice_log  0.499829\n",
       "SalePrice      0.499829\n",
       "LotFrontage    0.166495\n",
       "GarageYrBlt    0.054471\n",
       "MasVnrArea     0.007879\n",
       "BsmtFullBath   0.000685\n",
       "BsmtHalfBath   0.000685\n",
       "BsmtFinSF2     0.000343\n",
       "BsmtUnfSF      0.000343\n",
       "GarageArea     0.000343\n",
       "GarageCars     0.000343\n",
       "BsmtFinSF1     0.000343\n",
       "TotalBsmtSF    0.000343\n",
       "TotRmsAbvGrd   0.000000\n",
       "OverallQual    0.000000"
      ]
     },
     "execution_count": 49,
     "metadata": {},
     "output_type": "execute_result"
    }
   ],
   "source": [
    "# First deal with numerical data\n",
    "percent_missing=data.select_dtypes(exclude=['object']).isnull().sum()/len(data)\n",
    "missing_dataframe=pd.DataFrame(percent_missing, columns={'Rank'})\n",
    "missing_dataframe.sort_values(by='Rank', ascending=False).iloc[0:15]"
   ]
  },
  {
   "cell_type": "markdown",
   "metadata": {},
   "source": [
    "# Calculate the skew for each numerical column and Rrank them <br>\n",
    "# To check which one has the highest unskewness."
   ]
  },
  {
   "cell_type": "code",
   "execution_count": 54,
   "metadata": {
    "collapsed": true
   },
   "outputs": [],
   "source": [
    "Numeric_index=data.select_dtypes(exclude=['object']).columns"
   ]
  },
  {
   "cell_type": "code",
   "execution_count": 74,
   "metadata": {
    "scrolled": true
   },
   "outputs": [
    {
     "data": {
      "text/plain": [
       "Index(['1stFlrSF', '2ndFlrSF', '3SsnPorch', 'BedroomAbvGr', 'BsmtFinSF1',\n",
       "       'BsmtFinSF2', 'BsmtFullBath', 'BsmtHalfBath', 'BsmtUnfSF',\n",
       "       'EnclosedPorch', 'Fireplaces', 'FullBath', 'GarageArea', 'GarageCars',\n",
       "       'GarageYrBlt', 'GrLivArea', 'HalfBath', 'Id', 'KitchenAbvGr', 'LotArea',\n",
       "       'LotFrontage', 'LowQualFinSF', 'MSSubClass', 'MasVnrArea', 'MiscVal',\n",
       "       'MoSold', 'OpenPorchSF', 'OverallCond', 'OverallQual', 'PoolArea',\n",
       "       'SalePrice', 'ScreenPorch', 'TotRmsAbvGrd', 'TotalBsmtSF', 'WoodDeckSF',\n",
       "       'YearBuilt', 'YearRemodAdd', 'YrSold', 'seperate', 'saleprice_log'],\n",
       "      dtype='object')"
      ]
     },
     "execution_count": 74,
     "metadata": {},
     "output_type": "execute_result"
    }
   ],
   "source": [
    "Numeric_index"
   ]
  },
  {
   "cell_type": "code",
   "execution_count": 80,
   "metadata": {
    "collapsed": true
   },
   "outputs": [],
   "source": [
    "Numeric_rank={}\n",
    "for i in Numeric_index:\n",
    "    Numeric_rank[i]=data[i].skew()"
   ]
  },
  {
   "cell_type": "code",
   "execution_count": 86,
   "metadata": {
    "collapsed": true
   },
   "outputs": [],
   "source": [
    "Numeric_Skew_percentage=data.select_dtypes(exclude=['object']).skew().sort_values(ascending=False)"
   ]
  },
  {
   "cell_type": "code",
   "execution_count": 87,
   "metadata": {},
   "outputs": [
    {
     "data": {
      "text/html": [
       "<div>\n",
       "<style>\n",
       "    .dataframe thead tr:only-child th {\n",
       "        text-align: right;\n",
       "    }\n",
       "\n",
       "    .dataframe thead th {\n",
       "        text-align: left;\n",
       "    }\n",
       "\n",
       "    .dataframe tbody tr th {\n",
       "        vertical-align: top;\n",
       "    }\n",
       "</style>\n",
       "<table border=\"1\" class=\"dataframe\">\n",
       "  <thead>\n",
       "    <tr style=\"text-align: right;\">\n",
       "      <th></th>\n",
       "      <th>Rank_Skew_Percentage</th>\n",
       "    </tr>\n",
       "  </thead>\n",
       "  <tbody>\n",
       "    <tr>\n",
       "      <th>MiscVal</th>\n",
       "      <td>21.958480</td>\n",
       "    </tr>\n",
       "    <tr>\n",
       "      <th>PoolArea</th>\n",
       "      <td>16.907017</td>\n",
       "    </tr>\n",
       "    <tr>\n",
       "      <th>LotArea</th>\n",
       "      <td>12.829025</td>\n",
       "    </tr>\n",
       "    <tr>\n",
       "      <th>LowQualFinSF</th>\n",
       "      <td>12.094977</td>\n",
       "    </tr>\n",
       "    <tr>\n",
       "      <th>3SsnPorch</th>\n",
       "      <td>11.381914</td>\n",
       "    </tr>\n",
       "    <tr>\n",
       "      <th>KitchenAbvGr</th>\n",
       "      <td>4.304467</td>\n",
       "    </tr>\n",
       "    <tr>\n",
       "      <th>BsmtFinSF2</th>\n",
       "      <td>4.147456</td>\n",
       "    </tr>\n",
       "    <tr>\n",
       "      <th>EnclosedPorch</th>\n",
       "      <td>4.005950</td>\n",
       "    </tr>\n",
       "    <tr>\n",
       "      <th>ScreenPorch</th>\n",
       "      <td>3.948723</td>\n",
       "    </tr>\n",
       "    <tr>\n",
       "      <th>BsmtHalfBath</th>\n",
       "      <td>3.932018</td>\n",
       "    </tr>\n",
       "    <tr>\n",
       "      <th>MasVnrArea</th>\n",
       "      <td>2.602589</td>\n",
       "    </tr>\n",
       "    <tr>\n",
       "      <th>OpenPorchSF</th>\n",
       "      <td>2.536417</td>\n",
       "    </tr>\n",
       "    <tr>\n",
       "      <th>SalePrice</th>\n",
       "      <td>1.882876</td>\n",
       "    </tr>\n",
       "    <tr>\n",
       "      <th>WoodDeckSF</th>\n",
       "      <td>1.843380</td>\n",
       "    </tr>\n",
       "    <tr>\n",
       "      <th>LotFrontage</th>\n",
       "      <td>1.503278</td>\n",
       "    </tr>\n",
       "    <tr>\n",
       "      <th>1stFlrSF</th>\n",
       "      <td>1.470360</td>\n",
       "    </tr>\n",
       "    <tr>\n",
       "      <th>BsmtFinSF1</th>\n",
       "      <td>1.425722</td>\n",
       "    </tr>\n",
       "    <tr>\n",
       "      <th>MSSubClass</th>\n",
       "      <td>1.376165</td>\n",
       "    </tr>\n",
       "    <tr>\n",
       "      <th>GrLivArea</th>\n",
       "      <td>1.270010</td>\n",
       "    </tr>\n",
       "    <tr>\n",
       "      <th>TotalBsmtSF</th>\n",
       "      <td>1.162882</td>\n",
       "    </tr>\n",
       "    <tr>\n",
       "      <th>BsmtUnfSF</th>\n",
       "      <td>0.919824</td>\n",
       "    </tr>\n",
       "    <tr>\n",
       "      <th>2ndFlrSF</th>\n",
       "      <td>0.862118</td>\n",
       "    </tr>\n",
       "    <tr>\n",
       "      <th>TotRmsAbvGrd</th>\n",
       "      <td>0.758757</td>\n",
       "    </tr>\n",
       "    <tr>\n",
       "      <th>Fireplaces</th>\n",
       "      <td>0.733872</td>\n",
       "    </tr>\n",
       "    <tr>\n",
       "      <th>HalfBath</th>\n",
       "      <td>0.694924</td>\n",
       "    </tr>\n",
       "    <tr>\n",
       "      <th>BsmtFullBath</th>\n",
       "      <td>0.624062</td>\n",
       "    </tr>\n",
       "    <tr>\n",
       "      <th>OverallCond</th>\n",
       "      <td>0.570605</td>\n",
       "    </tr>\n",
       "    <tr>\n",
       "      <th>BedroomAbvGr</th>\n",
       "      <td>0.326492</td>\n",
       "    </tr>\n",
       "    <tr>\n",
       "      <th>GarageArea</th>\n",
       "      <td>0.241301</td>\n",
       "    </tr>\n",
       "    <tr>\n",
       "      <th>OverallQual</th>\n",
       "      <td>0.197212</td>\n",
       "    </tr>\n",
       "    <tr>\n",
       "      <th>MoSold</th>\n",
       "      <td>0.195985</td>\n",
       "    </tr>\n",
       "    <tr>\n",
       "      <th>FullBath</th>\n",
       "      <td>0.167692</td>\n",
       "    </tr>\n",
       "    <tr>\n",
       "      <th>YrSold</th>\n",
       "      <td>0.132467</td>\n",
       "    </tr>\n",
       "    <tr>\n",
       "      <th>saleprice_log</th>\n",
       "      <td>0.121335</td>\n",
       "    </tr>\n",
       "    <tr>\n",
       "      <th>seperate</th>\n",
       "      <td>0.000686</td>\n",
       "    </tr>\n",
       "    <tr>\n",
       "      <th>Id</th>\n",
       "      <td>0.000000</td>\n",
       "    </tr>\n",
       "    <tr>\n",
       "      <th>GarageCars</th>\n",
       "      <td>-0.218373</td>\n",
       "    </tr>\n",
       "    <tr>\n",
       "      <th>GarageYrBlt</th>\n",
       "      <td>-0.382150</td>\n",
       "    </tr>\n",
       "    <tr>\n",
       "      <th>YearRemodAdd</th>\n",
       "      <td>-0.451252</td>\n",
       "    </tr>\n",
       "    <tr>\n",
       "      <th>YearBuilt</th>\n",
       "      <td>-0.600114</td>\n",
       "    </tr>\n",
       "  </tbody>\n",
       "</table>\n",
       "</div>"
      ],
      "text/plain": [
       "               Rank_Skew_Percentage\n",
       "MiscVal                   21.958480\n",
       "PoolArea                  16.907017\n",
       "LotArea                   12.829025\n",
       "LowQualFinSF              12.094977\n",
       "3SsnPorch                 11.381914\n",
       "KitchenAbvGr               4.304467\n",
       "BsmtFinSF2                 4.147456\n",
       "EnclosedPorch              4.005950\n",
       "ScreenPorch                3.948723\n",
       "BsmtHalfBath               3.932018\n",
       "MasVnrArea                 2.602589\n",
       "OpenPorchSF                2.536417\n",
       "SalePrice                  1.882876\n",
       "WoodDeckSF                 1.843380\n",
       "LotFrontage                1.503278\n",
       "1stFlrSF                   1.470360\n",
       "BsmtFinSF1                 1.425722\n",
       "MSSubClass                 1.376165\n",
       "GrLivArea                  1.270010\n",
       "TotalBsmtSF                1.162882\n",
       "BsmtUnfSF                  0.919824\n",
       "2ndFlrSF                   0.862118\n",
       "TotRmsAbvGrd               0.758757\n",
       "Fireplaces                 0.733872\n",
       "HalfBath                   0.694924\n",
       "BsmtFullBath               0.624062\n",
       "OverallCond                0.570605\n",
       "BedroomAbvGr               0.326492\n",
       "GarageArea                 0.241301\n",
       "OverallQual                0.197212\n",
       "MoSold                     0.195985\n",
       "FullBath                   0.167692\n",
       "YrSold                     0.132467\n",
       "saleprice_log              0.121335\n",
       "seperate                   0.000686\n",
       "Id                         0.000000\n",
       "GarageCars                -0.218373\n",
       "GarageYrBlt               -0.382150\n",
       "YearRemodAdd              -0.451252\n",
       "YearBuilt                 -0.600114"
      ]
     },
     "execution_count": 87,
     "metadata": {},
     "output_type": "execute_result"
    }
   ],
   "source": [
    "pd.DataFrame(Numeric_Skew_percentage,columns={'Rank_Skew_Percentage'})"
   ]
  },
  {
   "cell_type": "code",
   "execution_count": null,
   "metadata": {
    "collapsed": true
   },
   "outputs": [],
   "source": [
    "# if data has zero how to deal with it? "
   ]
  },
  {
   "cell_type": "code",
   "execution_count": 91,
   "metadata": {
    "scrolled": true
   },
   "outputs": [
    {
     "name": "stderr",
     "output_type": "stream",
     "text": [
      "/Users/wenze/anaconda/lib/python3.6/site-packages/scipy/stats/morestats.py:1030: RuntimeWarning: invalid value encountered in less_equal\n",
      "  if any(x <= 0):\n"
     ]
    },
    {
     "ename": "ValueError",
     "evalue": "Data must be positive.",
     "output_type": "error",
     "traceback": [
      "\u001b[0;31m---------------------------------------------------------------------------\u001b[0m",
      "\u001b[0;31mValueError\u001b[0m                                Traceback (most recent call last)",
      "\u001b[0;32m<ipython-input-91-872ecaf21259>\u001b[0m in \u001b[0;36m<module>\u001b[0;34m()\u001b[0m\n\u001b[1;32m      1\u001b[0m \u001b[0;31m#drop ID, seperate in the original dataset and start to do box-cox transformation\u001b[0m\u001b[0;34m\u001b[0m\u001b[0;34m\u001b[0m\u001b[0m\n\u001b[0;32m----> 2\u001b[0;31m \u001b[0mnew_Numeric\u001b[0m\u001b[0;34m,\u001b[0m\u001b[0mfitted_lambda\u001b[0m\u001b[0;34m=\u001b[0m\u001b[0mstats\u001b[0m\u001b[0;34m.\u001b[0m\u001b[0mboxcox\u001b[0m\u001b[0;34m(\u001b[0m\u001b[0mdata\u001b[0m\u001b[0;34m.\u001b[0m\u001b[0mdrop\u001b[0m\u001b[0;34m(\u001b[0m\u001b[0;34m[\u001b[0m\u001b[0;34m'Id'\u001b[0m\u001b[0;34m,\u001b[0m\u001b[0;34m'seperate'\u001b[0m\u001b[0;34m]\u001b[0m\u001b[0;34m,\u001b[0m\u001b[0maxis\u001b[0m\u001b[0;34m=\u001b[0m\u001b[0;36m1\u001b[0m\u001b[0;34m)\u001b[0m\u001b[0;34m.\u001b[0m\u001b[0mselect_dtypes\u001b[0m\u001b[0;34m(\u001b[0m\u001b[0mexclude\u001b[0m\u001b[0;34m=\u001b[0m\u001b[0;34m[\u001b[0m\u001b[0;34m'object'\u001b[0m\u001b[0;34m]\u001b[0m\u001b[0;34m)\u001b[0m\u001b[0;34m)\u001b[0m\u001b[0;34m\u001b[0m\u001b[0m\n\u001b[0m",
      "\u001b[0;32m/Users/wenze/anaconda/lib/python3.6/site-packages/scipy/stats/morestats.py\u001b[0m in \u001b[0;36mboxcox\u001b[0;34m(x, lmbda, alpha)\u001b[0m\n\u001b[1;32m   1029\u001b[0m \u001b[0;34m\u001b[0m\u001b[0m\n\u001b[1;32m   1030\u001b[0m     \u001b[0;32mif\u001b[0m \u001b[0many\u001b[0m\u001b[0;34m(\u001b[0m\u001b[0mx\u001b[0m \u001b[0;34m<=\u001b[0m \u001b[0;36m0\u001b[0m\u001b[0;34m)\u001b[0m\u001b[0;34m:\u001b[0m\u001b[0;34m\u001b[0m\u001b[0m\n\u001b[0;32m-> 1031\u001b[0;31m         \u001b[0;32mraise\u001b[0m \u001b[0mValueError\u001b[0m\u001b[0;34m(\u001b[0m\u001b[0;34m\"Data must be positive.\"\u001b[0m\u001b[0;34m)\u001b[0m\u001b[0;34m\u001b[0m\u001b[0m\n\u001b[0m\u001b[1;32m   1032\u001b[0m \u001b[0;34m\u001b[0m\u001b[0m\n\u001b[1;32m   1033\u001b[0m     \u001b[0;32mif\u001b[0m \u001b[0mlmbda\u001b[0m \u001b[0;32mis\u001b[0m \u001b[0;32mnot\u001b[0m \u001b[0;32mNone\u001b[0m\u001b[0;34m:\u001b[0m  \u001b[0;31m# single transformation\u001b[0m\u001b[0;34m\u001b[0m\u001b[0m\n",
      "\u001b[0;31mValueError\u001b[0m: Data must be positive."
     ]
    }
   ],
   "source": [
    "#drop ID, seperate in the original dataset and start to do box-cox transformation \n",
    "new_Numeric,fitted_lambda=stats.boxcox(data.drop(['Id','seperate'],axis=1).select_dtypes(exclude=['object']))"
   ]
  },
  {
   "cell_type": "code",
   "execution_count": 92,
   "metadata": {},
   "outputs": [
    {
     "ename": "ValueError",
     "evalue": "Data must be positive.",
     "output_type": "error",
     "traceback": [
      "\u001b[0;31m---------------------------------------------------------------------------\u001b[0m",
      "\u001b[0;31mValueError\u001b[0m                                Traceback (most recent call last)",
      "\u001b[0;32m<ipython-input-92-e0f39c211ede>\u001b[0m in \u001b[0;36m<module>\u001b[0;34m()\u001b[0m\n\u001b[0;32m----> 1\u001b[0;31m \u001b[0mx_bc\u001b[0m\u001b[0;34m,\u001b[0m \u001b[0mlmda\u001b[0m\u001b[0;34m=\u001b[0m\u001b[0mstats\u001b[0m\u001b[0;34m.\u001b[0m\u001b[0mboxcox\u001b[0m\u001b[0;34m(\u001b[0m\u001b[0mdata\u001b[0m\u001b[0;34m[\u001b[0m\u001b[0;34m'MiscVal'\u001b[0m\u001b[0;34m]\u001b[0m\u001b[0;34m)\u001b[0m\u001b[0;34m\u001b[0m\u001b[0m\n\u001b[0m\u001b[1;32m      2\u001b[0m \u001b[0mpd\u001b[0m\u001b[0;34m.\u001b[0m\u001b[0mSeries\u001b[0m\u001b[0;34m(\u001b[0m\u001b[0mx_bc\u001b[0m\u001b[0;34m)\u001b[0m\u001b[0;34m.\u001b[0m\u001b[0mhist\u001b[0m\u001b[0;34m(\u001b[0m\u001b[0;34m)\u001b[0m\u001b[0;34m\u001b[0m\u001b[0m\n\u001b[1;32m      3\u001b[0m \u001b[0mplt\u001b[0m\u001b[0;34m.\u001b[0m\u001b[0mshow\u001b[0m\u001b[0;34m(\u001b[0m\u001b[0;34m)\u001b[0m\u001b[0;34m\u001b[0m\u001b[0m\n\u001b[1;32m      4\u001b[0m \u001b[0mstats\u001b[0m\u001b[0;34m.\u001b[0m\u001b[0mprobplot\u001b[0m\u001b[0;34m(\u001b[0m\u001b[0mx_bc\u001b[0m\u001b[0;34m,\u001b[0m \u001b[0mdist\u001b[0m\u001b[0;34m=\u001b[0m\u001b[0;34m\"norm\"\u001b[0m\u001b[0;34m,\u001b[0m \u001b[0mplot\u001b[0m\u001b[0;34m=\u001b[0m\u001b[0mpylab\u001b[0m\u001b[0;34m)\u001b[0m\u001b[0;34m\u001b[0m\u001b[0m\n\u001b[1;32m      5\u001b[0m \u001b[0mpylab\u001b[0m\u001b[0;34m.\u001b[0m\u001b[0mshow\u001b[0m\u001b[0;34m(\u001b[0m\u001b[0;34m)\u001b[0m\u001b[0;34m\u001b[0m\u001b[0m\n",
      "\u001b[0;32m/Users/wenze/anaconda/lib/python3.6/site-packages/scipy/stats/morestats.py\u001b[0m in \u001b[0;36mboxcox\u001b[0;34m(x, lmbda, alpha)\u001b[0m\n\u001b[1;32m   1029\u001b[0m \u001b[0;34m\u001b[0m\u001b[0m\n\u001b[1;32m   1030\u001b[0m     \u001b[0;32mif\u001b[0m \u001b[0many\u001b[0m\u001b[0;34m(\u001b[0m\u001b[0mx\u001b[0m \u001b[0;34m<=\u001b[0m \u001b[0;36m0\u001b[0m\u001b[0;34m)\u001b[0m\u001b[0;34m:\u001b[0m\u001b[0;34m\u001b[0m\u001b[0m\n\u001b[0;32m-> 1031\u001b[0;31m         \u001b[0;32mraise\u001b[0m \u001b[0mValueError\u001b[0m\u001b[0;34m(\u001b[0m\u001b[0;34m\"Data must be positive.\"\u001b[0m\u001b[0;34m)\u001b[0m\u001b[0;34m\u001b[0m\u001b[0m\n\u001b[0m\u001b[1;32m   1032\u001b[0m \u001b[0;34m\u001b[0m\u001b[0m\n\u001b[1;32m   1033\u001b[0m     \u001b[0;32mif\u001b[0m \u001b[0mlmbda\u001b[0m \u001b[0;32mis\u001b[0m \u001b[0;32mnot\u001b[0m \u001b[0;32mNone\u001b[0m\u001b[0;34m:\u001b[0m  \u001b[0;31m# single transformation\u001b[0m\u001b[0;34m\u001b[0m\u001b[0m\n",
      "\u001b[0;31mValueError\u001b[0m: Data must be positive."
     ]
    }
   ],
   "source": [
    "x_bc, lmda=stats.boxcox(data['MiscVal'])\n",
    "pd.Series(x_bc).hist()\n",
    "plt.show()\n",
    "stats.probplot(x_bc, dist=\"norm\", plot=pylab)\n",
    "pylab.show()"
   ]
  },
  {
   "cell_type": "code",
   "execution_count": null,
   "metadata": {
    "collapsed": true
   },
   "outputs": [],
   "source": []
  },
  {
   "cell_type": "code",
   "execution_count": null,
   "metadata": {
    "collapsed": true
   },
   "outputs": [],
   "source": []
  },
  {
   "cell_type": "code",
   "execution_count": null,
   "metadata": {
    "collapsed": true
   },
   "outputs": [],
   "source": []
  },
  {
   "cell_type": "code",
   "execution_count": null,
   "metadata": {
    "collapsed": true
   },
   "outputs": [],
   "source": []
  },
  {
   "cell_type": "code",
   "execution_count": null,
   "metadata": {
    "collapsed": true
   },
   "outputs": [],
   "source": []
  },
  {
   "cell_type": "code",
   "execution_count": null,
   "metadata": {
    "collapsed": true
   },
   "outputs": [],
   "source": []
  },
  {
   "cell_type": "code",
   "execution_count": null,
   "metadata": {
    "collapsed": true
   },
   "outputs": [],
   "source": []
  },
  {
   "cell_type": "code",
   "execution_count": null,
   "metadata": {
    "collapsed": true
   },
   "outputs": [],
   "source": []
  },
  {
   "cell_type": "code",
   "execution_count": 24,
   "metadata": {
    "collapsed": true
   },
   "outputs": [],
   "source": [
    "col=data.columns.tolist()"
   ]
  },
  {
   "cell_type": "code",
   "execution_count": 8,
   "metadata": {
    "scrolled": true
   },
   "outputs": [
    {
     "data": {
      "text/plain": [
       "dtype('int64')"
      ]
     },
     "execution_count": 8,
     "metadata": {},
     "output_type": "execute_result"
    }
   ],
   "source": [
    "data['MSSubClass'].dtype"
   ]
  },
  {
   "cell_type": "code",
   "execution_count": 9,
   "metadata": {
    "collapsed": true
   },
   "outputs": [],
   "source": [
    "#why this one doens't work?"
   ]
  },
  {
   "cell_type": "code",
   "execution_count": 11,
   "metadata": {
    "collapsed": true
   },
   "outputs": [],
   "source": [
    "num_data=data.select_dtypes(exclude=['object'])\n",
    "cate_data=data.select_dtypes(include=['object'])"
   ]
  },
  {
   "cell_type": "code",
   "execution_count": null,
   "metadata": {
    "collapsed": true
   },
   "outputs": [],
   "source": [
    "data.head()"
   ]
  },
  {
   "cell_type": "code",
   "execution_count": 12,
   "metadata": {
    "collapsed": true
   },
   "outputs": [
    {
     "data": {
      "text/plain": [
       "1stFlrSF            0\n",
       "2ndFlrSF            0\n",
       "3SsnPorch           0\n",
       "BedroomAbvGr        0\n",
       "BsmtFinSF1          1\n",
       "BsmtFinSF2          1\n",
       "BsmtFullBath        2\n",
       "BsmtHalfBath        2\n",
       "BsmtUnfSF           1\n",
       "EnclosedPorch       0\n",
       "Fireplaces          0\n",
       "FullBath            0\n",
       "GarageArea          1\n",
       "GarageCars          1\n",
       "GarageYrBlt       159\n",
       "GrLivArea           0\n",
       "HalfBath            0\n",
       "Id                  0\n",
       "KitchenAbvGr        0\n",
       "LotArea             0\n",
       "LotFrontage       486\n",
       "LowQualFinSF        0\n",
       "MSSubClass          0\n",
       "MasVnrArea         23\n",
       "MiscVal             0\n",
       "MoSold              0\n",
       "OpenPorchSF         0\n",
       "OverallCond         0\n",
       "OverallQual         0\n",
       "PoolArea            0\n",
       "SalePrice        1459\n",
       "ScreenPorch         0\n",
       "TotRmsAbvGrd        0\n",
       "TotalBsmtSF         1\n",
       "WoodDeckSF          0\n",
       "YearBuilt           0\n",
       "YearRemodAdd        0\n",
       "YrSold              0\n",
       "seperate            0\n",
       "dtype: int64"
      ]
     },
     "execution_count": 12,
     "metadata": {},
     "output_type": "execute_result"
    }
   ],
   "source": [
    "num_data.isnull().sum()"
   ]
  },
  {
   "cell_type": "code",
   "execution_count": 13,
   "metadata": {
    "collapsed": true
   },
   "outputs": [],
   "source": [
    "#GarageArea"
   ]
  },
  {
   "cell_type": "code",
   "execution_count": 14,
   "metadata": {
    "collapsed": true
   },
   "outputs": [
    {
     "data": {
      "text/plain": [
       "0.0       157\n",
       "576.0      97\n",
       "440.0      96\n",
       "240.0      69\n",
       "484.0      68\n",
       "528.0      65\n",
       "400.0      58\n",
       "480.0      54\n",
       "264.0      51\n",
       "288.0      50\n",
       "308.0      48\n",
       "280.0      30\n",
       "336.0      29\n",
       "420.0      29\n",
       "672.0      23\n",
       "216.0      23\n",
       "462.0      23\n",
       "506.0      21\n",
       "384.0      21\n",
       "504.0      21\n",
       "286.0      20\n",
       "312.0      19\n",
       "550.0      17\n",
       "624.0      17\n",
       "495.0      17\n",
       "352.0      17\n",
       "525.0      17\n",
       "360.0      16\n",
       "180.0      16\n",
       "564.0      16\n",
       "         ... \n",
       "958.0       1\n",
       "808.0       1\n",
       "363.0       1\n",
       "752.0       1\n",
       "954.0       1\n",
       "284.0       1\n",
       "209.0       1\n",
       "604.0       1\n",
       "892.0       1\n",
       "413.0       1\n",
       "258.0       1\n",
       "1041.0      1\n",
       "639.0       1\n",
       "859.0       1\n",
       "741.0       1\n",
       "535.0       1\n",
       "609.0       1\n",
       "1184.0      1\n",
       "853.0       1\n",
       "1110.0      1\n",
       "713.0       1\n",
       "611.0       1\n",
       "963.0       1\n",
       "186.0       1\n",
       "265.0       1\n",
       "443.0       1\n",
       "424.0       1\n",
       "263.0       1\n",
       "962.0       1\n",
       "803.0       1\n",
       "Name: GarageArea, Length: 603, dtype: int64"
      ]
     },
     "execution_count": 14,
     "metadata": {},
     "output_type": "execute_result"
    }
   ],
   "source": [
    "data['GarageArea'].value_counts()"
   ]
  },
  {
   "cell_type": "code",
   "execution_count": 15,
   "metadata": {
    "collapsed": true
   },
   "outputs": [],
   "source": [
    "data['GarageArea'].fillna(0,inplace=True)"
   ]
  },
  {
   "cell_type": "code",
   "execution_count": 16,
   "metadata": {
    "collapsed": true
   },
   "outputs": [],
   "source": [
    "#GarageCars"
   ]
  },
  {
   "cell_type": "code",
   "execution_count": 17,
   "metadata": {},
   "outputs": [
    {
     "data": {
      "text/plain": [
       "1116    0.0\n",
       "Name: GarageArea, dtype: float64"
      ]
     },
     "execution_count": 17,
     "metadata": {},
     "output_type": "execute_result"
    }
   ],
   "source": [
    "data[data['GarageCars'].isnull()]['GarageArea']\n",
    "#Since under GarageCars missing value, garageArea is zero. That means \n",
    "#there is no car. So I fillin with zero"
   ]
  },
  {
   "cell_type": "code",
   "execution_count": 18,
   "metadata": {
    "collapsed": true
   },
   "outputs": [],
   "source": [
    "data['GarageCars'].fillna(0,inplace=True)"
   ]
  },
  {
   "cell_type": "code",
   "execution_count": 19,
   "metadata": {
    "collapsed": true
   },
   "outputs": [],
   "source": [
    "# GarageYrBlt"
   ]
  },
  {
   "cell_type": "code",
   "execution_count": 20,
   "metadata": {
    "scrolled": true
   },
   "outputs": [
    {
     "data": {
      "text/plain": [
       "count    2760.000000\n",
       "mean     1978.113406\n",
       "std        25.574285\n",
       "min      1895.000000\n",
       "25%      1960.000000\n",
       "50%      1979.000000\n",
       "75%      2002.000000\n",
       "max      2207.000000\n",
       "Name: GarageYrBlt, dtype: float64"
      ]
     },
     "execution_count": 20,
     "metadata": {},
     "output_type": "execute_result"
    }
   ],
   "source": [
    "data['GarageYrBlt'].describe()"
   ]
  },
  {
   "cell_type": "code",
   "execution_count": 21,
   "metadata": {
    "collapsed": true
   },
   "outputs": [],
   "source": [
    "data_num_withoutnull=num_data.dropna()"
   ]
  },
  {
   "cell_type": "code",
   "execution_count": 22,
   "metadata": {},
   "outputs": [
    {
     "data": {
      "text/plain": [
       "0.38403562863994517"
      ]
     },
     "execution_count": 22,
     "metadata": {},
     "output_type": "execute_result"
    }
   ],
   "source": [
    "data_num_withoutnull.shape[0]/num_data.shape[0]\n",
    "#only 38% is not missing values so it is hard to predict based on withoutnull."
   ]
  },
  {
   "cell_type": "code",
   "execution_count": 23,
   "metadata": {
    "collapsed": true
   },
   "outputs": [
    {
     "data": {
      "text/html": [
       "<div>\n",
       "<style>\n",
       "    .dataframe thead tr:only-child th {\n",
       "        text-align: right;\n",
       "    }\n",
       "\n",
       "    .dataframe thead th {\n",
       "        text-align: left;\n",
       "    }\n",
       "\n",
       "    .dataframe tbody tr th {\n",
       "        vertical-align: top;\n",
       "    }\n",
       "</style>\n",
       "<table border=\"1\" class=\"dataframe\">\n",
       "  <thead>\n",
       "    <tr style=\"text-align: right;\">\n",
       "      <th></th>\n",
       "      <th>1stFlrSF</th>\n",
       "      <th>2ndFlrSF</th>\n",
       "      <th>3SsnPorch</th>\n",
       "      <th>BedroomAbvGr</th>\n",
       "      <th>BsmtFinSF1</th>\n",
       "      <th>BsmtFinSF2</th>\n",
       "      <th>BsmtFullBath</th>\n",
       "      <th>BsmtHalfBath</th>\n",
       "      <th>BsmtUnfSF</th>\n",
       "      <th>EnclosedPorch</th>\n",
       "      <th>...</th>\n",
       "      <th>PoolArea</th>\n",
       "      <th>SalePrice</th>\n",
       "      <th>ScreenPorch</th>\n",
       "      <th>TotRmsAbvGrd</th>\n",
       "      <th>TotalBsmtSF</th>\n",
       "      <th>WoodDeckSF</th>\n",
       "      <th>YearBuilt</th>\n",
       "      <th>YearRemodAdd</th>\n",
       "      <th>YrSold</th>\n",
       "      <th>seperate</th>\n",
       "    </tr>\n",
       "  </thead>\n",
       "  <tbody>\n",
       "    <tr>\n",
       "      <th>1stFlrSF</th>\n",
       "      <td>1.000000</td>\n",
       "      <td>-0.249823</td>\n",
       "      <td>0.044086</td>\n",
       "      <td>0.108418</td>\n",
       "      <td>0.458092</td>\n",
       "      <td>0.084330</td>\n",
       "      <td>0.261816</td>\n",
       "      <td>0.011074</td>\n",
       "      <td>0.296600</td>\n",
       "      <td>-0.065796</td>\n",
       "      <td>...</td>\n",
       "      <td>0.121900</td>\n",
       "      <td>0.605852</td>\n",
       "      <td>0.098381</td>\n",
       "      <td>0.391782</td>\n",
       "      <td>0.801670</td>\n",
       "      <td>0.227347</td>\n",
       "      <td>0.310814</td>\n",
       "      <td>0.242245</td>\n",
       "      <td>-0.013442</td>\n",
       "      <td>-0.007765</td>\n",
       "    </tr>\n",
       "    <tr>\n",
       "      <th>2ndFlrSF</th>\n",
       "      <td>-0.249823</td>\n",
       "      <td>1.000000</td>\n",
       "      <td>-0.032458</td>\n",
       "      <td>0.503506</td>\n",
       "      <td>-0.162301</td>\n",
       "      <td>-0.097744</td>\n",
       "      <td>-0.161468</td>\n",
       "      <td>-0.060282</td>\n",
       "      <td>-0.000376</td>\n",
       "      <td>0.054645</td>\n",
       "      <td>...</td>\n",
       "      <td>0.044503</td>\n",
       "      <td>0.319334</td>\n",
       "      <td>0.011070</td>\n",
       "      <td>0.584586</td>\n",
       "      <td>-0.205665</td>\n",
       "      <td>0.089922</td>\n",
       "      <td>0.017588</td>\n",
       "      <td>0.158985</td>\n",
       "      <td>-0.019229</td>\n",
       "      <td>-0.024526</td>\n",
       "    </tr>\n",
       "    <tr>\n",
       "      <th>3SsnPorch</th>\n",
       "      <td>0.044086</td>\n",
       "      <td>-0.032458</td>\n",
       "      <td>1.000000</td>\n",
       "      <td>-0.048279</td>\n",
       "      <td>0.050908</td>\n",
       "      <td>-0.023279</td>\n",
       "      <td>0.027378</td>\n",
       "      <td>0.026861</td>\n",
       "      <td>-0.005810</td>\n",
       "      <td>-0.032822</td>\n",
       "      <td>...</td>\n",
       "      <td>-0.006525</td>\n",
       "      <td>0.044584</td>\n",
       "      <td>-0.029546</td>\n",
       "      <td>-0.025764</td>\n",
       "      <td>0.037892</td>\n",
       "      <td>-0.003935</td>\n",
       "      <td>0.015958</td>\n",
       "      <td>0.037433</td>\n",
       "      <td>0.022560</td>\n",
       "      <td>-0.032068</td>\n",
       "    </tr>\n",
       "    <tr>\n",
       "      <th>BedroomAbvGr</th>\n",
       "      <td>0.108418</td>\n",
       "      <td>0.503506</td>\n",
       "      <td>-0.048279</td>\n",
       "      <td>1.000000</td>\n",
       "      <td>-0.113547</td>\n",
       "      <td>-0.031223</td>\n",
       "      <td>-0.155200</td>\n",
       "      <td>0.018848</td>\n",
       "      <td>0.183259</td>\n",
       "      <td>0.049940</td>\n",
       "      <td>...</td>\n",
       "      <td>0.036544</td>\n",
       "      <td>0.168213</td>\n",
       "      <td>0.007254</td>\n",
       "      <td>0.669737</td>\n",
       "      <td>0.053393</td>\n",
       "      <td>0.031644</td>\n",
       "      <td>-0.053101</td>\n",
       "      <td>-0.021912</td>\n",
       "      <td>-0.020453</td>\n",
       "      <td>-0.007555</td>\n",
       "    </tr>\n",
       "    <tr>\n",
       "      <th>BsmtFinSF1</th>\n",
       "      <td>0.458092</td>\n",
       "      <td>-0.162301</td>\n",
       "      <td>0.050908</td>\n",
       "      <td>-0.113547</td>\n",
       "      <td>1.000000</td>\n",
       "      <td>-0.055045</td>\n",
       "      <td>0.638847</td>\n",
       "      <td>0.078361</td>\n",
       "      <td>-0.477404</td>\n",
       "      <td>-0.099712</td>\n",
       "      <td>...</td>\n",
       "      <td>0.084462</td>\n",
       "      <td>0.386420</td>\n",
       "      <td>0.096823</td>\n",
       "      <td>0.052141</td>\n",
       "      <td>0.536467</td>\n",
       "      <td>0.223492</td>\n",
       "      <td>0.279581</td>\n",
       "      <td>0.152126</td>\n",
       "      <td>0.022556</td>\n",
       "      <td>-0.004869</td>\n",
       "    </tr>\n",
       "    <tr>\n",
       "      <th>BsmtFinSF2</th>\n",
       "      <td>0.084330</td>\n",
       "      <td>-0.097744</td>\n",
       "      <td>-0.023279</td>\n",
       "      <td>-0.031223</td>\n",
       "      <td>-0.055045</td>\n",
       "      <td>1.000000</td>\n",
       "      <td>0.162835</td>\n",
       "      <td>0.099485</td>\n",
       "      <td>-0.238241</td>\n",
       "      <td>0.032740</td>\n",
       "      <td>...</td>\n",
       "      <td>0.044524</td>\n",
       "      <td>-0.011378</td>\n",
       "      <td>0.063302</td>\n",
       "      <td>-0.048423</td>\n",
       "      <td>0.089410</td>\n",
       "      <td>0.098399</td>\n",
       "      <td>-0.027595</td>\n",
       "      <td>-0.062153</td>\n",
       "      <td>0.008883</td>\n",
       "      <td>0.017940</td>\n",
       "    </tr>\n",
       "    <tr>\n",
       "      <th>BsmtFullBath</th>\n",
       "      <td>0.261816</td>\n",
       "      <td>-0.161468</td>\n",
       "      <td>0.027378</td>\n",
       "      <td>-0.155200</td>\n",
       "      <td>0.638847</td>\n",
       "      <td>0.162835</td>\n",
       "      <td>1.000000</td>\n",
       "      <td>-0.148832</td>\n",
       "      <td>-0.398678</td>\n",
       "      <td>-0.068393</td>\n",
       "      <td>...</td>\n",
       "      <td>0.043970</td>\n",
       "      <td>0.227122</td>\n",
       "      <td>0.053119</td>\n",
       "      <td>-0.038916</td>\n",
       "      <td>0.325623</td>\n",
       "      <td>0.186107</td>\n",
       "      <td>0.211580</td>\n",
       "      <td>0.134947</td>\n",
       "      <td>0.045255</td>\n",
       "      <td>0.008684</td>\n",
       "    </tr>\n",
       "    <tr>\n",
       "      <th>BsmtHalfBath</th>\n",
       "      <td>0.011074</td>\n",
       "      <td>-0.060282</td>\n",
       "      <td>0.026861</td>\n",
       "      <td>0.018848</td>\n",
       "      <td>0.078361</td>\n",
       "      <td>0.099485</td>\n",
       "      <td>-0.148832</td>\n",
       "      <td>1.000000</td>\n",
       "      <td>-0.107121</td>\n",
       "      <td>-0.009675</td>\n",
       "      <td>...</td>\n",
       "      <td>0.066851</td>\n",
       "      <td>-0.016844</td>\n",
       "      <td>0.042069</td>\n",
       "      <td>-0.049610</td>\n",
       "      <td>0.012396</td>\n",
       "      <td>0.051549</td>\n",
       "      <td>-0.030282</td>\n",
       "      <td>-0.046285</td>\n",
       "      <td>-0.020028</td>\n",
       "      <td>0.015608</td>\n",
       "    </tr>\n",
       "    <tr>\n",
       "      <th>BsmtUnfSF</th>\n",
       "      <td>0.296600</td>\n",
       "      <td>-0.000376</td>\n",
       "      <td>-0.005810</td>\n",
       "      <td>0.183259</td>\n",
       "      <td>-0.477404</td>\n",
       "      <td>-0.238241</td>\n",
       "      <td>-0.398678</td>\n",
       "      <td>-0.107121</td>\n",
       "      <td>1.000000</td>\n",
       "      <td>0.005006</td>\n",
       "      <td>...</td>\n",
       "      <td>-0.032273</td>\n",
       "      <td>0.214479</td>\n",
       "      <td>-0.049158</td>\n",
       "      <td>0.247505</td>\n",
       "      <td>0.412285</td>\n",
       "      <td>-0.039302</td>\n",
       "      <td>0.130473</td>\n",
       "      <td>0.165175</td>\n",
       "      <td>-0.038015</td>\n",
       "      <td>-0.014729</td>\n",
       "    </tr>\n",
       "    <tr>\n",
       "      <th>EnclosedPorch</th>\n",
       "      <td>-0.065796</td>\n",
       "      <td>0.054645</td>\n",
       "      <td>-0.032822</td>\n",
       "      <td>0.049940</td>\n",
       "      <td>-0.099712</td>\n",
       "      <td>0.032740</td>\n",
       "      <td>-0.068393</td>\n",
       "      <td>-0.009675</td>\n",
       "      <td>0.005006</td>\n",
       "      <td>1.000000</td>\n",
       "      <td>...</td>\n",
       "      <td>0.092534</td>\n",
       "      <td>-0.128578</td>\n",
       "      <td>-0.064377</td>\n",
       "      <td>0.015345</td>\n",
       "      <td>-0.085510</td>\n",
       "      <td>-0.119114</td>\n",
       "      <td>-0.374073</td>\n",
       "      <td>-0.220456</td>\n",
       "      <td>-0.001134</td>\n",
       "      <td>0.017819</td>\n",
       "    </tr>\n",
       "    <tr>\n",
       "      <th>Fireplaces</th>\n",
       "      <td>0.407545</td>\n",
       "      <td>0.169991</td>\n",
       "      <td>0.018852</td>\n",
       "      <td>0.086793</td>\n",
       "      <td>0.293089</td>\n",
       "      <td>0.065625</td>\n",
       "      <td>0.169580</td>\n",
       "      <td>0.039265</td>\n",
       "      <td>0.004814</td>\n",
       "      <td>0.000971</td>\n",
       "      <td>...</td>\n",
       "      <td>0.099123</td>\n",
       "      <td>0.466929</td>\n",
       "      <td>0.169784</td>\n",
       "      <td>0.311260</td>\n",
       "      <td>0.332953</td>\n",
       "      <td>0.227608</td>\n",
       "      <td>0.170680</td>\n",
       "      <td>0.134157</td>\n",
       "      <td>-0.006752</td>\n",
       "      <td>-0.024607</td>\n",
       "    </tr>\n",
       "    <tr>\n",
       "      <th>FullBath</th>\n",
       "      <td>0.373077</td>\n",
       "      <td>0.402865</td>\n",
       "      <td>0.015192</td>\n",
       "      <td>0.356125</td>\n",
       "      <td>0.081525</td>\n",
       "      <td>-0.075432</td>\n",
       "      <td>-0.018815</td>\n",
       "      <td>-0.047046</td>\n",
       "      <td>0.273207</td>\n",
       "      <td>-0.118983</td>\n",
       "      <td>...</td>\n",
       "      <td>0.028091</td>\n",
       "      <td>0.560664</td>\n",
       "      <td>-0.015910</td>\n",
       "      <td>0.527337</td>\n",
       "      <td>0.327762</td>\n",
       "      <td>0.181266</td>\n",
       "      <td>0.471169</td>\n",
       "      <td>0.457980</td>\n",
       "      <td>-0.004882</td>\n",
       "      <td>0.005309</td>\n",
       "    </tr>\n",
       "    <tr>\n",
       "      <th>GarageArea</th>\n",
       "      <td>0.492011</td>\n",
       "      <td>0.128570</td>\n",
       "      <td>0.029440</td>\n",
       "      <td>0.073912</td>\n",
       "      <td>0.310449</td>\n",
       "      <td>0.003139</td>\n",
       "      <td>0.184738</td>\n",
       "      <td>-0.021445</td>\n",
       "      <td>0.164409</td>\n",
       "      <td>-0.106417</td>\n",
       "      <td>...</td>\n",
       "      <td>0.053049</td>\n",
       "      <td>0.623431</td>\n",
       "      <td>0.062389</td>\n",
       "      <td>0.328687</td>\n",
       "      <td>0.486067</td>\n",
       "      <td>0.238075</td>\n",
       "      <td>0.480735</td>\n",
       "      <td>0.376765</td>\n",
       "      <td>-0.013451</td>\n",
       "      <td>-0.000491</td>\n",
       "    </tr>\n",
       "    <tr>\n",
       "      <th>GarageCars</th>\n",
       "      <td>0.440540</td>\n",
       "      <td>0.182452</td>\n",
       "      <td>0.023383</td>\n",
       "      <td>0.092876</td>\n",
       "      <td>0.255482</td>\n",
       "      <td>-0.014827</td>\n",
       "      <td>0.161709</td>\n",
       "      <td>-0.033462</td>\n",
       "      <td>0.180099</td>\n",
       "      <td>-0.132846</td>\n",
       "      <td>...</td>\n",
       "      <td>0.030424</td>\n",
       "      <td>0.640409</td>\n",
       "      <td>0.043112</td>\n",
       "      <td>0.358053</td>\n",
       "      <td>0.437997</td>\n",
       "      <td>0.240715</td>\n",
       "      <td>0.538074</td>\n",
       "      <td>0.426022</td>\n",
       "      <td>-0.022918</td>\n",
       "      <td>-0.000660</td>\n",
       "    </tr>\n",
       "    <tr>\n",
       "      <th>GarageYrBlt</th>\n",
       "      <td>0.260450</td>\n",
       "      <td>0.086094</td>\n",
       "      <td>0.020699</td>\n",
       "      <td>-0.045364</td>\n",
       "      <td>0.194270</td>\n",
       "      <td>-0.068549</td>\n",
       "      <td>0.150492</td>\n",
       "      <td>-0.058379</td>\n",
       "      <td>0.171588</td>\n",
       "      <td>-0.300751</td>\n",
       "      <td>...</td>\n",
       "      <td>-0.014467</td>\n",
       "      <td>0.486362</td>\n",
       "      <td>-0.062320</td>\n",
       "      <td>0.162684</td>\n",
       "      <td>0.348408</td>\n",
       "      <td>0.222584</td>\n",
       "      <td>0.834812</td>\n",
       "      <td>0.652365</td>\n",
       "      <td>-0.004543</td>\n",
       "      <td>-0.015349</td>\n",
       "    </tr>\n",
       "    <tr>\n",
       "      <th>GrLivArea</th>\n",
       "      <td>0.562538</td>\n",
       "      <td>0.655085</td>\n",
       "      <td>0.006268</td>\n",
       "      <td>0.517058</td>\n",
       "      <td>0.211669</td>\n",
       "      <td>-0.017872</td>\n",
       "      <td>0.060531</td>\n",
       "      <td>-0.043947</td>\n",
       "      <td>0.233988</td>\n",
       "      <td>0.003274</td>\n",
       "      <td>...</td>\n",
       "      <td>0.135441</td>\n",
       "      <td>0.708624</td>\n",
       "      <td>0.086284</td>\n",
       "      <td>0.808354</td>\n",
       "      <td>0.445276</td>\n",
       "      <td>0.251017</td>\n",
       "      <td>0.242666</td>\n",
       "      <td>0.316972</td>\n",
       "      <td>-0.026919</td>\n",
       "      <td>-0.029071</td>\n",
       "    </tr>\n",
       "    <tr>\n",
       "      <th>HalfBath</th>\n",
       "      <td>-0.104141</td>\n",
       "      <td>0.611362</td>\n",
       "      <td>-0.023417</td>\n",
       "      <td>0.245318</td>\n",
       "      <td>-0.007311</td>\n",
       "      <td>-0.032448</td>\n",
       "      <td>-0.033468</td>\n",
       "      <td>-0.058438</td>\n",
       "      <td>-0.035803</td>\n",
       "      <td>-0.081978</td>\n",
       "      <td>...</td>\n",
       "      <td>0.001424</td>\n",
       "      <td>0.284108</td>\n",
       "      <td>0.035622</td>\n",
       "      <td>0.345572</td>\n",
       "      <td>-0.055718</td>\n",
       "      <td>0.116701</td>\n",
       "      <td>0.269743</td>\n",
       "      <td>0.211430</td>\n",
       "      <td>0.001587</td>\n",
       "      <td>-0.005192</td>\n",
       "    </tr>\n",
       "    <tr>\n",
       "      <th>Id</th>\n",
       "      <td>-0.008678</td>\n",
       "      <td>-0.022252</td>\n",
       "      <td>-0.046538</td>\n",
       "      <td>0.003074</td>\n",
       "      <td>-0.016947</td>\n",
       "      <td>0.018251</td>\n",
       "      <td>0.000145</td>\n",
       "      <td>0.010387</td>\n",
       "      <td>-0.014453</td>\n",
       "      <td>0.021609</td>\n",
       "      <td>...</td>\n",
       "      <td>0.014332</td>\n",
       "      <td>-0.021917</td>\n",
       "      <td>0.022208</td>\n",
       "      <td>-0.029368</td>\n",
       "      <td>-0.024924</td>\n",
       "      <td>-0.007056</td>\n",
       "      <td>-0.016581</td>\n",
       "      <td>-0.050438</td>\n",
       "      <td>-0.256050</td>\n",
       "      <td>0.866025</td>\n",
       "    </tr>\n",
       "    <tr>\n",
       "      <th>KitchenAbvGr</th>\n",
       "      <td>0.076071</td>\n",
       "      <td>0.069032</td>\n",
       "      <td>-0.021462</td>\n",
       "      <td>0.241182</td>\n",
       "      <td>-0.086354</td>\n",
       "      <td>-0.037779</td>\n",
       "      <td>-0.017931</td>\n",
       "      <td>-0.064916</td>\n",
       "      <td>0.064987</td>\n",
       "      <td>0.027639</td>\n",
       "      <td>...</td>\n",
       "      <td>-0.013116</td>\n",
       "      <td>-0.135907</td>\n",
       "      <td>-0.056573</td>\n",
       "      <td>0.294569</td>\n",
       "      <td>-0.038959</td>\n",
       "      <td>-0.087399</td>\n",
       "      <td>-0.137614</td>\n",
       "      <td>-0.142431</td>\n",
       "      <td>0.035173</td>\n",
       "      <td>-0.009515</td>\n",
       "    </tr>\n",
       "    <tr>\n",
       "      <th>LotArea</th>\n",
       "      <td>0.332460</td>\n",
       "      <td>0.031515</td>\n",
       "      <td>0.015995</td>\n",
       "      <td>0.132801</td>\n",
       "      <td>0.194031</td>\n",
       "      <td>0.084059</td>\n",
       "      <td>0.128349</td>\n",
       "      <td>0.026292</td>\n",
       "      <td>0.021362</td>\n",
       "      <td>0.020974</td>\n",
       "      <td>...</td>\n",
       "      <td>0.093708</td>\n",
       "      <td>0.263843</td>\n",
       "      <td>0.054375</td>\n",
       "      <td>0.213802</td>\n",
       "      <td>0.254138</td>\n",
       "      <td>0.158045</td>\n",
       "      <td>0.024128</td>\n",
       "      <td>0.021612</td>\n",
       "      <td>-0.024234</td>\n",
       "      <td>-0.044237</td>\n",
       "    </tr>\n",
       "    <tr>\n",
       "      <th>LotFrontage</th>\n",
       "      <td>0.458247</td>\n",
       "      <td>0.026545</td>\n",
       "      <td>0.028289</td>\n",
       "      <td>0.234892</td>\n",
       "      <td>0.219408</td>\n",
       "      <td>0.047431</td>\n",
       "      <td>0.113245</td>\n",
       "      <td>-0.025629</td>\n",
       "      <td>0.113714</td>\n",
       "      <td>0.011509</td>\n",
       "      <td>...</td>\n",
       "      <td>0.174119</td>\n",
       "      <td>0.351799</td>\n",
       "      <td>0.075858</td>\n",
       "      <td>0.349513</td>\n",
       "      <td>0.354822</td>\n",
       "      <td>0.122070</td>\n",
       "      <td>0.122811</td>\n",
       "      <td>0.091557</td>\n",
       "      <td>-0.007917</td>\n",
       "      <td>-0.031480</td>\n",
       "    </tr>\n",
       "    <tr>\n",
       "      <th>LowQualFinSF</th>\n",
       "      <td>-0.012704</td>\n",
       "      <td>0.017803</td>\n",
       "      <td>-0.004545</td>\n",
       "      <td>0.070365</td>\n",
       "      <td>-0.066028</td>\n",
       "      <td>-0.004923</td>\n",
       "      <td>-0.047099</td>\n",
       "      <td>-0.013500</td>\n",
       "      <td>0.046913</td>\n",
       "      <td>0.087212</td>\n",
       "      <td>...</td>\n",
       "      <td>0.035177</td>\n",
       "      <td>-0.025606</td>\n",
       "      <td>0.006835</td>\n",
       "      <td>0.102059</td>\n",
       "      <td>-0.023359</td>\n",
       "      <td>-0.015622</td>\n",
       "      <td>-0.144191</td>\n",
       "      <td>-0.060371</td>\n",
       "      <td>-0.002257</td>\n",
       "      <td>-0.024801</td>\n",
       "    </tr>\n",
       "    <tr>\n",
       "      <th>MSSubClass</th>\n",
       "      <td>-0.248641</td>\n",
       "      <td>0.309309</td>\n",
       "      <td>-0.037529</td>\n",
       "      <td>-0.008796</td>\n",
       "      <td>-0.064311</td>\n",
       "      <td>-0.072530</td>\n",
       "      <td>0.009950</td>\n",
       "      <td>-0.001878</td>\n",
       "      <td>-0.125994</td>\n",
       "      <td>-0.020867</td>\n",
       "      <td>...</td>\n",
       "      <td>-0.003080</td>\n",
       "      <td>-0.084284</td>\n",
       "      <td>-0.049181</td>\n",
       "      <td>0.040509</td>\n",
       "      <td>-0.219965</td>\n",
       "      <td>-0.017654</td>\n",
       "      <td>0.034409</td>\n",
       "      <td>0.043315</td>\n",
       "      <td>-0.015028</td>\n",
       "      <td>0.005658</td>\n",
       "    </tr>\n",
       "    <tr>\n",
       "      <th>MasVnrArea</th>\n",
       "      <td>0.395834</td>\n",
       "      <td>0.121014</td>\n",
       "      <td>0.013612</td>\n",
       "      <td>0.078126</td>\n",
       "      <td>0.303490</td>\n",
       "      <td>-0.015645</td>\n",
       "      <td>0.141593</td>\n",
       "      <td>0.015006</td>\n",
       "      <td>0.090163</td>\n",
       "      <td>-0.111499</td>\n",
       "      <td>...</td>\n",
       "      <td>0.004512</td>\n",
       "      <td>0.477493</td>\n",
       "      <td>0.065209</td>\n",
       "      <td>0.278228</td>\n",
       "      <td>0.397240</td>\n",
       "      <td>0.166200</td>\n",
       "      <td>0.314051</td>\n",
       "      <td>0.196875</td>\n",
       "      <td>-0.018510</td>\n",
       "      <td>-0.008299</td>\n",
       "    </tr>\n",
       "    <tr>\n",
       "      <th>MiscVal</th>\n",
       "      <td>0.093062</td>\n",
       "      <td>-0.005299</td>\n",
       "      <td>-0.000788</td>\n",
       "      <td>0.000245</td>\n",
       "      <td>0.093295</td>\n",
       "      <td>-0.005139</td>\n",
       "      <td>-0.004629</td>\n",
       "      <td>0.036902</td>\n",
       "      <td>-0.010492</td>\n",
       "      <td>0.008654</td>\n",
       "      <td>...</td>\n",
       "      <td>0.011921</td>\n",
       "      <td>-0.021190</td>\n",
       "      <td>0.007067</td>\n",
       "      <td>0.060903</td>\n",
       "      <td>0.084002</td>\n",
       "      <td>0.056883</td>\n",
       "      <td>-0.010886</td>\n",
       "      <td>-0.003124</td>\n",
       "      <td>0.008445</td>\n",
       "      <td>0.012937</td>\n",
       "    </tr>\n",
       "    <tr>\n",
       "      <th>MoSold</th>\n",
       "      <td>0.040143</td>\n",
       "      <td>0.014185</td>\n",
       "      <td>0.027391</td>\n",
       "      <td>0.055997</td>\n",
       "      <td>-0.000942</td>\n",
       "      <td>-0.009593</td>\n",
       "      <td>-0.003568</td>\n",
       "      <td>0.023014</td>\n",
       "      <td>0.022607</td>\n",
       "      <td>-0.020976</td>\n",
       "      <td>...</td>\n",
       "      <td>-0.042230</td>\n",
       "      <td>0.046432</td>\n",
       "      <td>0.028535</td>\n",
       "      <td>0.045137</td>\n",
       "      <td>0.017888</td>\n",
       "      <td>0.018120</td>\n",
       "      <td>0.013938</td>\n",
       "      <td>0.017693</td>\n",
       "      <td>-0.153895</td>\n",
       "      <td>-0.040109</td>\n",
       "    </tr>\n",
       "    <tr>\n",
       "      <th>OpenPorchSF</th>\n",
       "      <td>0.238502</td>\n",
       "      <td>0.185387</td>\n",
       "      <td>-0.009392</td>\n",
       "      <td>0.086212</td>\n",
       "      <td>0.124163</td>\n",
       "      <td>-0.005876</td>\n",
       "      <td>0.081265</td>\n",
       "      <td>-0.034917</td>\n",
       "      <td>0.119764</td>\n",
       "      <td>-0.059672</td>\n",
       "      <td>...</td>\n",
       "      <td>0.064212</td>\n",
       "      <td>0.315856</td>\n",
       "      <td>0.047777</td>\n",
       "      <td>0.238156</td>\n",
       "      <td>0.245521</td>\n",
       "      <td>0.038457</td>\n",
       "      <td>0.198554</td>\n",
       "      <td>0.242182</td>\n",
       "      <td>-0.037377</td>\n",
       "      <td>0.012238</td>\n",
       "    </tr>\n",
       "    <tr>\n",
       "      <th>OverallCond</th>\n",
       "      <td>-0.157418</td>\n",
       "      <td>0.005494</td>\n",
       "      <td>0.043739</td>\n",
       "      <td>-0.008477</td>\n",
       "      <td>-0.050418</td>\n",
       "      <td>0.041501</td>\n",
       "      <td>-0.042133</td>\n",
       "      <td>0.084181</td>\n",
       "      <td>-0.138202</td>\n",
       "      <td>0.071044</td>\n",
       "      <td>...</td>\n",
       "      <td>-0.016876</td>\n",
       "      <td>-0.077856</td>\n",
       "      <td>0.043713</td>\n",
       "      <td>-0.092027</td>\n",
       "      <td>-0.174002</td>\n",
       "      <td>0.020123</td>\n",
       "      <td>-0.368477</td>\n",
       "      <td>0.047654</td>\n",
       "      <td>0.030102</td>\n",
       "      <td>-0.009676</td>\n",
       "    </tr>\n",
       "    <tr>\n",
       "      <th>OverallQual</th>\n",
       "      <td>0.479152</td>\n",
       "      <td>0.245596</td>\n",
       "      <td>0.018715</td>\n",
       "      <td>0.073075</td>\n",
       "      <td>0.281810</td>\n",
       "      <td>-0.042771</td>\n",
       "      <td>0.164543</td>\n",
       "      <td>-0.040732</td>\n",
       "      <td>0.275175</td>\n",
       "      <td>-0.139256</td>\n",
       "      <td>...</td>\n",
       "      <td>0.030740</td>\n",
       "      <td>0.790982</td>\n",
       "      <td>0.042910</td>\n",
       "      <td>0.389761</td>\n",
       "      <td>0.549294</td>\n",
       "      <td>0.255317</td>\n",
       "      <td>0.597554</td>\n",
       "      <td>0.571532</td>\n",
       "      <td>-0.019614</td>\n",
       "      <td>-0.007269</td>\n",
       "    </tr>\n",
       "    <tr>\n",
       "      <th>PoolArea</th>\n",
       "      <td>0.121900</td>\n",
       "      <td>0.044503</td>\n",
       "      <td>-0.006525</td>\n",
       "      <td>0.036544</td>\n",
       "      <td>0.084462</td>\n",
       "      <td>0.044524</td>\n",
       "      <td>0.043970</td>\n",
       "      <td>0.066851</td>\n",
       "      <td>-0.032273</td>\n",
       "      <td>0.092534</td>\n",
       "      <td>...</td>\n",
       "      <td>1.000000</td>\n",
       "      <td>0.092404</td>\n",
       "      <td>0.026319</td>\n",
       "      <td>0.072061</td>\n",
       "      <td>0.072216</td>\n",
       "      <td>0.094231</td>\n",
       "      <td>0.002304</td>\n",
       "      <td>-0.011407</td>\n",
       "      <td>-0.052816</td>\n",
       "      <td>-0.014226</td>\n",
       "    </tr>\n",
       "    <tr>\n",
       "      <th>SalePrice</th>\n",
       "      <td>0.605852</td>\n",
       "      <td>0.319334</td>\n",
       "      <td>0.044584</td>\n",
       "      <td>0.168213</td>\n",
       "      <td>0.386420</td>\n",
       "      <td>-0.011378</td>\n",
       "      <td>0.227122</td>\n",
       "      <td>-0.016844</td>\n",
       "      <td>0.214479</td>\n",
       "      <td>-0.128578</td>\n",
       "      <td>...</td>\n",
       "      <td>0.092404</td>\n",
       "      <td>1.000000</td>\n",
       "      <td>0.111447</td>\n",
       "      <td>0.533723</td>\n",
       "      <td>0.613581</td>\n",
       "      <td>0.324413</td>\n",
       "      <td>0.522897</td>\n",
       "      <td>0.507101</td>\n",
       "      <td>-0.028923</td>\n",
       "      <td>NaN</td>\n",
       "    </tr>\n",
       "    <tr>\n",
       "      <th>ScreenPorch</th>\n",
       "      <td>0.098381</td>\n",
       "      <td>0.011070</td>\n",
       "      <td>-0.029546</td>\n",
       "      <td>0.007254</td>\n",
       "      <td>0.096823</td>\n",
       "      <td>0.063302</td>\n",
       "      <td>0.053119</td>\n",
       "      <td>0.042069</td>\n",
       "      <td>-0.049158</td>\n",
       "      <td>-0.064377</td>\n",
       "      <td>...</td>\n",
       "      <td>0.026319</td>\n",
       "      <td>0.111447</td>\n",
       "      <td>1.000000</td>\n",
       "      <td>0.032324</td>\n",
       "      <td>0.075363</td>\n",
       "      <td>-0.052134</td>\n",
       "      <td>-0.041046</td>\n",
       "      <td>-0.046878</td>\n",
       "      <td>-0.006634</td>\n",
       "      <td>0.017832</td>\n",
       "    </tr>\n",
       "    <tr>\n",
       "      <th>TotRmsAbvGrd</th>\n",
       "      <td>0.391782</td>\n",
       "      <td>0.584586</td>\n",
       "      <td>-0.025764</td>\n",
       "      <td>0.669737</td>\n",
       "      <td>0.052141</td>\n",
       "      <td>-0.048423</td>\n",
       "      <td>-0.038916</td>\n",
       "      <td>-0.049610</td>\n",
       "      <td>0.247505</td>\n",
       "      <td>0.015345</td>\n",
       "      <td>...</td>\n",
       "      <td>0.072061</td>\n",
       "      <td>0.533723</td>\n",
       "      <td>0.032324</td>\n",
       "      <td>1.000000</td>\n",
       "      <td>0.282126</td>\n",
       "      <td>0.156543</td>\n",
       "      <td>0.114280</td>\n",
       "      <td>0.198250</td>\n",
       "      <td>-0.032354</td>\n",
       "      <td>-0.042257</td>\n",
       "    </tr>\n",
       "    <tr>\n",
       "      <th>TotalBsmtSF</th>\n",
       "      <td>0.801670</td>\n",
       "      <td>-0.205665</td>\n",
       "      <td>0.037892</td>\n",
       "      <td>0.053393</td>\n",
       "      <td>0.536467</td>\n",
       "      <td>0.089410</td>\n",
       "      <td>0.325623</td>\n",
       "      <td>0.012396</td>\n",
       "      <td>0.412285</td>\n",
       "      <td>-0.085510</td>\n",
       "      <td>...</td>\n",
       "      <td>0.072216</td>\n",
       "      <td>0.613581</td>\n",
       "      <td>0.075363</td>\n",
       "      <td>0.282126</td>\n",
       "      <td>1.000000</td>\n",
       "      <td>0.229600</td>\n",
       "      <td>0.408515</td>\n",
       "      <td>0.298107</td>\n",
       "      <td>-0.011184</td>\n",
       "      <td>-0.012834</td>\n",
       "    </tr>\n",
       "    <tr>\n",
       "      <th>WoodDeckSF</th>\n",
       "      <td>0.227347</td>\n",
       "      <td>0.089922</td>\n",
       "      <td>-0.003935</td>\n",
       "      <td>0.031644</td>\n",
       "      <td>0.223492</td>\n",
       "      <td>0.098399</td>\n",
       "      <td>0.186107</td>\n",
       "      <td>0.051549</td>\n",
       "      <td>-0.039302</td>\n",
       "      <td>-0.119114</td>\n",
       "      <td>...</td>\n",
       "      <td>0.094231</td>\n",
       "      <td>0.324413</td>\n",
       "      <td>-0.052134</td>\n",
       "      <td>0.156543</td>\n",
       "      <td>0.229600</td>\n",
       "      <td>1.000000</td>\n",
       "      <td>0.229426</td>\n",
       "      <td>0.218513</td>\n",
       "      <td>-0.000180</td>\n",
       "      <td>-0.004228</td>\n",
       "    </tr>\n",
       "    <tr>\n",
       "      <th>YearBuilt</th>\n",
       "      <td>0.310814</td>\n",
       "      <td>0.017588</td>\n",
       "      <td>0.015958</td>\n",
       "      <td>-0.053101</td>\n",
       "      <td>0.279581</td>\n",
       "      <td>-0.027595</td>\n",
       "      <td>0.211580</td>\n",
       "      <td>-0.030282</td>\n",
       "      <td>0.130473</td>\n",
       "      <td>-0.374073</td>\n",
       "      <td>...</td>\n",
       "      <td>0.002304</td>\n",
       "      <td>0.522897</td>\n",
       "      <td>-0.041046</td>\n",
       "      <td>0.114280</td>\n",
       "      <td>0.408515</td>\n",
       "      <td>0.229426</td>\n",
       "      <td>1.000000</td>\n",
       "      <td>0.612235</td>\n",
       "      <td>-0.012344</td>\n",
       "      <td>0.001485</td>\n",
       "    </tr>\n",
       "    <tr>\n",
       "      <th>YearRemodAdd</th>\n",
       "      <td>0.242245</td>\n",
       "      <td>0.158985</td>\n",
       "      <td>0.037433</td>\n",
       "      <td>-0.021912</td>\n",
       "      <td>0.152126</td>\n",
       "      <td>-0.062153</td>\n",
       "      <td>0.134947</td>\n",
       "      <td>-0.046285</td>\n",
       "      <td>0.165175</td>\n",
       "      <td>-0.220456</td>\n",
       "      <td>...</td>\n",
       "      <td>-0.011407</td>\n",
       "      <td>0.507101</td>\n",
       "      <td>-0.046878</td>\n",
       "      <td>0.198250</td>\n",
       "      <td>0.298107</td>\n",
       "      <td>0.218513</td>\n",
       "      <td>0.612235</td>\n",
       "      <td>1.000000</td>\n",
       "      <td>0.033203</td>\n",
       "      <td>-0.028792</td>\n",
       "    </tr>\n",
       "    <tr>\n",
       "      <th>YrSold</th>\n",
       "      <td>-0.013442</td>\n",
       "      <td>-0.019229</td>\n",
       "      <td>0.022560</td>\n",
       "      <td>-0.020453</td>\n",
       "      <td>0.022556</td>\n",
       "      <td>0.008883</td>\n",
       "      <td>0.045255</td>\n",
       "      <td>-0.020028</td>\n",
       "      <td>-0.038015</td>\n",
       "      <td>-0.001134</td>\n",
       "      <td>...</td>\n",
       "      <td>-0.052816</td>\n",
       "      <td>-0.028923</td>\n",
       "      <td>-0.006634</td>\n",
       "      <td>-0.032354</td>\n",
       "      <td>-0.011184</td>\n",
       "      <td>-0.000180</td>\n",
       "      <td>-0.012344</td>\n",
       "      <td>0.033203</td>\n",
       "      <td>1.000000</td>\n",
       "      <td>-0.017512</td>\n",
       "    </tr>\n",
       "    <tr>\n",
       "      <th>seperate</th>\n",
       "      <td>-0.007765</td>\n",
       "      <td>-0.024526</td>\n",
       "      <td>-0.032068</td>\n",
       "      <td>-0.007555</td>\n",
       "      <td>-0.004869</td>\n",
       "      <td>0.017940</td>\n",
       "      <td>0.008684</td>\n",
       "      <td>0.015608</td>\n",
       "      <td>-0.014729</td>\n",
       "      <td>0.017819</td>\n",
       "      <td>...</td>\n",
       "      <td>-0.014226</td>\n",
       "      <td>NaN</td>\n",
       "      <td>0.017832</td>\n",
       "      <td>-0.042257</td>\n",
       "      <td>-0.012834</td>\n",
       "      <td>-0.004228</td>\n",
       "      <td>0.001485</td>\n",
       "      <td>-0.028792</td>\n",
       "      <td>-0.017512</td>\n",
       "      <td>1.000000</td>\n",
       "    </tr>\n",
       "  </tbody>\n",
       "</table>\n",
       "<p>39 rows × 39 columns</p>\n",
       "</div>"
      ],
      "text/plain": [
       "               1stFlrSF  2ndFlrSF  3SsnPorch  BedroomAbvGr  BsmtFinSF1  \\\n",
       "1stFlrSF       1.000000 -0.249823   0.044086      0.108418    0.458092   \n",
       "2ndFlrSF      -0.249823  1.000000  -0.032458      0.503506   -0.162301   \n",
       "3SsnPorch      0.044086 -0.032458   1.000000     -0.048279    0.050908   \n",
       "BedroomAbvGr   0.108418  0.503506  -0.048279      1.000000   -0.113547   \n",
       "BsmtFinSF1     0.458092 -0.162301   0.050908     -0.113547    1.000000   \n",
       "BsmtFinSF2     0.084330 -0.097744  -0.023279     -0.031223   -0.055045   \n",
       "BsmtFullBath   0.261816 -0.161468   0.027378     -0.155200    0.638847   \n",
       "BsmtHalfBath   0.011074 -0.060282   0.026861      0.018848    0.078361   \n",
       "BsmtUnfSF      0.296600 -0.000376  -0.005810      0.183259   -0.477404   \n",
       "EnclosedPorch -0.065796  0.054645  -0.032822      0.049940   -0.099712   \n",
       "Fireplaces     0.407545  0.169991   0.018852      0.086793    0.293089   \n",
       "FullBath       0.373077  0.402865   0.015192      0.356125    0.081525   \n",
       "GarageArea     0.492011  0.128570   0.029440      0.073912    0.310449   \n",
       "GarageCars     0.440540  0.182452   0.023383      0.092876    0.255482   \n",
       "GarageYrBlt    0.260450  0.086094   0.020699     -0.045364    0.194270   \n",
       "GrLivArea      0.562538  0.655085   0.006268      0.517058    0.211669   \n",
       "HalfBath      -0.104141  0.611362  -0.023417      0.245318   -0.007311   \n",
       "Id            -0.008678 -0.022252  -0.046538      0.003074   -0.016947   \n",
       "KitchenAbvGr   0.076071  0.069032  -0.021462      0.241182   -0.086354   \n",
       "LotArea        0.332460  0.031515   0.015995      0.132801    0.194031   \n",
       "LotFrontage    0.458247  0.026545   0.028289      0.234892    0.219408   \n",
       "LowQualFinSF  -0.012704  0.017803  -0.004545      0.070365   -0.066028   \n",
       "MSSubClass    -0.248641  0.309309  -0.037529     -0.008796   -0.064311   \n",
       "MasVnrArea     0.395834  0.121014   0.013612      0.078126    0.303490   \n",
       "MiscVal        0.093062 -0.005299  -0.000788      0.000245    0.093295   \n",
       "MoSold         0.040143  0.014185   0.027391      0.055997   -0.000942   \n",
       "OpenPorchSF    0.238502  0.185387  -0.009392      0.086212    0.124163   \n",
       "OverallCond   -0.157418  0.005494   0.043739     -0.008477   -0.050418   \n",
       "OverallQual    0.479152  0.245596   0.018715      0.073075    0.281810   \n",
       "PoolArea       0.121900  0.044503  -0.006525      0.036544    0.084462   \n",
       "SalePrice      0.605852  0.319334   0.044584      0.168213    0.386420   \n",
       "ScreenPorch    0.098381  0.011070  -0.029546      0.007254    0.096823   \n",
       "TotRmsAbvGrd   0.391782  0.584586  -0.025764      0.669737    0.052141   \n",
       "TotalBsmtSF    0.801670 -0.205665   0.037892      0.053393    0.536467   \n",
       "WoodDeckSF     0.227347  0.089922  -0.003935      0.031644    0.223492   \n",
       "YearBuilt      0.310814  0.017588   0.015958     -0.053101    0.279581   \n",
       "YearRemodAdd   0.242245  0.158985   0.037433     -0.021912    0.152126   \n",
       "YrSold        -0.013442 -0.019229   0.022560     -0.020453    0.022556   \n",
       "seperate      -0.007765 -0.024526  -0.032068     -0.007555   -0.004869   \n",
       "\n",
       "               BsmtFinSF2  BsmtFullBath  BsmtHalfBath  BsmtUnfSF  \\\n",
       "1stFlrSF         0.084330      0.261816      0.011074   0.296600   \n",
       "2ndFlrSF        -0.097744     -0.161468     -0.060282  -0.000376   \n",
       "3SsnPorch       -0.023279      0.027378      0.026861  -0.005810   \n",
       "BedroomAbvGr    -0.031223     -0.155200      0.018848   0.183259   \n",
       "BsmtFinSF1      -0.055045      0.638847      0.078361  -0.477404   \n",
       "BsmtFinSF2       1.000000      0.162835      0.099485  -0.238241   \n",
       "BsmtFullBath     0.162835      1.000000     -0.148832  -0.398678   \n",
       "BsmtHalfBath     0.099485     -0.148832      1.000000  -0.107121   \n",
       "BsmtUnfSF       -0.238241     -0.398678     -0.107121   1.000000   \n",
       "EnclosedPorch    0.032740     -0.068393     -0.009675   0.005006   \n",
       "Fireplaces       0.065625      0.169580      0.039265   0.004814   \n",
       "FullBath        -0.075432     -0.018815     -0.047046   0.273207   \n",
       "GarageArea       0.003139      0.184738     -0.021445   0.164409   \n",
       "GarageCars      -0.014827      0.161709     -0.033462   0.180099   \n",
       "GarageYrBlt     -0.068549      0.150492     -0.058379   0.171588   \n",
       "GrLivArea       -0.017872      0.060531     -0.043947   0.233988   \n",
       "HalfBath        -0.032448     -0.033468     -0.058438  -0.035803   \n",
       "Id               0.018251      0.000145      0.010387  -0.014453   \n",
       "KitchenAbvGr    -0.037779     -0.017931     -0.064916   0.064987   \n",
       "LotArea          0.084059      0.128349      0.026292   0.021362   \n",
       "LotFrontage      0.047431      0.113245     -0.025629   0.113714   \n",
       "LowQualFinSF    -0.004923     -0.047099     -0.013500   0.046913   \n",
       "MSSubClass      -0.072530      0.009950     -0.001878  -0.125994   \n",
       "MasVnrArea      -0.015645      0.141593      0.015006   0.090163   \n",
       "MiscVal         -0.005139     -0.004629      0.036902  -0.010492   \n",
       "MoSold          -0.009593     -0.003568      0.023014   0.022607   \n",
       "OpenPorchSF     -0.005876      0.081265     -0.034917   0.119764   \n",
       "OverallCond      0.041501     -0.042133      0.084181  -0.138202   \n",
       "OverallQual     -0.042771      0.164543     -0.040732   0.275175   \n",
       "PoolArea         0.044524      0.043970      0.066851  -0.032273   \n",
       "SalePrice       -0.011378      0.227122     -0.016844   0.214479   \n",
       "ScreenPorch      0.063302      0.053119      0.042069  -0.049158   \n",
       "TotRmsAbvGrd    -0.048423     -0.038916     -0.049610   0.247505   \n",
       "TotalBsmtSF      0.089410      0.325623      0.012396   0.412285   \n",
       "WoodDeckSF       0.098399      0.186107      0.051549  -0.039302   \n",
       "YearBuilt       -0.027595      0.211580     -0.030282   0.130473   \n",
       "YearRemodAdd    -0.062153      0.134947     -0.046285   0.165175   \n",
       "YrSold           0.008883      0.045255     -0.020028  -0.038015   \n",
       "seperate         0.017940      0.008684      0.015608  -0.014729   \n",
       "\n",
       "               EnclosedPorch    ...     PoolArea  SalePrice  ScreenPorch  \\\n",
       "1stFlrSF           -0.065796    ...     0.121900   0.605852     0.098381   \n",
       "2ndFlrSF            0.054645    ...     0.044503   0.319334     0.011070   \n",
       "3SsnPorch          -0.032822    ...    -0.006525   0.044584    -0.029546   \n",
       "BedroomAbvGr        0.049940    ...     0.036544   0.168213     0.007254   \n",
       "BsmtFinSF1         -0.099712    ...     0.084462   0.386420     0.096823   \n",
       "BsmtFinSF2          0.032740    ...     0.044524  -0.011378     0.063302   \n",
       "BsmtFullBath       -0.068393    ...     0.043970   0.227122     0.053119   \n",
       "BsmtHalfBath       -0.009675    ...     0.066851  -0.016844     0.042069   \n",
       "BsmtUnfSF           0.005006    ...    -0.032273   0.214479    -0.049158   \n",
       "EnclosedPorch       1.000000    ...     0.092534  -0.128578    -0.064377   \n",
       "Fireplaces          0.000971    ...     0.099123   0.466929     0.169784   \n",
       "FullBath           -0.118983    ...     0.028091   0.560664    -0.015910   \n",
       "GarageArea         -0.106417    ...     0.053049   0.623431     0.062389   \n",
       "GarageCars         -0.132846    ...     0.030424   0.640409     0.043112   \n",
       "GarageYrBlt        -0.300751    ...    -0.014467   0.486362    -0.062320   \n",
       "GrLivArea           0.003274    ...     0.135441   0.708624     0.086284   \n",
       "HalfBath           -0.081978    ...     0.001424   0.284108     0.035622   \n",
       "Id                  0.021609    ...     0.014332  -0.021917     0.022208   \n",
       "KitchenAbvGr        0.027639    ...    -0.013116  -0.135907    -0.056573   \n",
       "LotArea             0.020974    ...     0.093708   0.263843     0.054375   \n",
       "LotFrontage         0.011509    ...     0.174119   0.351799     0.075858   \n",
       "LowQualFinSF        0.087212    ...     0.035177  -0.025606     0.006835   \n",
       "MSSubClass         -0.020867    ...    -0.003080  -0.084284    -0.049181   \n",
       "MasVnrArea         -0.111499    ...     0.004512   0.477493     0.065209   \n",
       "MiscVal             0.008654    ...     0.011921  -0.021190     0.007067   \n",
       "MoSold             -0.020976    ...    -0.042230   0.046432     0.028535   \n",
       "OpenPorchSF        -0.059672    ...     0.064212   0.315856     0.047777   \n",
       "OverallCond         0.071044    ...    -0.016876  -0.077856     0.043713   \n",
       "OverallQual        -0.139256    ...     0.030740   0.790982     0.042910   \n",
       "PoolArea            0.092534    ...     1.000000   0.092404     0.026319   \n",
       "SalePrice          -0.128578    ...     0.092404   1.000000     0.111447   \n",
       "ScreenPorch        -0.064377    ...     0.026319   0.111447     1.000000   \n",
       "TotRmsAbvGrd        0.015345    ...     0.072061   0.533723     0.032324   \n",
       "TotalBsmtSF        -0.085510    ...     0.072216   0.613581     0.075363   \n",
       "WoodDeckSF         -0.119114    ...     0.094231   0.324413    -0.052134   \n",
       "YearBuilt          -0.374073    ...     0.002304   0.522897    -0.041046   \n",
       "YearRemodAdd       -0.220456    ...    -0.011407   0.507101    -0.046878   \n",
       "YrSold             -0.001134    ...    -0.052816  -0.028923    -0.006634   \n",
       "seperate            0.017819    ...    -0.014226        NaN     0.017832   \n",
       "\n",
       "               TotRmsAbvGrd  TotalBsmtSF  WoodDeckSF  YearBuilt  YearRemodAdd  \\\n",
       "1stFlrSF           0.391782     0.801670    0.227347   0.310814      0.242245   \n",
       "2ndFlrSF           0.584586    -0.205665    0.089922   0.017588      0.158985   \n",
       "3SsnPorch         -0.025764     0.037892   -0.003935   0.015958      0.037433   \n",
       "BedroomAbvGr       0.669737     0.053393    0.031644  -0.053101     -0.021912   \n",
       "BsmtFinSF1         0.052141     0.536467    0.223492   0.279581      0.152126   \n",
       "BsmtFinSF2        -0.048423     0.089410    0.098399  -0.027595     -0.062153   \n",
       "BsmtFullBath      -0.038916     0.325623    0.186107   0.211580      0.134947   \n",
       "BsmtHalfBath      -0.049610     0.012396    0.051549  -0.030282     -0.046285   \n",
       "BsmtUnfSF          0.247505     0.412285   -0.039302   0.130473      0.165175   \n",
       "EnclosedPorch      0.015345    -0.085510   -0.119114  -0.374073     -0.220456   \n",
       "Fireplaces         0.311260     0.332953    0.227608   0.170680      0.134157   \n",
       "FullBath           0.527337     0.327762    0.181266   0.471169      0.457980   \n",
       "GarageArea         0.328687     0.486067    0.238075   0.480735      0.376765   \n",
       "GarageCars         0.358053     0.437997    0.240715   0.538074      0.426022   \n",
       "GarageYrBlt        0.162684     0.348408    0.222584   0.834812      0.652365   \n",
       "GrLivArea          0.808354     0.445276    0.251017   0.242666      0.316972   \n",
       "HalfBath           0.345572    -0.055718    0.116701   0.269743      0.211430   \n",
       "Id                -0.029368    -0.024924   -0.007056  -0.016581     -0.050438   \n",
       "KitchenAbvGr       0.294569    -0.038959   -0.087399  -0.137614     -0.142431   \n",
       "LotArea            0.213802     0.254138    0.158045   0.024128      0.021612   \n",
       "LotFrontage        0.349513     0.354822    0.122070   0.122811      0.091557   \n",
       "LowQualFinSF       0.102059    -0.023359   -0.015622  -0.144191     -0.060371   \n",
       "MSSubClass         0.040509    -0.219965   -0.017654   0.034409      0.043315   \n",
       "MasVnrArea         0.278228     0.397240    0.166200   0.314051      0.196875   \n",
       "MiscVal            0.060903     0.084002    0.056883  -0.010886     -0.003124   \n",
       "MoSold             0.045137     0.017888    0.018120   0.013938      0.017693   \n",
       "OpenPorchSF        0.238156     0.245521    0.038457   0.198554      0.242182   \n",
       "OverallCond       -0.092027    -0.174002    0.020123  -0.368477      0.047654   \n",
       "OverallQual        0.389761     0.549294    0.255317   0.597554      0.571532   \n",
       "PoolArea           0.072061     0.072216    0.094231   0.002304     -0.011407   \n",
       "SalePrice          0.533723     0.613581    0.324413   0.522897      0.507101   \n",
       "ScreenPorch        0.032324     0.075363   -0.052134  -0.041046     -0.046878   \n",
       "TotRmsAbvGrd       1.000000     0.282126    0.156543   0.114280      0.198250   \n",
       "TotalBsmtSF        0.282126     1.000000    0.229600   0.408515      0.298107   \n",
       "WoodDeckSF         0.156543     0.229600    1.000000   0.229426      0.218513   \n",
       "YearBuilt          0.114280     0.408515    0.229426   1.000000      0.612235   \n",
       "YearRemodAdd       0.198250     0.298107    0.218513   0.612235      1.000000   \n",
       "YrSold            -0.032354    -0.011184   -0.000180  -0.012344      0.033203   \n",
       "seperate          -0.042257    -0.012834   -0.004228   0.001485     -0.028792   \n",
       "\n",
       "                 YrSold  seperate  \n",
       "1stFlrSF      -0.013442 -0.007765  \n",
       "2ndFlrSF      -0.019229 -0.024526  \n",
       "3SsnPorch      0.022560 -0.032068  \n",
       "BedroomAbvGr  -0.020453 -0.007555  \n",
       "BsmtFinSF1     0.022556 -0.004869  \n",
       "BsmtFinSF2     0.008883  0.017940  \n",
       "BsmtFullBath   0.045255  0.008684  \n",
       "BsmtHalfBath  -0.020028  0.015608  \n",
       "BsmtUnfSF     -0.038015 -0.014729  \n",
       "EnclosedPorch -0.001134  0.017819  \n",
       "Fireplaces    -0.006752 -0.024607  \n",
       "FullBath      -0.004882  0.005309  \n",
       "GarageArea    -0.013451 -0.000491  \n",
       "GarageCars    -0.022918 -0.000660  \n",
       "GarageYrBlt   -0.004543 -0.015349  \n",
       "GrLivArea     -0.026919 -0.029071  \n",
       "HalfBath       0.001587 -0.005192  \n",
       "Id            -0.256050  0.866025  \n",
       "KitchenAbvGr   0.035173 -0.009515  \n",
       "LotArea       -0.024234 -0.044237  \n",
       "LotFrontage   -0.007917 -0.031480  \n",
       "LowQualFinSF  -0.002257 -0.024801  \n",
       "MSSubClass    -0.015028  0.005658  \n",
       "MasVnrArea    -0.018510 -0.008299  \n",
       "MiscVal        0.008445  0.012937  \n",
       "MoSold        -0.153895 -0.040109  \n",
       "OpenPorchSF   -0.037377  0.012238  \n",
       "OverallCond    0.030102 -0.009676  \n",
       "OverallQual   -0.019614 -0.007269  \n",
       "PoolArea      -0.052816 -0.014226  \n",
       "SalePrice     -0.028923       NaN  \n",
       "ScreenPorch   -0.006634  0.017832  \n",
       "TotRmsAbvGrd  -0.032354 -0.042257  \n",
       "TotalBsmtSF   -0.011184 -0.012834  \n",
       "WoodDeckSF    -0.000180 -0.004228  \n",
       "YearBuilt     -0.012344  0.001485  \n",
       "YearRemodAdd   0.033203 -0.028792  \n",
       "YrSold         1.000000 -0.017512  \n",
       "seperate      -0.017512  1.000000  \n",
       "\n",
       "[39 rows x 39 columns]"
      ]
     },
     "execution_count": 23,
     "metadata": {},
     "output_type": "execute_result"
    }
   ],
   "source": [
    "num_data.corr()"
   ]
  },
  {
   "cell_type": "code",
   "execution_count": 24,
   "metadata": {},
   "outputs": [
    {
     "data": {
      "text/plain": [
       "GarageYrBlt     1.000000\n",
       "YearBuilt       0.834812\n",
       "YearRemodAdd    0.652365\n",
       "GarageCars      0.587712\n",
       "OverallQual     0.571803\n",
       "GarageArea      0.555836\n",
       "Name: GarageYrBlt, dtype: float64"
      ]
     },
     "execution_count": 24,
     "metadata": {},
     "output_type": "execute_result"
    }
   ],
   "source": [
    "# I will use the first five strong correlated factors to fill in the GarageYrBlt attribute.\n",
    "num_data.corr()['GarageYrBlt'].sort_values(ascending=False)[0:6]"
   ]
  },
  {
   "cell_type": "code",
   "execution_count": 25,
   "metadata": {
    "collapsed": true
   },
   "outputs": [],
   "source": [
    "#I realize that if garagecar is zero. Garageyrblt is missing. That means garageyrblt should \n",
    "#also be zero"
   ]
  },
  {
   "cell_type": "code",
   "execution_count": 26,
   "metadata": {},
   "outputs": [
    {
     "data": {
      "text/plain": [
       "((158, 82), 158)"
      ]
     },
     "execution_count": 26,
     "metadata": {},
     "output_type": "execute_result"
    }
   ],
   "source": [
    "data[data['GarageCars']==0].shape,data[data['GarageCars']==0]['GarageYrBlt'].isnull().sum()"
   ]
  },
  {
   "cell_type": "code",
   "execution_count": 27,
   "metadata": {
    "collapsed": true
   },
   "outputs": [],
   "source": [
    "data.loc[data.GarageCars==0,'GarageYrBlt']=0"
   ]
  },
  {
   "cell_type": "code",
   "execution_count": 28,
   "metadata": {
    "scrolled": true
   },
   "outputs": [
    {
     "data": {
      "text/plain": [
       "666    1.0\n",
       "Name: GarageCars, dtype: float64"
      ]
     },
     "execution_count": 28,
     "metadata": {},
     "output_type": "execute_result"
    }
   ],
   "source": [
    "data[data['GarageYrBlt'].isnull()]['GarageCars']"
   ]
  },
  {
   "cell_type": "code",
   "execution_count": 29,
   "metadata": {
    "collapsed": true,
    "scrolled": true
   },
   "outputs": [],
   "source": [
    "data['GarageYrBlt']=data.groupby(['YearBuilt'])['GarageYrBlt'].transform(lambda x:x.fillna(x.mean()))"
   ]
  },
  {
   "cell_type": "code",
   "execution_count": null,
   "metadata": {
    "collapsed": true
   },
   "outputs": [],
   "source": [
    "#TotalBsmtSF"
   ]
  },
  {
   "cell_type": "code",
   "execution_count": 44,
   "metadata": {},
   "outputs": [
    {
     "data": {
      "text/html": [
       "<div>\n",
       "<style>\n",
       "    .dataframe thead tr:only-child th {\n",
       "        text-align: right;\n",
       "    }\n",
       "\n",
       "    .dataframe thead th {\n",
       "        text-align: left;\n",
       "    }\n",
       "\n",
       "    .dataframe tbody tr th {\n",
       "        vertical-align: top;\n",
       "    }\n",
       "</style>\n",
       "<table border=\"1\" class=\"dataframe\">\n",
       "  <thead>\n",
       "    <tr style=\"text-align: right;\">\n",
       "      <th></th>\n",
       "      <th>1stFlrSF</th>\n",
       "      <th>2ndFlrSF</th>\n",
       "      <th>3SsnPorch</th>\n",
       "      <th>Alley</th>\n",
       "      <th>BedroomAbvGr</th>\n",
       "      <th>BldgType</th>\n",
       "      <th>BsmtCond</th>\n",
       "      <th>BsmtExposure</th>\n",
       "      <th>BsmtFinSF1</th>\n",
       "      <th>BsmtFinSF2</th>\n",
       "      <th>...</th>\n",
       "      <th>ScreenPorch</th>\n",
       "      <th>Street</th>\n",
       "      <th>TotRmsAbvGrd</th>\n",
       "      <th>TotalBsmtSF</th>\n",
       "      <th>Utilities</th>\n",
       "      <th>WoodDeckSF</th>\n",
       "      <th>YearBuilt</th>\n",
       "      <th>YearRemodAdd</th>\n",
       "      <th>YrSold</th>\n",
       "      <th>seperate</th>\n",
       "    </tr>\n",
       "  </thead>\n",
       "  <tbody>\n",
       "    <tr>\n",
       "      <th>660</th>\n",
       "      <td>896</td>\n",
       "      <td>0</td>\n",
       "      <td>0</td>\n",
       "      <td>NaN</td>\n",
       "      <td>2</td>\n",
       "      <td>1Fam</td>\n",
       "      <td>NaN</td>\n",
       "      <td>NaN</td>\n",
       "      <td>NaN</td>\n",
       "      <td>NaN</td>\n",
       "      <td>...</td>\n",
       "      <td>0</td>\n",
       "      <td>Pave</td>\n",
       "      <td>4</td>\n",
       "      <td>NaN</td>\n",
       "      <td>AllPub</td>\n",
       "      <td>0</td>\n",
       "      <td>1946</td>\n",
       "      <td>1950</td>\n",
       "      <td>2008</td>\n",
       "      <td>1</td>\n",
       "    </tr>\n",
       "  </tbody>\n",
       "</table>\n",
       "<p>1 rows × 82 columns</p>\n",
       "</div>"
      ],
      "text/plain": [
       "     1stFlrSF  2ndFlrSF  3SsnPorch Alley  BedroomAbvGr BldgType BsmtCond  \\\n",
       "660       896         0          0   NaN             2     1Fam      NaN   \n",
       "\n",
       "    BsmtExposure  BsmtFinSF1  BsmtFinSF2   ...    ScreenPorch Street  \\\n",
       "660          NaN         NaN         NaN   ...              0   Pave   \n",
       "\n",
       "     TotRmsAbvGrd  TotalBsmtSF Utilities  WoodDeckSF YearBuilt YearRemodAdd  \\\n",
       "660             4          NaN    AllPub           0      1946         1950   \n",
       "\n",
       "    YrSold seperate  \n",
       "660   2008        1  \n",
       "\n",
       "[1 rows x 82 columns]"
      ]
     },
     "execution_count": 44,
     "metadata": {},
     "output_type": "execute_result"
    }
   ],
   "source": [
    "data[data['TotalBsmtSF'].isnull()]"
   ]
  },
  {
   "cell_type": "code",
   "execution_count": 45,
   "metadata": {
    "scrolled": true
   },
   "outputs": [
    {
     "data": {
      "text/plain": [
       "TotalBsmtSF    1.000000\n",
       "1stFlrSF       0.801670\n",
       "SalePrice      0.613581\n",
       "OverallQual    0.549294\n",
       "BsmtFinSF1     0.536467\n",
       "GarageArea     0.486067\n",
       "Name: TotalBsmtSF, dtype: float64"
      ]
     },
     "execution_count": 45,
     "metadata": {},
     "output_type": "execute_result"
    }
   ],
   "source": [
    "num_data.corr()['TotalBsmtSF'].sort_values(ascending=False)[0:6]"
   ]
  },
  {
   "cell_type": "code",
   "execution_count": 46,
   "metadata": {
    "collapsed": true
   },
   "outputs": [],
   "source": [
    "data['TotalBsmtSF']=data.groupby(['1stFlrSF'])['TotalBsmtSF'].transform(lambda x:x.fillna(x.mean()))"
   ]
  },
  {
   "cell_type": "code",
   "execution_count": null,
   "metadata": {
    "collapsed": true
   },
   "outputs": [],
   "source": [
    "#LotFrontage"
   ]
  },
  {
   "cell_type": "code",
   "execution_count": 32,
   "metadata": {},
   "outputs": [
    {
     "data": {
      "text/plain": [
       "LotFrontage    1.000000\n",
       "LotArea        0.489896\n",
       "1stFlrSF       0.458247\n",
       "GrLivArea      0.382462\n",
       "GarageArea     0.359786\n",
       "TotalBsmtSF    0.354822\n",
       "Name: LotFrontage, dtype: float64"
      ]
     },
     "execution_count": 32,
     "metadata": {},
     "output_type": "execute_result"
    }
   ],
   "source": [
    "num_data.corr()['LotFrontage'].sort_values(ascending=False)[0:6]"
   ]
  },
  {
   "cell_type": "code",
   "execution_count": 33,
   "metadata": {
    "scrolled": true
   },
   "outputs": [
    {
     "data": {
      "text/plain": [
       "count    2433.000000\n",
       "mean       69.305795\n",
       "std        23.344905\n",
       "min        21.000000\n",
       "25%        59.000000\n",
       "50%        68.000000\n",
       "75%        80.000000\n",
       "max       313.000000\n",
       "Name: LotFrontage, dtype: float64"
      ]
     },
     "execution_count": 33,
     "metadata": {},
     "output_type": "execute_result"
    }
   ],
   "source": [
    "data['LotFrontage'].describe()"
   ]
  },
  {
   "cell_type": "code",
   "execution_count": 53,
   "metadata": {
    "collapsed": true
   },
   "outputs": [],
   "source": [
    "data['LotFrontage']=data.groupby(['1stFlrSF','LotArea'\n",
    "                                  \n",
    "                                 ])['LotFrontage'].transform(lambda x:x.fillna(x.mean()))"
   ]
  },
  {
   "cell_type": "code",
   "execution_count": 56,
   "metadata": {
    "collapsed": true
   },
   "outputs": [
    {
     "data": {
      "text/plain": [
       "TotalBsmtSF  GrLivArea  1stFlrSF  LotArea\n",
       "0.0          334        334       5000        50.0\n",
       "             612        612       5925        50.0\n",
       "             640        640       8777        67.0\n",
       "             660        660       9000         NaN\n",
       "             720        720       6627         NaN\n",
       "             729        729       12366       69.0\n",
       "             733        733       14584       80.0\n",
       "             808        808       6120         NaN\n",
       "             810        810       21780      109.0\n",
       "             827        827       7200        60.0\n",
       "             845        640       11067       64.0\n",
       "                        845       11500        NaN\n",
       "             869        869       10122       60.0\n",
       "             882        882       8339         NaN\n",
       "                                  12702       70.0\n",
       "             912        672       6240        52.0\n",
       "             925        925       7000        70.0\n",
       "             930        930       11100       60.0\n",
       "             943        943       11515        NaN\n",
       "             944        944       10206       74.0\n",
       "             968        968       8626        52.0\n",
       "             998        998       9000         NaN\n",
       "             1014       1014      7785        74.0\n",
       "             1032       1032      8250        55.0\n",
       "             1040       1040      7200        60.0\n",
       "                                  8544        60.0\n",
       "             1048       1048      7200        60.0\n",
       "             1092       372       5600        70.0\n",
       "             1124       1124      8335        77.0\n",
       "             1126       1126      8777        67.0\n",
       "                                             ...  \n",
       "2200.0       2200       2200      15262      117.0\n",
       "2208.0       2522       2522      7296        28.0\n",
       "2216.0       2234       2234      17423       63.0\n",
       "2217.0       2217       2217      15865       95.0\n",
       "2220.0       2234       2234      14082       85.0\n",
       "2223.0       2223       2223      13651       95.0\n",
       "2271.0       2276       2276      11778       91.0\n",
       "2320.0       2290       2290      17169       59.0\n",
       "2330.0       2364       2364      12919      100.0\n",
       "2392.0       2392       2392      13472      103.0\n",
       "2396.0       4476       2411      15623      160.0\n",
       "2418.0       2464       2464      13693      105.0\n",
       "2444.0       4316       2444      21535      104.0\n",
       "2452.0       2452       2452      15274      110.0\n",
       "2458.0       2490       2490      11128       85.0\n",
       "2461.0       2497       2497      17778       94.0\n",
       "2492.0       2492       2492      14836      100.0\n",
       "2524.0       2524       2524      9600        80.0\n",
       "2535.0       2470       2470      12720      106.0\n",
       "2552.0       2552       2552      13891      107.0\n",
       "2630.0       2674       2674      13693      105.0\n",
       "2633.0       2633       2633      11400        NaN\n",
       "2660.0       2338       2338      51974       52.0\n",
       "2846.0       2696       2696      14300      110.0\n",
       "3094.0       2402       2402      15431      105.0\n",
       "3138.0       4676       3138      40094      130.0\n",
       "3200.0       3228       3228      12692        NaN\n",
       "3206.0       1629       1629      10655       85.0\n",
       "5095.0       5095       5095      39290      128.0\n",
       "6110.0       5642       4692      63887      313.0\n",
       "Name: LotFrontage, Length: 2845, dtype: float64"
      ]
     },
     "execution_count": 56,
     "metadata": {},
     "output_type": "execute_result"
    }
   ],
   "source": [
    "data.groupby(['TotalBsmtSF','GrLivArea','1stFlrSF','LotArea'])['LotFrontage'].mean()\n",
    "#Majority of the missing values in LotFrontage can't be filled in based on the highly correlated attributes."
   ]
  },
  {
   "cell_type": "code",
   "execution_count": 79,
   "metadata": {
    "collapsed": true,
    "scrolled": true
   },
   "outputs": [],
   "source": [
    "#Method-2\n",
    "from sklearn.linear_model import LinearRegression\n",
    "linreg=LinearRegression()\n",
    "LotFrontage_withoutnull=data[['TotalBsmtSF','GrLivArea','1stFlrSF','LotArea','LotFrontage']].dropna()\n",
    "train_LotFrontage_x=LotFrontage_withoutnull.iloc[:,0:3]\n",
    "train_LotFrontage_y=LotFrontage_withoutnull.iloc[:,4]\n",
    "train_LotFrontage_x.shape,train_LotFrontage_y.shape\n",
    "test_LotFrontage_x=data[['TotalBsmtSF','GrLivArea','1stFlrSF','LotArea','LotFrontage']].iloc[:,0:3]\n",
    "#training with avaiable data\n",
    "linreg.fit(train_LotFrontage_x,train_LotFrontage_y)\n",
    "#predict for the missing LotFrontage attribute\n",
    "prediction_LotFrontage=pd.DataFrame({'LotFrontage':[]})\n",
    "prediction_LotFrontage['LotFrontage']=linreg.predict(test_LotFrontage_x)\n",
    "data.LotFrontage.fillna(prediction_LotFrontage.LotFrontage,inplace=True)"
   ]
  },
  {
   "cell_type": "code",
   "execution_count": 81,
   "metadata": {},
   "outputs": [
    {
     "data": {
      "text/plain": [
       "1stFlrSF            0\n",
       "2ndFlrSF            0\n",
       "3SsnPorch           0\n",
       "BedroomAbvGr        0\n",
       "BsmtFinSF1          1\n",
       "BsmtFinSF2          1\n",
       "BsmtFullBath        2\n",
       "BsmtHalfBath        2\n",
       "BsmtUnfSF           1\n",
       "EnclosedPorch       0\n",
       "Fireplaces          0\n",
       "FullBath            0\n",
       "GarageArea          0\n",
       "GarageCars          0\n",
       "GarageYrBlt         0\n",
       "GrLivArea           0\n",
       "HalfBath            0\n",
       "Id                  0\n",
       "KitchenAbvGr        0\n",
       "LotArea             0\n",
       "LotFrontage         0\n",
       "LowQualFinSF        0\n",
       "MSSubClass          0\n",
       "MasVnrArea         23\n",
       "MiscVal             0\n",
       "MoSold              0\n",
       "OpenPorchSF         0\n",
       "OverallCond         0\n",
       "OverallQual         0\n",
       "PoolArea            0\n",
       "SalePrice        1459\n",
       "ScreenPorch         0\n",
       "TotRmsAbvGrd        0\n",
       "TotalBsmtSF         0\n",
       "WoodDeckSF          0\n",
       "YearBuilt           0\n",
       "YearRemodAdd        0\n",
       "YrSold              0\n",
       "seperate            0\n",
       "dtype: int64"
      ]
     },
     "execution_count": 81,
     "metadata": {},
     "output_type": "execute_result"
    }
   ],
   "source": [
    "data.select_dtypes(exclude=['object']).isnull().sum()"
   ]
  },
  {
   "cell_type": "code",
   "execution_count": null,
   "metadata": {
    "collapsed": true
   },
   "outputs": [],
   "source": [
    "#MasVnrArea"
   ]
  },
  {
   "cell_type": "code",
   "execution_count": 83,
   "metadata": {
    "collapsed": true
   },
   "outputs": [
    {
     "data": {
      "text/html": [
       "<div>\n",
       "<style>\n",
       "    .dataframe thead tr:only-child th {\n",
       "        text-align: right;\n",
       "    }\n",
       "\n",
       "    .dataframe thead th {\n",
       "        text-align: left;\n",
       "    }\n",
       "\n",
       "    .dataframe tbody tr th {\n",
       "        vertical-align: top;\n",
       "    }\n",
       "</style>\n",
       "<table border=\"1\" class=\"dataframe\">\n",
       "  <thead>\n",
       "    <tr style=\"text-align: right;\">\n",
       "      <th></th>\n",
       "      <th>1stFlrSF</th>\n",
       "      <th>2ndFlrSF</th>\n",
       "      <th>3SsnPorch</th>\n",
       "      <th>Alley</th>\n",
       "      <th>BedroomAbvGr</th>\n",
       "      <th>BldgType</th>\n",
       "      <th>BsmtCond</th>\n",
       "      <th>BsmtExposure</th>\n",
       "      <th>BsmtFinSF1</th>\n",
       "      <th>BsmtFinSF2</th>\n",
       "      <th>...</th>\n",
       "      <th>ScreenPorch</th>\n",
       "      <th>Street</th>\n",
       "      <th>TotRmsAbvGrd</th>\n",
       "      <th>TotalBsmtSF</th>\n",
       "      <th>Utilities</th>\n",
       "      <th>WoodDeckSF</th>\n",
       "      <th>YearBuilt</th>\n",
       "      <th>YearRemodAdd</th>\n",
       "      <th>YrSold</th>\n",
       "      <th>seperate</th>\n",
       "    </tr>\n",
       "  </thead>\n",
       "  <tbody>\n",
       "    <tr>\n",
       "      <th>234</th>\n",
       "      <td>860</td>\n",
       "      <td>1100</td>\n",
       "      <td>0</td>\n",
       "      <td>NaN</td>\n",
       "      <td>4</td>\n",
       "      <td>1Fam</td>\n",
       "      <td>TA</td>\n",
       "      <td>No</td>\n",
       "      <td>625.0</td>\n",
       "      <td>0.0</td>\n",
       "      <td>...</td>\n",
       "      <td>0</td>\n",
       "      <td>Pave</td>\n",
       "      <td>8</td>\n",
       "      <td>860.0</td>\n",
       "      <td>AllPub</td>\n",
       "      <td>288</td>\n",
       "      <td>2002</td>\n",
       "      <td>2002</td>\n",
       "      <td>2010</td>\n",
       "      <td>0</td>\n",
       "    </tr>\n",
       "    <tr>\n",
       "      <th>529</th>\n",
       "      <td>2515</td>\n",
       "      <td>0</td>\n",
       "      <td>0</td>\n",
       "      <td>NaN</td>\n",
       "      <td>4</td>\n",
       "      <td>1Fam</td>\n",
       "      <td>TA</td>\n",
       "      <td>No</td>\n",
       "      <td>1219.0</td>\n",
       "      <td>0.0</td>\n",
       "      <td>...</td>\n",
       "      <td>0</td>\n",
       "      <td>Pave</td>\n",
       "      <td>9</td>\n",
       "      <td>2035.0</td>\n",
       "      <td>AllPub</td>\n",
       "      <td>0</td>\n",
       "      <td>1957</td>\n",
       "      <td>1975</td>\n",
       "      <td>2007</td>\n",
       "      <td>0</td>\n",
       "    </tr>\n",
       "    <tr>\n",
       "      <th>650</th>\n",
       "      <td>822</td>\n",
       "      <td>843</td>\n",
       "      <td>0</td>\n",
       "      <td>NaN</td>\n",
       "      <td>3</td>\n",
       "      <td>1Fam</td>\n",
       "      <td>TA</td>\n",
       "      <td>No</td>\n",
       "      <td>0.0</td>\n",
       "      <td>0.0</td>\n",
       "      <td>...</td>\n",
       "      <td>0</td>\n",
       "      <td>Pave</td>\n",
       "      <td>7</td>\n",
       "      <td>813.0</td>\n",
       "      <td>AllPub</td>\n",
       "      <td>0</td>\n",
       "      <td>2007</td>\n",
       "      <td>2007</td>\n",
       "      <td>2008</td>\n",
       "      <td>0</td>\n",
       "    </tr>\n",
       "    <tr>\n",
       "      <th>936</th>\n",
       "      <td>1200</td>\n",
       "      <td>0</td>\n",
       "      <td>0</td>\n",
       "      <td>NaN</td>\n",
       "      <td>2</td>\n",
       "      <td>1Fam</td>\n",
       "      <td>TA</td>\n",
       "      <td>No</td>\n",
       "      <td>833.0</td>\n",
       "      <td>0.0</td>\n",
       "      <td>...</td>\n",
       "      <td>0</td>\n",
       "      <td>Pave</td>\n",
       "      <td>5</td>\n",
       "      <td>1176.0</td>\n",
       "      <td>AllPub</td>\n",
       "      <td>0</td>\n",
       "      <td>2003</td>\n",
       "      <td>2003</td>\n",
       "      <td>2009</td>\n",
       "      <td>0</td>\n",
       "    </tr>\n",
       "    <tr>\n",
       "      <th>973</th>\n",
       "      <td>1428</td>\n",
       "      <td>0</td>\n",
       "      <td>0</td>\n",
       "      <td>NaN</td>\n",
       "      <td>3</td>\n",
       "      <td>1Fam</td>\n",
       "      <td>TA</td>\n",
       "      <td>No</td>\n",
       "      <td>0.0</td>\n",
       "      <td>0.0</td>\n",
       "      <td>...</td>\n",
       "      <td>0</td>\n",
       "      <td>Pave</td>\n",
       "      <td>6</td>\n",
       "      <td>1428.0</td>\n",
       "      <td>AllPub</td>\n",
       "      <td>0</td>\n",
       "      <td>2007</td>\n",
       "      <td>2008</td>\n",
       "      <td>2008</td>\n",
       "      <td>0</td>\n",
       "    </tr>\n",
       "    <tr>\n",
       "      <th>977</th>\n",
       "      <td>1241</td>\n",
       "      <td>0</td>\n",
       "      <td>0</td>\n",
       "      <td>Pave</td>\n",
       "      <td>1</td>\n",
       "      <td>TwnhsE</td>\n",
       "      <td>TA</td>\n",
       "      <td>No</td>\n",
       "      <td>1106.0</td>\n",
       "      <td>0.0</td>\n",
       "      <td>...</td>\n",
       "      <td>0</td>\n",
       "      <td>Pave</td>\n",
       "      <td>4</td>\n",
       "      <td>1241.0</td>\n",
       "      <td>AllPub</td>\n",
       "      <td>0</td>\n",
       "      <td>2006</td>\n",
       "      <td>2007</td>\n",
       "      <td>2007</td>\n",
       "      <td>0</td>\n",
       "    </tr>\n",
       "    <tr>\n",
       "      <th>1243</th>\n",
       "      <td>2076</td>\n",
       "      <td>0</td>\n",
       "      <td>0</td>\n",
       "      <td>NaN</td>\n",
       "      <td>2</td>\n",
       "      <td>1Fam</td>\n",
       "      <td>Gd</td>\n",
       "      <td>Gd</td>\n",
       "      <td>1386.0</td>\n",
       "      <td>0.0</td>\n",
       "      <td>...</td>\n",
       "      <td>0</td>\n",
       "      <td>Pave</td>\n",
       "      <td>7</td>\n",
       "      <td>2076.0</td>\n",
       "      <td>AllPub</td>\n",
       "      <td>216</td>\n",
       "      <td>2006</td>\n",
       "      <td>2006</td>\n",
       "      <td>2006</td>\n",
       "      <td>0</td>\n",
       "    </tr>\n",
       "    <tr>\n",
       "      <th>1278</th>\n",
       "      <td>1128</td>\n",
       "      <td>903</td>\n",
       "      <td>0</td>\n",
       "      <td>NaN</td>\n",
       "      <td>3</td>\n",
       "      <td>1Fam</td>\n",
       "      <td>TA</td>\n",
       "      <td>No</td>\n",
       "      <td>804.0</td>\n",
       "      <td>0.0</td>\n",
       "      <td>...</td>\n",
       "      <td>0</td>\n",
       "      <td>Pave</td>\n",
       "      <td>7</td>\n",
       "      <td>1128.0</td>\n",
       "      <td>AllPub</td>\n",
       "      <td>0</td>\n",
       "      <td>2002</td>\n",
       "      <td>2002</td>\n",
       "      <td>2008</td>\n",
       "      <td>0</td>\n",
       "    </tr>\n",
       "    <tr>\n",
       "      <th>231</th>\n",
       "      <td>878</td>\n",
       "      <td>1126</td>\n",
       "      <td>0</td>\n",
       "      <td>NaN</td>\n",
       "      <td>4</td>\n",
       "      <td>1Fam</td>\n",
       "      <td>TA</td>\n",
       "      <td>No</td>\n",
       "      <td>651.0</td>\n",
       "      <td>0.0</td>\n",
       "      <td>...</td>\n",
       "      <td>0</td>\n",
       "      <td>Pave</td>\n",
       "      <td>8</td>\n",
       "      <td>870.0</td>\n",
       "      <td>AllPub</td>\n",
       "      <td>0</td>\n",
       "      <td>2002</td>\n",
       "      <td>2002</td>\n",
       "      <td>2009</td>\n",
       "      <td>1</td>\n",
       "    </tr>\n",
       "    <tr>\n",
       "      <th>246</th>\n",
       "      <td>1436</td>\n",
       "      <td>0</td>\n",
       "      <td>0</td>\n",
       "      <td>NaN</td>\n",
       "      <td>3</td>\n",
       "      <td>1Fam</td>\n",
       "      <td>TA</td>\n",
       "      <td>No</td>\n",
       "      <td>0.0</td>\n",
       "      <td>0.0</td>\n",
       "      <td>...</td>\n",
       "      <td>0</td>\n",
       "      <td>Pave</td>\n",
       "      <td>6</td>\n",
       "      <td>1436.0</td>\n",
       "      <td>AllPub</td>\n",
       "      <td>0</td>\n",
       "      <td>2008</td>\n",
       "      <td>2009</td>\n",
       "      <td>2009</td>\n",
       "      <td>1</td>\n",
       "    </tr>\n",
       "    <tr>\n",
       "      <th>422</th>\n",
       "      <td>840</td>\n",
       "      <td>885</td>\n",
       "      <td>0</td>\n",
       "      <td>NaN</td>\n",
       "      <td>3</td>\n",
       "      <td>1Fam</td>\n",
       "      <td>TA</td>\n",
       "      <td>No</td>\n",
       "      <td>0.0</td>\n",
       "      <td>0.0</td>\n",
       "      <td>...</td>\n",
       "      <td>0</td>\n",
       "      <td>Pave</td>\n",
       "      <td>6</td>\n",
       "      <td>840.0</td>\n",
       "      <td>AllPub</td>\n",
       "      <td>0</td>\n",
       "      <td>2002</td>\n",
       "      <td>2002</td>\n",
       "      <td>2009</td>\n",
       "      <td>1</td>\n",
       "    </tr>\n",
       "    <tr>\n",
       "      <th>532</th>\n",
       "      <td>707</td>\n",
       "      <td>707</td>\n",
       "      <td>0</td>\n",
       "      <td>NaN</td>\n",
       "      <td>3</td>\n",
       "      <td>1Fam</td>\n",
       "      <td>TA</td>\n",
       "      <td>No</td>\n",
       "      <td>0.0</td>\n",
       "      <td>0.0</td>\n",
       "      <td>...</td>\n",
       "      <td>0</td>\n",
       "      <td>Pave</td>\n",
       "      <td>6</td>\n",
       "      <td>707.0</td>\n",
       "      <td>AllPub</td>\n",
       "      <td>100</td>\n",
       "      <td>2002</td>\n",
       "      <td>2002</td>\n",
       "      <td>2008</td>\n",
       "      <td>1</td>\n",
       "    </tr>\n",
       "    <tr>\n",
       "      <th>544</th>\n",
       "      <td>1460</td>\n",
       "      <td>0</td>\n",
       "      <td>0</td>\n",
       "      <td>NaN</td>\n",
       "      <td>3</td>\n",
       "      <td>1Fam</td>\n",
       "      <td>TA</td>\n",
       "      <td>No</td>\n",
       "      <td>666.0</td>\n",
       "      <td>0.0</td>\n",
       "      <td>...</td>\n",
       "      <td>0</td>\n",
       "      <td>Pave</td>\n",
       "      <td>6</td>\n",
       "      <td>1460.0</td>\n",
       "      <td>AllPub</td>\n",
       "      <td>0</td>\n",
       "      <td>2006</td>\n",
       "      <td>2007</td>\n",
       "      <td>2008</td>\n",
       "      <td>1</td>\n",
       "    </tr>\n",
       "    <tr>\n",
       "      <th>581</th>\n",
       "      <td>952</td>\n",
       "      <td>860</td>\n",
       "      <td>0</td>\n",
       "      <td>NaN</td>\n",
       "      <td>3</td>\n",
       "      <td>1Fam</td>\n",
       "      <td>TA</td>\n",
       "      <td>No</td>\n",
       "      <td>0.0</td>\n",
       "      <td>0.0</td>\n",
       "      <td>...</td>\n",
       "      <td>0</td>\n",
       "      <td>Pave</td>\n",
       "      <td>7</td>\n",
       "      <td>952.0</td>\n",
       "      <td>AllPub</td>\n",
       "      <td>144</td>\n",
       "      <td>2002</td>\n",
       "      <td>2002</td>\n",
       "      <td>2008</td>\n",
       "      <td>1</td>\n",
       "    </tr>\n",
       "    <tr>\n",
       "      <th>851</th>\n",
       "      <td>768</td>\n",
       "      <td>728</td>\n",
       "      <td>0</td>\n",
       "      <td>NaN</td>\n",
       "      <td>3</td>\n",
       "      <td>1Fam</td>\n",
       "      <td>TA</td>\n",
       "      <td>No</td>\n",
       "      <td>0.0</td>\n",
       "      <td>0.0</td>\n",
       "      <td>...</td>\n",
       "      <td>0</td>\n",
       "      <td>Pave</td>\n",
       "      <td>7</td>\n",
       "      <td>768.0</td>\n",
       "      <td>AllPub</td>\n",
       "      <td>100</td>\n",
       "      <td>2007</td>\n",
       "      <td>2007</td>\n",
       "      <td>2007</td>\n",
       "      <td>1</td>\n",
       "    </tr>\n",
       "    <tr>\n",
       "      <th>865</th>\n",
       "      <td>754</td>\n",
       "      <td>640</td>\n",
       "      <td>0</td>\n",
       "      <td>NaN</td>\n",
       "      <td>3</td>\n",
       "      <td>1Fam</td>\n",
       "      <td>TA</td>\n",
       "      <td>No</td>\n",
       "      <td>0.0</td>\n",
       "      <td>0.0</td>\n",
       "      <td>...</td>\n",
       "      <td>0</td>\n",
       "      <td>Pave</td>\n",
       "      <td>7</td>\n",
       "      <td>384.0</td>\n",
       "      <td>AllPub</td>\n",
       "      <td>100</td>\n",
       "      <td>2003</td>\n",
       "      <td>2003</td>\n",
       "      <td>2007</td>\n",
       "      <td>1</td>\n",
       "    </tr>\n",
       "    <tr>\n",
       "      <th>880</th>\n",
       "      <td>1528</td>\n",
       "      <td>0</td>\n",
       "      <td>0</td>\n",
       "      <td>NaN</td>\n",
       "      <td>3</td>\n",
       "      <td>1Fam</td>\n",
       "      <td>TA</td>\n",
       "      <td>No</td>\n",
       "      <td>0.0</td>\n",
       "      <td>0.0</td>\n",
       "      <td>...</td>\n",
       "      <td>0</td>\n",
       "      <td>Pave</td>\n",
       "      <td>6</td>\n",
       "      <td>1528.0</td>\n",
       "      <td>AllPub</td>\n",
       "      <td>0</td>\n",
       "      <td>2007</td>\n",
       "      <td>2007</td>\n",
       "      <td>2007</td>\n",
       "      <td>1</td>\n",
       "    </tr>\n",
       "    <tr>\n",
       "      <th>889</th>\n",
       "      <td>955</td>\n",
       "      <td>925</td>\n",
       "      <td>0</td>\n",
       "      <td>NaN</td>\n",
       "      <td>3</td>\n",
       "      <td>1Fam</td>\n",
       "      <td>TA</td>\n",
       "      <td>Av</td>\n",
       "      <td>745.0</td>\n",
       "      <td>0.0</td>\n",
       "      <td>...</td>\n",
       "      <td>0</td>\n",
       "      <td>Pave</td>\n",
       "      <td>8</td>\n",
       "      <td>955.0</td>\n",
       "      <td>AllPub</td>\n",
       "      <td>168</td>\n",
       "      <td>2007</td>\n",
       "      <td>2007</td>\n",
       "      <td>2007</td>\n",
       "      <td>1</td>\n",
       "    </tr>\n",
       "    <tr>\n",
       "      <th>908</th>\n",
       "      <td>1550</td>\n",
       "      <td>0</td>\n",
       "      <td>0</td>\n",
       "      <td>Pave</td>\n",
       "      <td>2</td>\n",
       "      <td>TwnhsE</td>\n",
       "      <td>TA</td>\n",
       "      <td>No</td>\n",
       "      <td>0.0</td>\n",
       "      <td>0.0</td>\n",
       "      <td>...</td>\n",
       "      <td>0</td>\n",
       "      <td>Pave</td>\n",
       "      <td>5</td>\n",
       "      <td>1550.0</td>\n",
       "      <td>AllPub</td>\n",
       "      <td>0</td>\n",
       "      <td>2006</td>\n",
       "      <td>2007</td>\n",
       "      <td>2007</td>\n",
       "      <td>1</td>\n",
       "    </tr>\n",
       "    <tr>\n",
       "      <th>1132</th>\n",
       "      <td>1564</td>\n",
       "      <td>0</td>\n",
       "      <td>0</td>\n",
       "      <td>NaN</td>\n",
       "      <td>2</td>\n",
       "      <td>1Fam</td>\n",
       "      <td>TA</td>\n",
       "      <td>Av</td>\n",
       "      <td>583.0</td>\n",
       "      <td>0.0</td>\n",
       "      <td>...</td>\n",
       "      <td>0</td>\n",
       "      <td>Pave</td>\n",
       "      <td>6</td>\n",
       "      <td>1546.0</td>\n",
       "      <td>AllPub</td>\n",
       "      <td>132</td>\n",
       "      <td>2006</td>\n",
       "      <td>2007</td>\n",
       "      <td>2007</td>\n",
       "      <td>1</td>\n",
       "    </tr>\n",
       "    <tr>\n",
       "      <th>1197</th>\n",
       "      <td>1209</td>\n",
       "      <td>1044</td>\n",
       "      <td>0</td>\n",
       "      <td>NaN</td>\n",
       "      <td>3</td>\n",
       "      <td>1Fam</td>\n",
       "      <td>TA</td>\n",
       "      <td>Av</td>\n",
       "      <td>0.0</td>\n",
       "      <td>0.0</td>\n",
       "      <td>...</td>\n",
       "      <td>0</td>\n",
       "      <td>Pave</td>\n",
       "      <td>8</td>\n",
       "      <td>1209.0</td>\n",
       "      <td>AllPub</td>\n",
       "      <td>243</td>\n",
       "      <td>2005</td>\n",
       "      <td>2006</td>\n",
       "      <td>2006</td>\n",
       "      <td>1</td>\n",
       "    </tr>\n",
       "    <tr>\n",
       "      <th>1226</th>\n",
       "      <td>1670</td>\n",
       "      <td>0</td>\n",
       "      <td>0</td>\n",
       "      <td>NaN</td>\n",
       "      <td>2</td>\n",
       "      <td>1Fam</td>\n",
       "      <td>Gd</td>\n",
       "      <td>No</td>\n",
       "      <td>1562.0</td>\n",
       "      <td>0.0</td>\n",
       "      <td>...</td>\n",
       "      <td>0</td>\n",
       "      <td>Pave</td>\n",
       "      <td>6</td>\n",
       "      <td>1670.0</td>\n",
       "      <td>AllPub</td>\n",
       "      <td>0</td>\n",
       "      <td>2006</td>\n",
       "      <td>2006</td>\n",
       "      <td>2006</td>\n",
       "      <td>1</td>\n",
       "    </tr>\n",
       "    <tr>\n",
       "      <th>1402</th>\n",
       "      <td>914</td>\n",
       "      <td>0</td>\n",
       "      <td>0</td>\n",
       "      <td>NaN</td>\n",
       "      <td>2</td>\n",
       "      <td>1Fam</td>\n",
       "      <td>TA</td>\n",
       "      <td>Av</td>\n",
       "      <td>475.0</td>\n",
       "      <td>297.0</td>\n",
       "      <td>...</td>\n",
       "      <td>0</td>\n",
       "      <td>Pave</td>\n",
       "      <td>4</td>\n",
       "      <td>914.0</td>\n",
       "      <td>AllPub</td>\n",
       "      <td>32</td>\n",
       "      <td>2002</td>\n",
       "      <td>2002</td>\n",
       "      <td>2006</td>\n",
       "      <td>1</td>\n",
       "    </tr>\n",
       "  </tbody>\n",
       "</table>\n",
       "<p>23 rows × 82 columns</p>\n",
       "</div>"
      ],
      "text/plain": [
       "      1stFlrSF  2ndFlrSF  3SsnPorch Alley  BedroomAbvGr BldgType BsmtCond  \\\n",
       "234        860      1100          0   NaN             4     1Fam       TA   \n",
       "529       2515         0          0   NaN             4     1Fam       TA   \n",
       "650        822       843          0   NaN             3     1Fam       TA   \n",
       "936       1200         0          0   NaN             2     1Fam       TA   \n",
       "973       1428         0          0   NaN             3     1Fam       TA   \n",
       "977       1241         0          0  Pave             1   TwnhsE       TA   \n",
       "1243      2076         0          0   NaN             2     1Fam       Gd   \n",
       "1278      1128       903          0   NaN             3     1Fam       TA   \n",
       "231        878      1126          0   NaN             4     1Fam       TA   \n",
       "246       1436         0          0   NaN             3     1Fam       TA   \n",
       "422        840       885          0   NaN             3     1Fam       TA   \n",
       "532        707       707          0   NaN             3     1Fam       TA   \n",
       "544       1460         0          0   NaN             3     1Fam       TA   \n",
       "581        952       860          0   NaN             3     1Fam       TA   \n",
       "851        768       728          0   NaN             3     1Fam       TA   \n",
       "865        754       640          0   NaN             3     1Fam       TA   \n",
       "880       1528         0          0   NaN             3     1Fam       TA   \n",
       "889        955       925          0   NaN             3     1Fam       TA   \n",
       "908       1550         0          0  Pave             2   TwnhsE       TA   \n",
       "1132      1564         0          0   NaN             2     1Fam       TA   \n",
       "1197      1209      1044          0   NaN             3     1Fam       TA   \n",
       "1226      1670         0          0   NaN             2     1Fam       Gd   \n",
       "1402       914         0          0   NaN             2     1Fam       TA   \n",
       "\n",
       "     BsmtExposure  BsmtFinSF1  BsmtFinSF2   ...    ScreenPorch Street  \\\n",
       "234            No       625.0         0.0   ...              0   Pave   \n",
       "529            No      1219.0         0.0   ...              0   Pave   \n",
       "650            No         0.0         0.0   ...              0   Pave   \n",
       "936            No       833.0         0.0   ...              0   Pave   \n",
       "973            No         0.0         0.0   ...              0   Pave   \n",
       "977            No      1106.0         0.0   ...              0   Pave   \n",
       "1243           Gd      1386.0         0.0   ...              0   Pave   \n",
       "1278           No       804.0         0.0   ...              0   Pave   \n",
       "231            No       651.0         0.0   ...              0   Pave   \n",
       "246            No         0.0         0.0   ...              0   Pave   \n",
       "422            No         0.0         0.0   ...              0   Pave   \n",
       "532            No         0.0         0.0   ...              0   Pave   \n",
       "544            No       666.0         0.0   ...              0   Pave   \n",
       "581            No         0.0         0.0   ...              0   Pave   \n",
       "851            No         0.0         0.0   ...              0   Pave   \n",
       "865            No         0.0         0.0   ...              0   Pave   \n",
       "880            No         0.0         0.0   ...              0   Pave   \n",
       "889            Av       745.0         0.0   ...              0   Pave   \n",
       "908            No         0.0         0.0   ...              0   Pave   \n",
       "1132           Av       583.0         0.0   ...              0   Pave   \n",
       "1197           Av         0.0         0.0   ...              0   Pave   \n",
       "1226           No      1562.0         0.0   ...              0   Pave   \n",
       "1402           Av       475.0       297.0   ...              0   Pave   \n",
       "\n",
       "      TotRmsAbvGrd  TotalBsmtSF Utilities  WoodDeckSF YearBuilt YearRemodAdd  \\\n",
       "234              8        860.0    AllPub         288      2002         2002   \n",
       "529              9       2035.0    AllPub           0      1957         1975   \n",
       "650              7        813.0    AllPub           0      2007         2007   \n",
       "936              5       1176.0    AllPub           0      2003         2003   \n",
       "973              6       1428.0    AllPub           0      2007         2008   \n",
       "977              4       1241.0    AllPub           0      2006         2007   \n",
       "1243             7       2076.0    AllPub         216      2006         2006   \n",
       "1278             7       1128.0    AllPub           0      2002         2002   \n",
       "231              8        870.0    AllPub           0      2002         2002   \n",
       "246              6       1436.0    AllPub           0      2008         2009   \n",
       "422              6        840.0    AllPub           0      2002         2002   \n",
       "532              6        707.0    AllPub         100      2002         2002   \n",
       "544              6       1460.0    AllPub           0      2006         2007   \n",
       "581              7        952.0    AllPub         144      2002         2002   \n",
       "851              7        768.0    AllPub         100      2007         2007   \n",
       "865              7        384.0    AllPub         100      2003         2003   \n",
       "880              6       1528.0    AllPub           0      2007         2007   \n",
       "889              8        955.0    AllPub         168      2007         2007   \n",
       "908              5       1550.0    AllPub           0      2006         2007   \n",
       "1132             6       1546.0    AllPub         132      2006         2007   \n",
       "1197             8       1209.0    AllPub         243      2005         2006   \n",
       "1226             6       1670.0    AllPub           0      2006         2006   \n",
       "1402             4        914.0    AllPub          32      2002         2002   \n",
       "\n",
       "     YrSold seperate  \n",
       "234    2010        0  \n",
       "529    2007        0  \n",
       "650    2008        0  \n",
       "936    2009        0  \n",
       "973    2008        0  \n",
       "977    2007        0  \n",
       "1243   2006        0  \n",
       "1278   2008        0  \n",
       "231    2009        1  \n",
       "246    2009        1  \n",
       "422    2009        1  \n",
       "532    2008        1  \n",
       "544    2008        1  \n",
       "581    2008        1  \n",
       "851    2007        1  \n",
       "865    2007        1  \n",
       "880    2007        1  \n",
       "889    2007        1  \n",
       "908    2007        1  \n",
       "1132   2007        1  \n",
       "1197   2006        1  \n",
       "1226   2006        1  \n",
       "1402   2006        1  \n",
       "\n",
       "[23 rows x 82 columns]"
      ]
     },
     "execution_count": 83,
     "metadata": {},
     "output_type": "execute_result"
    }
   ],
   "source": [
    "#data[data['MasVnrArea'].isnull()][']"
   ]
  },
  {
   "cell_type": "code",
   "execution_count": 84,
   "metadata": {},
   "outputs": [
    {
     "data": {
      "text/plain": [
       "MasVnrArea     1.000000\n",
       "SalePrice      0.477493\n",
       "OverallQual    0.432947\n",
       "GrLivArea      0.402994\n",
       "TotalBsmtSF    0.397240\n",
       "1stFlrSF       0.395834\n",
       "Name: MasVnrArea, dtype: float64"
      ]
     },
     "execution_count": 84,
     "metadata": {},
     "output_type": "execute_result"
    }
   ],
   "source": [
    "num_data.corr()['MasVnrArea'].sort_values(ascending=False)[0:6]"
   ]
  },
  {
   "cell_type": "code",
   "execution_count": 99,
   "metadata": {},
   "outputs": [
    {
     "data": {
      "image/png": "[encoded data removed]",
      "text/plain": [
       "<matplotlib.figure.Figure at 0x11098bf28>"
      ]
     },
     "metadata": {},
     "output_type": "display_data"
    }
   ],
   "source": [
    "sns.countplot(data['MasVnrArea']);\n",
    "#check what is the most frequent value\n",
    "data['MasVnrArea'].value_counts()\n",
    "#Fillin with the 0 with the all missing value \n",
    "data['MasVnrArea'].fillna(0.0,inplace=True)"
   ]
  },
  {
   "cell_type": "code",
   "execution_count": null,
   "metadata": {
    "collapsed": true
   },
   "outputs": [],
   "source": [
    "#BsmtFinSF1 "
   ]
  },
  {
   "cell_type": "code",
   "execution_count": 105,
   "metadata": {
    "collapsed": true,
    "scrolled": true
   },
   "outputs": [],
   "source": [
    "data['BsmtFinSF1'].value_counts()\n",
    "data['BsmtFinSF1'].fillna(929,inplace=True)"
   ]
  },
  {
   "cell_type": "code",
   "execution_count": 106,
   "metadata": {
    "collapsed": true
   },
   "outputs": [],
   "source": [
    "#BsmtFinSF2"
   ]
  },
  {
   "cell_type": "code",
   "execution_count": 107,
   "metadata": {
    "collapsed": true
   },
   "outputs": [],
   "source": [
    "data['BsmtFinSF2'].value_counts()\n",
    "data['BsmtFinSF2'].fillna(929,inplace=True)"
   ]
  },
  {
   "cell_type": "code",
   "execution_count": null,
   "metadata": {
    "collapsed": true
   },
   "outputs": [],
   "source": [
    "#BsmtFullBath"
   ]
  },
  {
   "cell_type": "code",
   "execution_count": 109,
   "metadata": {
    "scrolled": true
   },
   "outputs": [
    {
     "data": {
      "text/plain": [
       "0.0    1705\n",
       "1.0    1172\n",
       "2.0      38\n",
       "3.0       2\n",
       "Name: BsmtFullBath, dtype: int64"
      ]
     },
     "execution_count": 109,
     "metadata": {},
     "output_type": "execute_result"
    }
   ],
   "source": [
    "data['BsmtFullBath'].value_counts()"
   ]
  },
  {
   "cell_type": "code",
   "execution_count": 112,
   "metadata": {},
   "outputs": [
    {
     "data": {
      "text/plain": [
       "BsmtFullBath    1.000000\n",
       "BsmtFinSF1      0.638847\n",
       "TotalBsmtSF     0.325623\n",
       "1stFlrSF        0.261816\n",
       "SalePrice       0.227122\n",
       "YearBuilt       0.211580\n",
       "Name: BsmtFullBath, dtype: float64"
      ]
     },
     "execution_count": 112,
     "metadata": {},
     "output_type": "execute_result"
    }
   ],
   "source": [
    "num_data.corr()['BsmtFullBath'].sort_values(ascending=False)[0:6]"
   ]
  },
  {
   "cell_type": "code",
   "execution_count": 113,
   "metadata": {
    "collapsed": true
   },
   "outputs": [],
   "source": [
    "data['BsmtFullBath']=data.groupby(['BsmtFinSF1'])['BsmtFullBath'].transform(lambda x:x.fillna(x.mean()))"
   ]
  },
  {
   "cell_type": "code",
   "execution_count": null,
   "metadata": {
    "collapsed": true
   },
   "outputs": [],
   "source": [
    "#BsmtHalfBath"
   ]
  },
  {
   "cell_type": "code",
   "execution_count": 116,
   "metadata": {},
   "outputs": [
    {
     "data": {
      "text/plain": [
       "0.0    2742\n",
       "1.0     171\n",
       "2.0       4\n",
       "Name: BsmtHalfBath, dtype: int64"
      ]
     },
     "execution_count": 116,
     "metadata": {},
     "output_type": "execute_result"
    }
   ],
   "source": [
    "data['BsmtHalfBath'].value_counts()"
   ]
  },
  {
   "cell_type": "code",
   "execution_count": 118,
   "metadata": {
    "collapsed": true
   },
   "outputs": [],
   "source": [
    "data['BsmtHalfBath'].fillna(0.0,inplace=True)"
   ]
  },
  {
   "cell_type": "code",
   "execution_count": 124,
   "metadata": {
    "collapsed": true
   },
   "outputs": [],
   "source": [
    "#BsmtUnfSF"
   ]
  },
  {
   "cell_type": "code",
   "execution_count": 125,
   "metadata": {
    "scrolled": false
   },
   "outputs": [
    {
     "data": {
      "text/html": [
       "<div>\n",
       "<style>\n",
       "    .dataframe thead tr:only-child th {\n",
       "        text-align: right;\n",
       "    }\n",
       "\n",
       "    .dataframe thead th {\n",
       "        text-align: left;\n",
       "    }\n",
       "\n",
       "    .dataframe tbody tr th {\n",
       "        vertical-align: top;\n",
       "    }\n",
       "</style>\n",
       "<table border=\"1\" class=\"dataframe\">\n",
       "  <thead>\n",
       "    <tr style=\"text-align: right;\">\n",
       "      <th></th>\n",
       "      <th>1stFlrSF</th>\n",
       "      <th>2ndFlrSF</th>\n",
       "      <th>3SsnPorch</th>\n",
       "      <th>Alley</th>\n",
       "      <th>BedroomAbvGr</th>\n",
       "      <th>BldgType</th>\n",
       "      <th>BsmtCond</th>\n",
       "      <th>BsmtExposure</th>\n",
       "      <th>BsmtFinSF1</th>\n",
       "      <th>BsmtFinSF2</th>\n",
       "      <th>...</th>\n",
       "      <th>ScreenPorch</th>\n",
       "      <th>Street</th>\n",
       "      <th>TotRmsAbvGrd</th>\n",
       "      <th>TotalBsmtSF</th>\n",
       "      <th>Utilities</th>\n",
       "      <th>WoodDeckSF</th>\n",
       "      <th>YearBuilt</th>\n",
       "      <th>YearRemodAdd</th>\n",
       "      <th>YrSold</th>\n",
       "      <th>seperate</th>\n",
       "    </tr>\n",
       "  </thead>\n",
       "  <tbody>\n",
       "    <tr>\n",
       "      <th>660</th>\n",
       "      <td>896</td>\n",
       "      <td>0</td>\n",
       "      <td>0</td>\n",
       "      <td>NaN</td>\n",
       "      <td>2</td>\n",
       "      <td>1Fam</td>\n",
       "      <td>NaN</td>\n",
       "      <td>NaN</td>\n",
       "      <td>929.0</td>\n",
       "      <td>929.0</td>\n",
       "      <td>...</td>\n",
       "      <td>0</td>\n",
       "      <td>Pave</td>\n",
       "      <td>4</td>\n",
       "      <td>814.833333</td>\n",
       "      <td>AllPub</td>\n",
       "      <td>0</td>\n",
       "      <td>1946</td>\n",
       "      <td>1950</td>\n",
       "      <td>2008</td>\n",
       "      <td>1</td>\n",
       "    </tr>\n",
       "  </tbody>\n",
       "</table>\n",
       "<p>1 rows × 82 columns</p>\n",
       "</div>"
      ],
      "text/plain": [
       "     1stFlrSF  2ndFlrSF  3SsnPorch Alley  BedroomAbvGr BldgType BsmtCond  \\\n",
       "660       896         0          0   NaN             2     1Fam      NaN   \n",
       "\n",
       "    BsmtExposure  BsmtFinSF1  BsmtFinSF2   ...    ScreenPorch Street  \\\n",
       "660          NaN       929.0       929.0   ...              0   Pave   \n",
       "\n",
       "     TotRmsAbvGrd  TotalBsmtSF Utilities  WoodDeckSF YearBuilt YearRemodAdd  \\\n",
       "660             4   814.833333    AllPub           0      1946         1950   \n",
       "\n",
       "    YrSold seperate  \n",
       "660   2008        1  \n",
       "\n",
       "[1 rows x 82 columns]"
      ]
     },
     "execution_count": 125,
     "metadata": {},
     "output_type": "execute_result"
    }
   ],
   "source": [
    "data[data['BsmtUnfSF'].isnull()]"
   ]
  },
  {
   "cell_type": "code",
   "execution_count": 126,
   "metadata": {
    "collapsed": true
   },
   "outputs": [],
   "source": [
    "data.loc[data['BsmtUnfSF'].isnull(),'BsmtUnfSF']=0"
   ]
  },
  {
   "cell_type": "code",
   "execution_count": 127,
   "metadata": {
    "collapsed": true
   },
   "outputs": [
    {
     "data": {
      "text/plain": [
       "1stFlrSF            0\n",
       "2ndFlrSF            0\n",
       "3SsnPorch           0\n",
       "BedroomAbvGr        0\n",
       "BsmtFinSF1          0\n",
       "BsmtFinSF2          0\n",
       "BsmtFullBath        0\n",
       "BsmtHalfBath        0\n",
       "BsmtUnfSF           0\n",
       "EnclosedPorch       0\n",
       "Fireplaces          0\n",
       "FullBath            0\n",
       "GarageArea          0\n",
       "GarageCars          0\n",
       "GarageYrBlt         0\n",
       "GrLivArea           0\n",
       "HalfBath            0\n",
       "Id                  0\n",
       "KitchenAbvGr        0\n",
       "LotArea             0\n",
       "LotFrontage         0\n",
       "LowQualFinSF        0\n",
       "MSSubClass          0\n",
       "MasVnrArea          0\n",
       "MiscVal             0\n",
       "MoSold              0\n",
       "OpenPorchSF         0\n",
       "OverallCond         0\n",
       "OverallQual         0\n",
       "PoolArea            0\n",
       "SalePrice        1459\n",
       "ScreenPorch         0\n",
       "TotRmsAbvGrd        0\n",
       "TotalBsmtSF         0\n",
       "WoodDeckSF          0\n",
       "YearBuilt           0\n",
       "YearRemodAdd        0\n",
       "YrSold              0\n",
       "seperate            0\n",
       "dtype: int64"
      ]
     },
     "execution_count": 127,
     "metadata": {},
     "output_type": "execute_result"
    }
   ],
   "source": [
    "data.select_dtypes(exclude=['object']).isnull().sum()"
   ]
  },
  {
   "cell_type": "markdown",
   "metadata": {},
   "source": [
    "# categorical data"
   ]
  },
  {
   "cell_type": "code",
   "execution_count": 128,
   "metadata": {
    "collapsed": true
   },
   "outputs": [],
   "source": [
    "cate_data=data.select_dtypes(include=['object'])"
   ]
  },
  {
   "cell_type": "code",
   "execution_count": 130,
   "metadata": {
    "scrolled": true
   },
   "outputs": [
    {
     "data": {
      "text/plain": [
       "Alley            2721\n",
       "BldgType            0\n",
       "BsmtCond           82\n",
       "BsmtExposure       82\n",
       "BsmtFinType1       79\n",
       "BsmtFinType2       80\n",
       "BsmtQual           81\n",
       "CentralAir          0\n",
       "Condition1          0\n",
       "Condition2          0\n",
       "Electrical          1\n",
       "ExterCond           0\n",
       "ExterQual           0\n",
       "Exterior1st         1\n",
       "Exterior2nd         1\n",
       "Fence            2348\n",
       "FireplaceQu      1420\n",
       "Foundation          0\n",
       "Functional          2\n",
       "GarageCond        159\n",
       "GarageFinish      159\n",
       "GarageQual        159\n",
       "GarageType        157\n",
       "Heating             0\n",
       "HeatingQC           0\n",
       "HouseStyle          0\n",
       "KitchenQual         1\n",
       "LandContour         0\n",
       "LandSlope           0\n",
       "LotConfig           0\n",
       "LotShape            0\n",
       "MSZoning            4\n",
       "MasVnrType         24\n",
       "MiscFeature      2814\n",
       "Neighborhood        0\n",
       "PavedDrive          0\n",
       "PoolQC           2909\n",
       "RoofMatl            0\n",
       "RoofStyle           0\n",
       "SaleCondition       0\n",
       "SaleType            1\n",
       "Street              0\n",
       "Utilities           2\n",
       "dtype: int64"
      ]
     },
     "execution_count": 130,
     "metadata": {},
     "output_type": "execute_result"
    }
   ],
   "source": [
    "data.select_dtypes(include=['object']).isnull().sum()"
   ]
  },
  {
   "cell_type": "code",
   "execution_count": 131,
   "metadata": {
    "collapsed": true
   },
   "outputs": [],
   "source": [
    "#Alley"
   ]
  },
  {
   "cell_type": "code",
   "execution_count": 136,
   "metadata": {},
   "outputs": [
    {
     "data": {
      "text/plain": [
       "Grvl    120\n",
       "Pave     78\n",
       "Name: Alley, dtype: int64"
      ]
     },
     "execution_count": 136,
     "metadata": {},
     "output_type": "execute_result"
    }
   ],
   "source": [
    "data['6'].value_counts()"
   ]
  },
  {
   "cell_type": "code",
   "execution_count": 139,
   "metadata": {},
   "outputs": [
    {
     "data": {
      "text/plain": [
       "0    NaN\n",
       "1    NaN\n",
       "Name: Alley, dtype: object"
      ]
     },
     "execution_count": 139,
     "metadata": {},
     "output_type": "execute_result"
    }
   ],
   "source": [
    "data[data['Alley'].isnull()]['Alley'].head(2)"
   ]
  },
  {
   "cell_type": "code",
   "execution_count": 142,
   "metadata": {
    "collapsed": true
   },
   "outputs": [],
   "source": [
    "# 93,2% of the missing value in Alley is actually NA: No Alley Access\n",
    "data[data['Alley'].isnull()].shape[0]/data['Alley'].shape[0]\n",
    "#replace those missing value in Alley into the NA\n",
    "data['Alley'].fillna('NA',inplace=True)"
   ]
  },
  {
   "cell_type": "code",
   "execution_count": null,
   "metadata": {
    "collapsed": true
   },
   "outputs": [],
   "source": [
    "#BsmtCond"
   ]
  },
  {
   "cell_type": "code",
   "execution_count": 144,
   "metadata": {},
   "outputs": [
    {
     "data": {
      "text/plain": [
       "TA    2606\n",
       "Gd     122\n",
       "Fa     104\n",
       "Po       5\n",
       "Name: BsmtCond, dtype: int64"
      ]
     },
     "execution_count": 144,
     "metadata": {},
     "output_type": "execute_result"
    }
   ],
   "source": [
    "data['BsmtCond'].value_counts()"
   ]
  },
  {
   "cell_type": "code",
   "execution_count": null,
   "metadata": {
    "collapsed": true
   },
   "outputs": [],
   "source": [
    "data['BsmtCond'].fillna('NA',inplace=True)"
   ]
  },
  {
   "cell_type": "code",
   "execution_count": null,
   "metadata": {
    "collapsed": true
   },
   "outputs": [],
   "source": [
    "#BsmtExposure"
   ]
  },
  {
   "cell_type": "code",
   "execution_count": 145,
   "metadata": {},
   "outputs": [
    {
     "data": {
      "text/plain": [
       "No    1904\n",
       "Av     418\n",
       "Gd     276\n",
       "Mn     239\n",
       "Name: BsmtExposure, dtype: int64"
      ]
     },
     "execution_count": 145,
     "metadata": {},
     "output_type": "execute_result"
    }
   ],
   "source": [
    "data['BsmtExposure'].value_counts()"
   ]
  },
  {
   "cell_type": "code",
   "execution_count": 146,
   "metadata": {
    "collapsed": true
   },
   "outputs": [],
   "source": [
    "data['BsmtExposure'].fillna('NA',inplace=True)"
   ]
  },
  {
   "cell_type": "code",
   "execution_count": null,
   "metadata": {
    "collapsed": true
   },
   "outputs": [],
   "source": [
    "#BsmtFinType1"
   ]
  },
  {
   "cell_type": "code",
   "execution_count": 147,
   "metadata": {
    "collapsed": true
   },
   "outputs": [],
   "source": [
    "data['BsmtFinType1'].fillna('NA',inplace=True)"
   ]
  },
  {
   "cell_type": "code",
   "execution_count": null,
   "metadata": {
    "collapsed": true
   },
   "outputs": [],
   "source": [
    "#BsmtFinType2"
   ]
  },
  {
   "cell_type": "code",
   "execution_count": 148,
   "metadata": {
    "collapsed": true
   },
   "outputs": [],
   "source": [
    "data['BsmtFinType2'].fillna('NA',inplace=True)"
   ]
  },
  {
   "cell_type": "code",
   "execution_count": null,
   "metadata": {
    "collapsed": true
   },
   "outputs": [],
   "source": [
    "#BsmtQual"
   ]
  },
  {
   "cell_type": "code",
   "execution_count": 150,
   "metadata": {},
   "outputs": [
    {
     "data": {
      "text/plain": [
       "TA    1283\n",
       "Gd    1209\n",
       "Ex     258\n",
       "Fa      88\n",
       "Name: BsmtQual, dtype: int64"
      ]
     },
     "execution_count": 150,
     "metadata": {},
     "output_type": "execute_result"
    }
   ],
   "source": [
    "data['BsmtQual'].value_counts()"
   ]
  },
  {
   "cell_type": "code",
   "execution_count": 151,
   "metadata": {
    "collapsed": true
   },
   "outputs": [],
   "source": [
    "data['BsmtQual'].fillna('NA',inplace=True)"
   ]
  },
  {
   "cell_type": "code",
   "execution_count": null,
   "metadata": {
    "collapsed": true
   },
   "outputs": [],
   "source": []
  },
  {
   "cell_type": "code",
   "execution_count": null,
   "metadata": {
    "collapsed": true
   },
   "outputs": [],
   "source": []
  },
  {
   "cell_type": "code",
   "execution_count": null,
   "metadata": {
    "collapsed": true
   },
   "outputs": [],
   "source": []
  },
  {
   "cell_type": "code",
   "execution_count": null,
   "metadata": {
    "collapsed": true
   },
   "outputs": [],
   "source": []
  },
  {
   "cell_type": "code",
   "execution_count": null,
   "metadata": {
    "collapsed": true
   },
   "outputs": [],
   "source": []
  },
  {
   "cell_type": "code",
   "execution_count": null,
   "metadata": {
    "collapsed": true
   },
   "outputs": [],
   "source": []
  },
  {
   "cell_type": "code",
   "execution_count": null,
   "metadata": {
    "collapsed": true
   },
   "outputs": [],
   "source": []
  },
  {
   "cell_type": "code",
   "execution_count": null,
   "metadata": {
    "collapsed": true
   },
   "outputs": [],
   "source": []
  },
  {
   "cell_type": "code",
   "execution_count": null,
   "metadata": {
    "collapsed": true
   },
   "outputs": [],
   "source": []
  },
  {
   "cell_type": "code",
   "execution_count": null,
   "metadata": {
    "collapsed": true
   },
   "outputs": [],
   "source": []
  },
  {
   "cell_type": "code",
   "execution_count": null,
   "metadata": {
    "collapsed": true
   },
   "outputs": [],
   "source": []
  },
  {
   "cell_type": "code",
   "execution_count": null,
   "metadata": {
    "collapsed": true
   },
   "outputs": [],
   "source": []
  },
  {
   "cell_type": "code",
   "execution_count": null,
   "metadata": {
    "collapsed": true
   },
   "outputs": [],
   "source": []
  },
  {
   "cell_type": "code",
   "execution_count": null,
   "metadata": {
    "collapsed": true
   },
   "outputs": [],
   "source": []
  },
  {
   "cell_type": "code",
   "execution_count": null,
   "metadata": {
    "collapsed": true
   },
   "outputs": [],
   "source": []
  },
  {
   "cell_type": "code",
   "execution_count": null,
   "metadata": {
    "collapsed": true
   },
   "outputs": [],
   "source": []
  },
  {
   "cell_type": "code",
   "execution_count": null,
   "metadata": {
    "collapsed": true
   },
   "outputs": [],
   "source": []
  },
  {
   "cell_type": "code",
   "execution_count": null,
   "metadata": {
    "collapsed": true
   },
   "outputs": [],
   "source": []
  },
  {
   "cell_type": "code",
   "execution_count": null,
   "metadata": {
    "collapsed": true
   },
   "outputs": [],
   "source": []
  },
  {
   "cell_type": "code",
   "execution_count": null,
   "metadata": {
    "collapsed": true
   },
   "outputs": [],
   "source": []
  },
  {
   "cell_type": "code",
   "execution_count": null,
   "metadata": {
    "collapsed": true
   },
   "outputs": [],
   "source": []
  },
  {
   "cell_type": "code",
   "execution_count": null,
   "metadata": {
    "collapsed": true
   },
   "outputs": [],
   "source": []
  },
  {
   "cell_type": "code",
   "execution_count": null,
   "metadata": {
    "collapsed": true
   },
   "outputs": [],
   "source": []
  },
  {
   "cell_type": "code",
   "execution_count": null,
   "metadata": {
    "collapsed": true
   },
   "outputs": [],
   "source": []
  },
  {
   "cell_type": "code",
   "execution_count": null,
   "metadata": {
    "collapsed": true
   },
   "outputs": [],
   "source": []
  },
  {
   "cell_type": "code",
   "execution_count": null,
   "metadata": {
    "collapsed": true
   },
   "outputs": [],
   "source": []
  },
  {
   "cell_type": "code",
   "execution_count": null,
   "metadata": {
    "collapsed": true
   },
   "outputs": [],
   "source": []
  },
  {
   "cell_type": "code",
   "execution_count": null,
   "metadata": {
    "collapsed": true
   },
   "outputs": [],
   "source": []
  },
  {
   "cell_type": "code",
   "execution_count": null,
   "metadata": {
    "collapsed": true
   },
   "outputs": [],
   "source": []
  },
  {
   "cell_type": "code",
   "execution_count": null,
   "metadata": {
    "collapsed": true
   },
   "outputs": [],
   "source": []
  },
  {
   "cell_type": "code",
   "execution_count": null,
   "metadata": {
    "collapsed": true
   },
   "outputs": [],
   "source": []
  },
  {
   "cell_type": "code",
   "execution_count": null,
   "metadata": {
    "collapsed": true
   },
   "outputs": [],
   "source": []
  }
 ],
 "metadata": {
  "kernelspec": {
   "display_name": "Python 3",
   "language": "python",
   "name": "python3"
  },
  "language_info": {
   "codemirror_mode": {
    "name": "ipython",
    "version": 3
   },
   "file_extension": ".py",
   "mimetype": "text/x-python",
   "name": "python",
   "nbconvert_exporter": "python",
   "pygments_lexer": "ipython3",
   "version": "3.6.1"
  }
 },
 "nbformat": 4,
 "nbformat_minor": 2
}
