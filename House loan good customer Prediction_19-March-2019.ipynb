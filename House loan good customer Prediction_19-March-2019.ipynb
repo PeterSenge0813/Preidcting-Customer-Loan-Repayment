{
 "cells": [
  {
   "cell_type": "code",
   "execution_count": 1,
   "metadata": {
    "collapsed": true
   },
   "outputs": [],
   "source": [
    "import pandas as pd\n",
    "import numpy as np\n",
    "from sklearn import linear_model\n",
    "from sklearn.model_selection import train_test_split\n",
    "from sklearn.metrics import mean_squared_error, r2_score\n",
    "import matplotlib.pyplot as plt\n",
    "from scipy import stats\n",
    "%matplotlib inline\n",
    "import seaborn as sns\n",
    "import matplotlib.pyplot as plt"
   ]
  },
  {
   "cell_type": "code",
   "execution_count": 2,
   "metadata": {},
   "outputs": [
    {
     "name": "stderr",
     "output_type": "stream",
     "text": [
      "/Users/wenze/anaconda/lib/python3.6/site-packages/IPython/core/interactiveshell.py:2717: DtypeWarning: Columns (16) have mixed types. Specify dtype option on import or set low_memory=False.\n",
      "  interactivity=interactivity, compiler=compiler, result=result)\n"
     ]
    }
   ],
   "source": [
    "loan=pd.read_csv('./Loan.csv')"
   ]
  },
  {
   "cell_type": "code",
   "execution_count": 3,
   "metadata": {},
   "outputs": [
    {
     "data": {
      "text/plain": [
       "0.23999937739314509"
      ]
     },
     "execution_count": 3,
     "metadata": {},
     "output_type": "execute_result"
    }
   ],
   "source": [
    "61676/256984"
   ]
  },
  {
   "cell_type": "code",
   "execution_count": 4,
   "metadata": {},
   "outputs": [
    {
     "data": {
      "text/plain": [
       "Loan ID                              0\n",
       "Customer ID                          0\n",
       "Loan Status                          0\n",
       "Current Loan Amount                  0\n",
       "Term                                 0\n",
       "Credit Score                     61676\n",
       "Years in current job                 0\n",
       "Home Ownership                       0\n",
       "Annual Income                    61676\n",
       "Purpose                              0\n",
       "Monthly Debt                         0\n",
       "Years of Credit History              0\n",
       "Months since last delinquent    140383\n",
       "Number of Open Accounts              0\n",
       "Number of Credit Problems            0\n",
       "Current Credit Balance               0\n",
       "Maximum Open Credit                  0\n",
       "Bankruptcies                       529\n",
       "Tax Liens                           23\n",
       "dtype: int64"
      ]
     },
     "execution_count": 4,
     "metadata": {},
     "output_type": "execute_result"
    }
   ],
   "source": [
    "loan.isnull().sum()"
   ]
  },
  {
   "cell_type": "code",
   "execution_count": 5,
   "metadata": {},
   "outputs": [
    {
     "name": "stdout",
     "output_type": "stream",
     "text": [
      "<class 'pandas.core.frame.DataFrame'>\n",
      "RangeIndex: 256984 entries, 0 to 256983\n",
      "Data columns (total 19 columns):\n",
      "Loan ID                         256984 non-null object\n",
      "Customer ID                     256984 non-null object\n",
      "Loan Status                     256984 non-null object\n",
      "Current Loan Amount             256984 non-null int64\n",
      "Term                            256984 non-null object\n",
      "Credit Score                    195308 non-null float64\n",
      "Years in current job            256984 non-null object\n",
      "Home Ownership                  256984 non-null object\n",
      "Annual Income                   195308 non-null float64\n",
      "Purpose                         256984 non-null object\n",
      "Monthly Debt                    256984 non-null object\n",
      "Years of Credit History         256984 non-null float64\n",
      "Months since last delinquent    116601 non-null float64\n",
      "Number of Open Accounts         256984 non-null int64\n",
      "Number of Credit Problems       256984 non-null int64\n",
      "Current Credit Balance          256984 non-null int64\n",
      "Maximum Open Credit             256984 non-null object\n",
      "Bankruptcies                    256455 non-null float64\n",
      "Tax Liens                       256961 non-null float64\n",
      "dtypes: float64(6), int64(4), object(9)\n",
      "memory usage: 37.3+ MB\n"
     ]
    }
   ],
   "source": [
    "loan.info()"
   ]
  },
  {
   "cell_type": "code",
   "execution_count": 6,
   "metadata": {
    "scrolled": true
   },
   "outputs": [
    {
     "data": {
      "text/plain": [
       "Index(['Loan ID', 'Customer ID', 'Loan Status', 'Current Loan Amount', 'Term',\n",
       "       'Credit Score', 'Years in current job', 'Home Ownership',\n",
       "       'Annual Income', 'Purpose', 'Monthly Debt', 'Years of Credit History',\n",
       "       'Months since last delinquent', 'Number of Open Accounts',\n",
       "       'Number of Credit Problems', 'Current Credit Balance',\n",
       "       'Maximum Open Credit', 'Bankruptcies', 'Tax Liens'],\n",
       "      dtype='object')"
      ]
     },
     "execution_count": 6,
     "metadata": {},
     "output_type": "execute_result"
    }
   ],
   "source": [
    "loan.columns"
   ]
  },
  {
   "cell_type": "code",
   "execution_count": 7,
   "metadata": {},
   "outputs": [],
   "source": [
    "loan.columns = [c.replace(' ', '_') for c in loan.columns]"
   ]
  },
  {
   "cell_type": "code",
   "execution_count": 8,
   "metadata": {
    "scrolled": true
   },
   "outputs": [
    {
     "data": {
      "text/html": [
       "<div>\n",
       "<style>\n",
       "    .dataframe thead tr:only-child th {\n",
       "        text-align: right;\n",
       "    }\n",
       "\n",
       "    .dataframe thead th {\n",
       "        text-align: left;\n",
       "    }\n",
       "\n",
       "    .dataframe tbody tr th {\n",
       "        vertical-align: top;\n",
       "    }\n",
       "</style>\n",
       "<table border=\"1\" class=\"dataframe\">\n",
       "  <thead>\n",
       "    <tr style=\"text-align: right;\">\n",
       "      <th></th>\n",
       "      <th>Loan_ID</th>\n",
       "      <th>Customer_ID</th>\n",
       "      <th>Loan_Status</th>\n",
       "      <th>Current_Loan_Amount</th>\n",
       "      <th>Term</th>\n",
       "      <th>Credit_Score</th>\n",
       "      <th>Years_in_current_job</th>\n",
       "      <th>Home_Ownership</th>\n",
       "      <th>Annual_Income</th>\n",
       "      <th>Purpose</th>\n",
       "      <th>Monthly_Debt</th>\n",
       "      <th>Years_of_Credit_History</th>\n",
       "      <th>Months_since_last_delinquent</th>\n",
       "      <th>Number_of_Open_Accounts</th>\n",
       "      <th>Number_of_Credit_Problems</th>\n",
       "      <th>Current_Credit_Balance</th>\n",
       "      <th>Maximum_Open_Credit</th>\n",
       "      <th>Bankruptcies</th>\n",
       "      <th>Tax_Liens</th>\n",
       "    </tr>\n",
       "  </thead>\n",
       "  <tbody>\n",
       "    <tr>\n",
       "      <th>0</th>\n",
       "      <td>000025bb-5694-4cff-b17d-192b1a98ba44</td>\n",
       "      <td>5ebc8bb1-5eb9-4404-b11b-a6eebc401a19</td>\n",
       "      <td>Fully Paid</td>\n",
       "      <td>11520</td>\n",
       "      <td>Short Term</td>\n",
       "      <td>741.0</td>\n",
       "      <td>10+ years</td>\n",
       "      <td>Home Mortgage</td>\n",
       "      <td>33694.0</td>\n",
       "      <td>Debt Consolidation</td>\n",
       "      <td>$584.03</td>\n",
       "      <td>12.3</td>\n",
       "      <td>41.0</td>\n",
       "      <td>10</td>\n",
       "      <td>0</td>\n",
       "      <td>6760</td>\n",
       "      <td>16056</td>\n",
       "      <td>0.0</td>\n",
       "      <td>0.0</td>\n",
       "    </tr>\n",
       "    <tr>\n",
       "      <th>1</th>\n",
       "      <td>00002c49-3a29-4bd4-8f67-c8f8fbc1048c</td>\n",
       "      <td>927b388d-2e01-423f-a8dc-f7e42d668f46</td>\n",
       "      <td>Fully Paid</td>\n",
       "      <td>3441</td>\n",
       "      <td>Short Term</td>\n",
       "      <td>734.0</td>\n",
       "      <td>4 years</td>\n",
       "      <td>Home Mortgage</td>\n",
       "      <td>42269.0</td>\n",
       "      <td>other</td>\n",
       "      <td>$1,106.04</td>\n",
       "      <td>26.3</td>\n",
       "      <td>NaN</td>\n",
       "      <td>17</td>\n",
       "      <td>0</td>\n",
       "      <td>6262</td>\n",
       "      <td>19149</td>\n",
       "      <td>0.0</td>\n",
       "      <td>0.0</td>\n",
       "    </tr>\n",
       "    <tr>\n",
       "      <th>2</th>\n",
       "      <td>00002d89-27f3-409b-aa76-90834f359a65</td>\n",
       "      <td>defce609-c631-447d-aad6-1270615e89c4</td>\n",
       "      <td>Fully Paid</td>\n",
       "      <td>21029</td>\n",
       "      <td>Short Term</td>\n",
       "      <td>747.0</td>\n",
       "      <td>10+ years</td>\n",
       "      <td>Home Mortgage</td>\n",
       "      <td>90126.0</td>\n",
       "      <td>Debt Consolidation</td>\n",
       "      <td>$1,321.85</td>\n",
       "      <td>28.8</td>\n",
       "      <td>NaN</td>\n",
       "      <td>5</td>\n",
       "      <td>0</td>\n",
       "      <td>20967</td>\n",
       "      <td>28335</td>\n",
       "      <td>0.0</td>\n",
       "      <td>0.0</td>\n",
       "    </tr>\n",
       "  </tbody>\n",
       "</table>\n",
       "</div>"
      ],
      "text/plain": [
       "                                Loan_ID                           Customer_ID  \\\n",
       "0  000025bb-5694-4cff-b17d-192b1a98ba44  5ebc8bb1-5eb9-4404-b11b-a6eebc401a19   \n",
       "1  00002c49-3a29-4bd4-8f67-c8f8fbc1048c  927b388d-2e01-423f-a8dc-f7e42d668f46   \n",
       "2  00002d89-27f3-409b-aa76-90834f359a65  defce609-c631-447d-aad6-1270615e89c4   \n",
       "\n",
       "  Loan_Status  Current_Loan_Amount        Term  Credit_Score  \\\n",
       "0  Fully Paid                11520  Short Term         741.0   \n",
       "1  Fully Paid                 3441  Short Term         734.0   \n",
       "2  Fully Paid                21029  Short Term         747.0   \n",
       "\n",
       "  Years_in_current_job Home_Ownership  Annual_Income             Purpose  \\\n",
       "0            10+ years  Home Mortgage        33694.0  Debt Consolidation   \n",
       "1              4 years  Home Mortgage        42269.0               other   \n",
       "2            10+ years  Home Mortgage        90126.0  Debt Consolidation   \n",
       "\n",
       "  Monthly_Debt  Years_of_Credit_History  Months_since_last_delinquent  \\\n",
       "0      $584.03                     12.3                          41.0   \n",
       "1   $1,106.04                      26.3                           NaN   \n",
       "2   $1,321.85                      28.8                           NaN   \n",
       "\n",
       "   Number_of_Open_Accounts  Number_of_Credit_Problems  Current_Credit_Balance  \\\n",
       "0                       10                          0                    6760   \n",
       "1                       17                          0                    6262   \n",
       "2                        5                          0                   20967   \n",
       "\n",
       "  Maximum_Open_Credit  Bankruptcies  Tax_Liens  \n",
       "0               16056           0.0        0.0  \n",
       "1               19149           0.0        0.0  \n",
       "2               28335           0.0        0.0  "
      ]
     },
     "execution_count": 8,
     "metadata": {},
     "output_type": "execute_result"
    }
   ],
   "source": [
    "loan.head(3)"
   ]
  },
  {
   "cell_type": "code",
   "execution_count": 49,
   "metadata": {},
   "outputs": [
    {
     "data": {
      "text/plain": [
       "99999999.0"
      ]
     },
     "execution_count": 49,
     "metadata": {},
     "output_type": "execute_result"
    }
   ],
   "source": [
    "#split data into numerical "
   ]
  },
  {
   "cell_type": "code",
   "execution_count": null,
   "metadata": {
    "collapsed": true
   },
   "outputs": [],
   "source": [
    "loan.select.dyptes(exclude:[''])"
   ]
  },
  {
   "cell_type": "code",
   "execution_count": 9,
   "metadata": {
    "collapsed": true
   },
   "outputs": [],
   "source": [
    "#loan Purpose"
   ]
  },
  {
   "cell_type": "code",
   "execution_count": 10,
   "metadata": {
    "scrolled": false
   },
   "outputs": [
    {
     "data": {
      "image/png": "[encoded data removed]",
      "text/plain": [
       "<matplotlib.figure.Figure at 0x1171df7f0>"
      ]
     },
     "metadata": {},
     "output_type": "display_data"
    }
   ],
   "source": [
    "plt.figure(figsize=(15,8))\n",
    "sns.set(style=\"darkgrid\")\n",
    "sns.countplot(loan['Purpose']);"
   ]
  },
  {
   "cell_type": "code",
   "execution_count": 11,
   "metadata": {},
   "outputs": [
    {
     "data": {
      "image/png": "[encoded data removed]",
      "text/plain": [
       "<matplotlib.figure.Figure at 0x118553e80>"
      ]
     },
     "metadata": {},
     "output_type": "display_data"
    }
   ],
   "source": [
    "plt.figure(figsize=(15,8))\n",
    "sns.countplot(x='Purpose',hue='Loan_Status',data=loan);\n",
    "#x,y,hue='Purpose','Proportion','Loan Status'\n",
    "#hue_order=['Fully Paid','Charged Off']\n",
    "#loan[x].groupby(loan[hue]).value_counts(normalize=True).rename(y).reset_index().pipe((sns.barplot,\"data\"),x=x,y=y,hue=hue);"
   ]
  },
  {
   "cell_type": "markdown",
   "metadata": {},
   "source": [
    "Majority of the people who apply for loan is for Debt Consolidation, others are mainly home improvement. But from this attribute it is hard to tell whether a customer is good or bad."
   ]
  },
  {
   "cell_type": "code",
   "execution_count": 12,
   "metadata": {
    "collapsed": true
   },
   "outputs": [],
   "source": [
    "#Bankruptcies"
   ]
  },
  {
   "cell_type": "code",
   "execution_count": 13,
   "metadata": {},
   "outputs": [
    {
     "data": {
      "image/png": "[encoded data removed]",
      "text/plain": [
       "<matplotlib.figure.Figure at 0x118699cf8>"
      ]
     },
     "metadata": {},
     "output_type": "display_data"
    }
   ],
   "source": [
    "plt.figure(figsize=(15,8))\n",
    "sns.set(style=\"darkgrid\")\n",
    "sns.countplot(loan['Bankruptcies']);"
   ]
  },
  {
   "cell_type": "code",
   "execution_count": 14,
   "metadata": {
    "collapsed": true
   },
   "outputs": [],
   "source": [
    "# for those who has a history of Bankruptcies should bring negative contribution on the quality \n",
    "# of a customer. "
   ]
  },
  {
   "cell_type": "code",
   "execution_count": 15,
   "metadata": {
    "collapsed": true
   },
   "outputs": [],
   "source": [
    "#loan Status"
   ]
  },
  {
   "cell_type": "code",
   "execution_count": 16,
   "metadata": {},
   "outputs": [
    {
     "data": {
      "text/plain": [
       "array(['Fully Paid', 'Charged Off'], dtype=object)"
      ]
     },
     "execution_count": 16,
     "metadata": {},
     "output_type": "execute_result"
    }
   ],
   "source": [
    "loan['Loan_Status'].unique()"
   ]
  },
  {
   "cell_type": "code",
   "execution_count": 17,
   "metadata": {
    "scrolled": false
   },
   "outputs": [
    {
     "data": {
      "image/png": "[encoded data removed]",
      "text/plain": [
       "<matplotlib.figure.Figure at 0x11714e828>"
      ]
     },
     "metadata": {},
     "output_type": "display_data"
    }
   ],
   "source": [
    "sns.set(style=\"darkgrid\")\n",
    "sns.countplot(loan['Loan_Status']);"
   ]
  },
  {
   "cell_type": "code",
   "execution_count": 18,
   "metadata": {},
   "outputs": [
    {
     "name": "stdout",
     "output_type": "stream",
     "text": [
      "Fully Paid peope Ratio: 68.56%\n"
     ]
    }
   ],
   "source": [
    "Fully_paid=loan[loan['Loan_Status']=='Fully Paid'].shape[0]\n",
    "Fully_paid_ratio=Fully_paid/loan['Loan_Status'].shape[0]*100\n",
    "print('Fully Paid peope Ratio: %.2f%%' %Fully_paid_ratio)"
   ]
  },
  {
   "cell_type": "code",
   "execution_count": 19,
   "metadata": {
    "collapsed": true
   },
   "outputs": [],
   "source": [
    "# For those who are fully paid customer should be categorized as a good customer. \n",
    "#Maybe I should study their financial status and use their features to categorize a good or bad\n",
    "#customer."
   ]
  },
  {
   "cell_type": "code",
   "execution_count": 20,
   "metadata": {
    "collapsed": true
   },
   "outputs": [],
   "source": [
    "#years in current job"
   ]
  },
  {
   "cell_type": "code",
   "execution_count": 21,
   "metadata": {},
   "outputs": [
    {
     "data": {
      "text/plain": [
       "array(['10+ years', '4 years', '6 years', '5 years', 'n/a', '3 years',\n",
       "       '2 years', '< 1 year', '1 year', '7 years', '9 years', '8 years'], dtype=object)"
      ]
     },
     "execution_count": 21,
     "metadata": {},
     "output_type": "execute_result"
    }
   ],
   "source": [
    "loan['Years_in_current_job'].unique()"
   ]
  },
  {
   "cell_type": "code",
   "execution_count": 22,
   "metadata": {},
   "outputs": [
    {
     "data": {
      "image/png": "[encoded data removed]",
      "text/plain": [
       "<matplotlib.figure.Figure at 0x1188b3128>"
      ]
     },
     "metadata": {},
     "output_type": "display_data"
    }
   ],
   "source": [
    "sns.set(style=\"darkgrid\")\n",
    "sns.countplot(x='Years_in_current_job',hue='Loan_Status',data=loan);"
   ]
  },
  {
   "cell_type": "markdown",
   "metadata": {},
   "source": [
    "For those who has work in the same job longer, they are more likely to pay off their loan. \n",
    "Therefore, Years in current job will be used as an important attribute to tell customer quality."
   ]
  },
  {
   "cell_type": "markdown",
   "metadata": {},
   "source": [
    "# Fill in the missing value:"
   ]
  },
  {
   "cell_type": "code",
   "execution_count": 23,
   "metadata": {},
   "outputs": [
    {
     "data": {
      "text/plain": [
       "Loan_ID                              0\n",
       "Customer_ID                          0\n",
       "Loan_Status                          0\n",
       "Current_Loan_Amount                  0\n",
       "Term                                 0\n",
       "Credit_Score                     61676\n",
       "Years_in_current_job                 0\n",
       "Home_Ownership                       0\n",
       "Annual_Income                    61676\n",
       "Purpose                              0\n",
       "Monthly_Debt                         0\n",
       "Years_of_Credit_History              0\n",
       "Months_since_last_delinquent    140383\n",
       "Number_of_Open_Accounts              0\n",
       "Number_of_Credit_Problems            0\n",
       "Current_Credit_Balance               0\n",
       "Maximum_Open_Credit                  0\n",
       "Bankruptcies                       529\n",
       "Tax_Liens                           23\n",
       "dtype: int64"
      ]
     },
     "execution_count": 23,
     "metadata": {},
     "output_type": "execute_result"
    }
   ],
   "source": [
    "loan.isnull().sum()"
   ]
  },
  {
   "cell_type": "code",
   "execution_count": 24,
   "metadata": {
    "scrolled": true
   },
   "outputs": [
    {
     "data": {
      "image/png": "[encoded data removed]",
      "text/plain": [
       "<matplotlib.figure.Figure at 0x1188b7eb8>"
      ]
     },
     "metadata": {},
     "output_type": "display_data"
    }
   ],
   "source": [
    "plt.figure(figsize=(15,8))\n",
    "sns.countplot(x=loan['Months_since_last_delinquent']);"
   ]
  },
  {
   "cell_type": "code",
   "execution_count": 25,
   "metadata": {
    "collapsed": true
   },
   "outputs": [],
   "source": [
    "#credit score-fix missing value: not gonna work"
   ]
  },
  {
   "cell_type": "code",
   "execution_count": 26,
   "metadata": {},
   "outputs": [],
   "source": [
    "#credit_score_clean=loan.groupby(['Maximum_Open_Credit','Years_of_Credit_History','Years_in_current_job',\"Monthly_Debt\"])"
   ]
  },
  {
   "cell_type": "code",
   "execution_count": 27,
   "metadata": {
    "collapsed": true
   },
   "outputs": [],
   "source": [
    "#credit_score_clean.Credit_Score.median()"
   ]
  },
  {
   "cell_type": "code",
   "execution_count": 28,
   "metadata": {},
   "outputs": [],
   "source": [
    "#loan['Credit_Score']=loan.groupby(['Years_of_Credit_History',\n",
    "#                                   'Years_in_current_job',\n",
    "#                                   \"Monthly_Debt\",\n",
    "#                                  'Maximum_Open_Credit']).transform(lambda x: x.fillna(x.median()))"
   ]
  },
  {
   "cell_type": "code",
   "execution_count": 31,
   "metadata": {
    "scrolled": true
   },
   "outputs": [
    {
     "data": {
      "text/plain": [
       "Loan_Status  Years_of_Credit_History  Maximum_Open_Credit\n",
       "Charged Off  4.2                      5551                    724.0\n",
       "                                      24945                   689.0\n",
       "             4.3                      12867                  6550.0\n",
       "                                      19059                   677.0\n",
       "                                      11817                   707.0\n",
       "             4.4                      4992                    678.0\n",
       "                                      6411                    726.0\n",
       "                                      13276                  3960.0\n",
       "             4.5                      1957                   3866.5\n",
       "                                      2247                    699.0\n",
       "                                      2833                    723.0\n",
       "                                      4524                   6700.0\n",
       "                                      4901                    713.0\n",
       "                                      4914                    706.0\n",
       "                                      6085                    619.0\n",
       "                                      7031                    660.0\n",
       "                                      7059                   3630.0\n",
       "                                      8620                   6220.0\n",
       "                                      9664                    705.0\n",
       "                                      10789                   723.0\n",
       "                                      13991                   702.0\n",
       "                                      15455                  3707.0\n",
       "                                      19450                  3712.5\n",
       "                                      53868                   703.0\n",
       "             4.6                      3152                    665.0\n",
       "                                      5330                    644.0\n",
       "                                      8338                   3795.0\n",
       "                                      9805                    700.0\n",
       "                                      10872                   714.0\n",
       "                                      15540                   718.0\n",
       "                                                              ...  \n",
       "Fully Paid   55.8                     11785                   724.0\n",
       "                                      29310                   736.0\n",
       "                                      33001                   723.0\n",
       "                                      49064                     NaN\n",
       "                                      53941                   744.0\n",
       "             56.5                     5429                      NaN\n",
       "                                      34229                     NaN\n",
       "             56.8                     19936                   743.0\n",
       "                                      79376                   702.0\n",
       "                                      97887                     NaN\n",
       "             57.0                     38514                     NaN\n",
       "             57.6                     34698                   745.0\n",
       "             57.7                     3416                      NaN\n",
       "                                      30736                     NaN\n",
       "             57.8                     18377                   729.0\n",
       "             58.8                     35323                   744.0\n",
       "             59.1                     10856                   688.0\n",
       "             59.9                     9596                    741.0\n",
       "             60.7                     30627                   733.0\n",
       "             61.3                     7733                    665.0\n",
       "             61.7                     0                       703.0\n",
       "                                      79240                   705.0\n",
       "             61.8                     37769                     NaN\n",
       "             62.5                     23593                   740.0\n",
       "                                      25113                   717.0\n",
       "             64.6                     32701                   738.0\n",
       "             65.0                     24712                     NaN\n",
       "             65.8                     24218                     NaN\n",
       "             66.0                     78078                   743.0\n",
       "             70.5                     0                       743.0\n",
       "Name: Credit_Score, Length: 214482, dtype: float64"
      ]
     },
     "execution_count": 31,
     "metadata": {},
     "output_type": "execute_result"
    }
   ],
   "source": [
    "credit_score_clean=loan.groupby([\"Loan_Status\",\"Years_of_Credit_History\",\"Maximum_Open_Credit\"])\n",
    "credit_score_clean.Credit_Score.median()"
   ]
  },
  {
   "cell_type": "code",
   "execution_count": 32,
   "metadata": {},
   "outputs": [],
   "source": [
    "loan['Credit_Score']=loan.groupby([\"Loan_Status\",\"Years_of_Credit_History\",\"Maximum_Open_Credit\"]).transform(lambda x: x.fillna(x.median()))"
   ]
  },
  {
   "cell_type": "code",
   "execution_count": null,
   "metadata": {},
   "outputs": [],
   "source": [
    "#Annual Income-Fill in missing data"
   ]
  },
  {
   "cell_type": "code",
   "execution_count": 33,
   "metadata": {
    "scrolled": true
   },
   "outputs": [
    {
     "data": {
      "text/plain": [
       "Loan_Status  Years_in_current_job  Maximum_Open_Credit  Current_Credit_Balance\n",
       "Charged Off  1 year                0                    0                          30633.0\n",
       "                                   776                  276                        35319.0\n",
       "                                   811                  550                        30414.0\n",
       "                                   999                  729                        14391.0\n",
       "                                   1013                 652                        38997.0\n",
       "                                   1017                 655                        39151.0\n",
       "                                   1081                 392                        98390.0\n",
       "                                   1093                 442                        34822.0\n",
       "                                   1095                 733                        74670.0\n",
       "                                   1191                 848                        49665.0\n",
       "                                   1209                 861                        50415.0\n",
       "                                   1220                 734                        37633.0\n",
       "                                   1279                 9                              NaN\n",
       "                                   1293                 389                        32845.0\n",
       "                                   1326                 692                        18353.0\n",
       "                                   1387                 884                        39636.0\n",
       "                                   1492                 1181                       99440.0\n",
       "                                   1532                 1248                           NaN\n",
       "                                   1576                 594                        68992.0\n",
       "                                   1585                 728                        17816.0\n",
       "                                   1587                 945                        42811.0\n",
       "                                   1603                 605                        70175.0\n",
       "                                   1621                 1172                      119569.0\n",
       "                                   1622                 934                        60876.0\n",
       "                                   1675                 1459                       23664.0\n",
       "                                   1686                 1162                       51542.0\n",
       "                                   1705                 1384                       35074.0\n",
       "                                   1757                 1706                       30007.0\n",
       "                                   1977                 712                        49345.0\n",
       "                                   1996                 1218                       17964.0\n",
       "                                                                                    ...   \n",
       "Fully Paid   n/a                   9010                 5595                           NaN\n",
       "                                   9026                 7943                       27465.0\n",
       "                                   9029                 4731                       45680.0\n",
       "                                   9049                 6751                       28171.0\n",
       "                                   9089                 309                        34792.0\n",
       "                                   91398                85914                          NaN\n",
       "                                   9149                 3092                        9084.0\n",
       "                                   9152                 4914                       38221.0\n",
       "                                   9208                 1022                           NaN\n",
       "                                   9275                 6344                           NaN\n",
       "                                   9283                 8847                       25900.0\n",
       "                                   9312                 3250                           NaN\n",
       "                                   9369                 37                         49704.0\n",
       "                                   93893                25539                      37805.0\n",
       "                                   9441                 5816                      134006.0\n",
       "                                   94437                18887                     249425.0\n",
       "                                   9470                 5824                           NaN\n",
       "                                   9525                 5277                       63830.0\n",
       "                                   9563                 1186                       39210.0\n",
       "                                   9585                 6825                       53596.0\n",
       "                                   9625                 1819                       25320.0\n",
       "                                   96484                6947                           NaN\n",
       "                                   97544                63988                      91540.0\n",
       "                                   9807                 2461                       25457.0\n",
       "                                   9835                 4160                       47243.0\n",
       "                                   99212                38197                      92598.0\n",
       "                                   9939                 9333                       52245.0\n",
       "                                   9988                 5144                       32006.0\n",
       "                                   9999                 7389                           NaN\n",
       "                                                        8560                       26872.0\n",
       "Name: Annual_Income, Length: 215417, dtype: float64"
      ]
     },
     "execution_count": 33,
     "metadata": {},
     "output_type": "execute_result"
    }
   ],
   "source": [
    "Annual_income_clean=loan.groupby([\"Loan_Status\",\"Years_in_current_job\",\"Maximum_Open_Credit\",\"Current_Credit_Balance\"])\n",
    "Annual_income_clean.Annual_Income.median()"
   ]
  },
  {
   "cell_type": "code",
   "execution_count": 34,
   "metadata": {},
   "outputs": [],
   "source": [
    "loan['Annual_Income']=loan.groupby([\"Loan_Status\",\n",
    "                                    \"Years_in_current_job\",\n",
    "                                    \"Maximum_Open_Credit\",\n",
    "                                    \"Current_Credit_Balance\"]).transform(lambda x: x.fillna(x.median()))"
   ]
  },
  {
   "cell_type": "code",
   "execution_count": null,
   "metadata": {
    "collapsed": true
   },
   "outputs": [],
   "source": [
    "#tax liens-Fill Missing Value"
   ]
  },
  {
   "cell_type": "code",
   "execution_count": 35,
   "metadata": {},
   "outputs": [
    {
     "data": {
      "text/plain": [
       "array([  0.,   5.,  nan,   1.,   2.,   4.,   3.,   6.,   7.,   9.,   8.,\n",
       "        10.,  11.])"
      ]
     },
     "execution_count": 35,
     "metadata": {},
     "output_type": "execute_result"
    }
   ],
   "source": [
    "loan['Tax_Liens'].unique()"
   ]
  },
  {
   "cell_type": "code",
   "execution_count": 36,
   "metadata": {
    "scrolled": true
   },
   "outputs": [
    {
     "data": {
      "image/png": "[encoded data removed]",
      "text/plain": [
       "<matplotlib.figure.Figure at 0x163383940>"
      ]
     },
     "metadata": {},
     "output_type": "display_data"
    }
   ],
   "source": [
    "#Plot to see whether tax_liens will correlate with the loan status\n",
    "plt.figure(figsize=(15,8))\n",
    "sns.countplot(x=loan[loan['Tax_Liens']!=0.0]['Tax_Liens'],hue=loan['Loan_Status']);"
   ]
  },
  {
   "cell_type": "markdown",
   "metadata": {},
   "source": [
    "### <font color='blue'>I decided to drop off \"tax liens\" attribute.</font><br>\n",
    "I first check how many unique values under this attribute. turns out not that much \n",
    "I understand that doesn't matter how many times you get tax liens punishment, there are still same ratio of \"fully paid\" people and \"charged off\" people."
   ]
  },
  {
   "cell_type": "code",
   "execution_count": 37,
   "metadata": {},
   "outputs": [],
   "source": [
    "del loan['Tax_Liens']"
   ]
  },
  {
   "cell_type": "code",
   "execution_count": 38,
   "metadata": {
    "collapsed": true
   },
   "outputs": [],
   "source": [
    "# Months since last delinquent-Fill in Missing"
   ]
  },
  {
   "cell_type": "code",
   "execution_count": 39,
   "metadata": {},
   "outputs": [
    {
     "data": {
      "text/plain": [
       "0.54627136319770886"
      ]
     },
     "execution_count": 39,
     "metadata": {},
     "output_type": "execute_result"
    }
   ],
   "source": [
    "# I want to see how mange percentage of data missing under this attribute\n",
    "loan['Months_since_last_delinquent'].isnull().sum()/loan['Months_since_last_delinquent'].shape[0]"
   ]
  },
  {
   "cell_type": "code",
   "execution_count": 40,
   "metadata": {},
   "outputs": [],
   "source": [
    "del loan['Months_since_last_delinquent']"
   ]
  },
  {
   "cell_type": "markdown",
   "metadata": {},
   "source": [
    "### <font color='blue'> I decide to drop off the 'Months_since_last_delinquent' attribute.</font><br>\n",
    "Months since last delinquent has 54% of missing data. With so many missing data, I don't think any fill in missing value techniques will help to recover the original distribution. "
   ]
  },
  {
   "cell_type": "code",
   "execution_count": 41,
   "metadata": {
    "collapsed": true
   },
   "outputs": [],
   "source": [
    "#Bankruptcies-Fill in Missing"
   ]
  },
  {
   "cell_type": "code",
   "execution_count": 42,
   "metadata": {},
   "outputs": [
    {
     "data": {
      "image/png": "[encoded data removed]",
      "text/plain": [
       "<matplotlib.figure.Figure at 0x117996588>"
      ]
     },
     "metadata": {},
     "output_type": "display_data"
    }
   ],
   "source": [
    "#Check how many unique values under 'Bankruptcies'\n",
    "loan['Bankruptcies'].unique()\n",
    "#check how the distribution of those values:\n",
    "plt.figure(figsize=(15,8))\n",
    "sns.set(style=\"darkgrid\")\n",
    "sns.countplot(x='Bankruptcies',hue='Loan_Status',data=loan);"
   ]
  },
  {
   "cell_type": "code",
   "execution_count": 43,
   "metadata": {
    "scrolled": true
   },
   "outputs": [],
   "source": [
    "#Since majority of them are 0. No bankrupt so I will fill in the missing value with 0\n",
    "loan.Bankruptcies.fillna(0,inplace=True)"
   ]
  },
  {
   "cell_type": "code",
   "execution_count": 44,
   "metadata": {
    "scrolled": false
   },
   "outputs": [
    {
     "data": {
      "text/plain": [
       "Loan_ID                      0\n",
       "Customer_ID                  0\n",
       "Loan_Status                  0\n",
       "Current_Loan_Amount          0\n",
       "Term                         0\n",
       "Credit_Score                 0\n",
       "Years_in_current_job         0\n",
       "Home_Ownership               0\n",
       "Annual_Income                0\n",
       "Purpose                      0\n",
       "Monthly_Debt                 0\n",
       "Years_of_Credit_History      0\n",
       "Number_of_Open_Accounts      0\n",
       "Number_of_Credit_Problems    0\n",
       "Current_Credit_Balance       0\n",
       "Maximum_Open_Credit          0\n",
       "Bankruptcies                 0\n",
       "dtype: int64"
      ]
     },
     "execution_count": 44,
     "metadata": {},
     "output_type": "execute_result"
    }
   ],
   "source": [
    "loan.isnull().sum()"
   ]
  },
  {
   "cell_type": "code",
   "execution_count": 45,
   "metadata": {
    "collapsed": true
   },
   "outputs": [],
   "source": [
    "loan.to_excel('loan_cleaned.xlsx')"
   ]
  },
  {
   "cell_type": "markdown",
   "metadata": {},
   "source": [
    "# ---------------------------Data Cleaning Part Finished------------------------"
   ]
  }
 ],
 "metadata": {
  "kernelspec": {
   "display_name": "Python 3",
   "language": "python",
   "name": "python3"
  },
  "language_info": {
   "codemirror_mode": {
    "name": "ipython",
    "version": 3
   },
   "file_extension": ".py",
   "mimetype": "text/x-python",
   "name": "python",
   "nbconvert_exporter": "python",
   "pygments_lexer": "ipython3",
   "version": "3.6.1"
  }
 },
 "nbformat": 4,
 "nbformat_minor": 2
}
